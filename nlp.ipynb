{
<<<<<<< HEAD
 "cells": [
  {
   "cell_type": "code",
   "execution_count": 2,
   "metadata": {
    "scrolled": true
   },
   "outputs": [],
   "source": [
    "import json\n",
    "import nltk\n",
    "import numpy as np\n",
    "# from __future__ import unicode_literals\n",
    "from hazm import *\n",
    "import pandas as pd\n",
    "from collections import OrderedDict\n",
    "from sklearn.model_selection import train_test_split \n",
    "from sklearn.preprocessing import LabelEncoder\n",
    "from sklearn.feature_extraction.text import CountVectorizer,TfidfVectorizer\n",
    "from sklearn.naive_bayes import MultinomialNB\n",
    "import collections\n",
    "import re"
   ]
  },
  {
   "cell_type": "code",
   "execution_count": 3,
   "metadata": {},
   "outputs": [
    {
     "name": "stdout",
     "output_type": "stream",
     "text": [
      "There is 1000 item available\n"
     ]
    }
   ],
   "source": [
    "file = open('out.jsonl', 'r')\n",
    "s = file.readlines()\n",
    "\n",
    "\n",
    "print('There is {} item available'.format(len(s)))"
   ]
  },
  {
   "cell_type": "markdown",
   "metadata": {},
   "source": [
    "##  Json example:\n",
    "   \n",
    "\n",
    "```\n",
    "{\n",
    "  \"_id\": \"5b4f7280020eb20597f40200\",\n",
    "  \"NewsAgency\": \"AsrIran\",\n",
    "  \"newsCode\": \"621582\",\n",
    "  \"newsLink\": \"http://www.asriran.com/fa/news/621582\",\n",
    "  \"date\": \"تاریخ انتشار:  ۱۴:۴۷ - ۲۷ تير ۱۳۹۷ - 18 July 2018\",\n",
    "  \"newsPath\": \"صفحه نخست » اقتصادی\",\n",
    "  \"newsPathLinks\": {\n",
    "    \"صفحه نخست\": \"/fa/archive?service_id=1\",\n",
    "    \"اقتصادی\": \"/fa/archive?service_id=1&amp;cat_id=4\"\n",
    "  },\n",
    "  \"title\": \"تعداد شعب داخلی شبکه بانکي کاهش یافت\",\n",
    "  \"rutitr\": \"\",\n",
    "  \"subtitle\": \"تعداد کل شعب داخل کشور شبکه بانکي در پایان خرداد ماه 1397، به 20598 شعبه ‌رسيد.\",\n",
    "  \"body\": \"تعداد کل شعب داخل کشور شبکه بانکي در پایان خرداد ماه 1397 نسبت به پايان اسفند ماه&nbsp; 1396، 0.6 درصد کاهش یافت.به گزارش عصرایران به نقل از بانک مرکزی، تعداد کل شعب داخل کشور شبکه بانکي در پایان خرداد ماه 1397، به&nbsp; 20598&nbsp; شعبه &zwnj;رسيد.بر این اساس و در پایان خرداد ماه 1397، تعداد شعب بانک هاي دولتي 8681 شعبه ( 42.1 درصد) ، بانک هاي خصوصي شده 6461 شعبه ( 31.4 درصد) و بانک هاي خصوصي و موسسات اعتباري 5456 شعبه ( 26.5 درصد) است.همچنین تعداد کل شعب ريالي ـ ارزي شبکه بانکي کشور بالغ بر 3787 شعبه، تعداد شعب شهري 19735 و شعب روستايي 863 شعبه است.بر اساس این گزارش تعداد شعب خارج از کشور شبکه بانکي تعداد 48 شعبه و تعداد باجه هاي بانکي کشور در پايان خرداد ماه 1397 تعداد 2274&nbsp; باجه است و213 شعبه بانکی نیز در مناطق آزاد تجاري قرار دارند.بررسی تعداد شعب داخل کشور بانک ها و موسسات اعتباری&nbsp; به تفکیک استانی در پایان خرداد ماه سال 1397 نیز نشان می دهد که استان&zwnj;هاي تهران، اصفــهان و خراسان رضوي به &zwnj;ترتيب با 4049، 1431 و 1318 شعبه داراي بيشترين تعداد شعب هستند.گزارش فصلی &laquo;اطلاعات تعداد شعب بانک ها&nbsp; و موسسات اعتباری&raquo; توسط اداره اطلاعات بانکی بانک مرکزی تهیه و در آن تعداد شعب&nbsp; بانک ها و موسسات اعتباری به تفکیک گروه های بانکی و استانی اعلام می شود.\",\n",
    "  \"bodyHtml\": \" <div align=\\\"justify\\\"><img class=\\\"image_btn\\\" style=\\\"margin: 0px 14px;\\\" title=\\\"تعداد شعب داخلی شبکه بانکي کاهش یافت\\\" src=\\\"http://cdn.asriran.com/files/fa/news/1397/4/27/875553_322.jpg\\\" alt=\\\"تعداد شعب داخلی شبکه بانکي کاهش یافت\\\" width=\\\"250\\\" height=\\\"169\\\" align=\\\"left\\\"/>تعداد کل شعب داخل کشور شبکه بانکي در پایان خرداد ماه 1397 نسبت به پايان اسفند ماه&nbsp; 1396، 0.6 درصد کاهش یافت.<br/><br/>به گزارش <span style=\\\"color: #0000cd;\\\">عصرایران</span> به نقل از بانک مرکزی، تعداد کل شعب داخل کشور شبکه بانکي در پایان خرداد ماه 1397، به&nbsp; 20598&nbsp; شعبه &zwnj;رسيد.<br/><br/>بر این اساس و در پایان خرداد ماه 1397، تعداد شعب بانک هاي دولتي 8681 شعبه ( 42.1 درصد) ، بانک هاي خصوصي شده 6461 شعبه ( 31.4 درصد) و بانک هاي خصوصي و موسسات اعتباري 5456 شعبه ( 26.5 درصد) است.<br/><br/>همچنین تعداد کل شعب ريالي ـ ارزي شبکه بانکي کشور بالغ بر 3787 شعبه، تعداد شعب شهري 19735 و شعب روستايي 863 شعبه است.<br/><br/><img class=\\\"image_btn\\\" style=\\\"margin: 0px auto; display: block;\\\" title=\\\"تعداد شعب داخلی شبکه بانکي کاهش یافت\\\" src=\\\"http://cdn.asriran.com/files/fa/news/1397/4/27/875556_701.jpg\\\" alt=\\\"تعداد شعب داخلی شبکه بانکي کاهش یافت\\\" width=\\\"404\\\" height=\\\"300\\\" align=\\\"\\\"/><br/><br/>بر اساس این گزارش تعداد شعب خارج از کشور شبکه بانکي تعداد 48 شعبه و تعداد باجه هاي بانکي کشور در پايان خرداد ماه 1397 تعداد 2274&nbsp; باجه است و213 شعبه بانکی نیز در مناطق آزاد تجاري قرار دارند.<br/><br/>بررسی تعداد شعب داخل کشور بانک ها و موسسات اعتباری&nbsp; به تفکیک استانی در پایان خرداد ماه سال 1397 نیز نشان می دهد که استان&zwnj;هاي تهران، اصفــهان و خراسان رضوي به &zwnj;ترتيب با 4049، 1431 و 1318 شعبه داراي بيشترين تعداد شعب هستند.<br/><br/>گزارش فصلی &laquo;اطلاعات تعداد شعب بانک ها&nbsp; و موسسات اعتباری&raquo; توسط اداره اطلاعات بانکی بانک مرکزی تهیه و در آن تعداد شعب&nbsp; بانک ها و موسسات اعتباری به تفکیک گروه های بانکی و استانی اعلام می شود.</div> <div class=\\\"wrapper\\\"/> \",\n",
    "  \"tags\": {\n",
    "    \"بانک مرکزی\": \"/fa/tag/1/بانک مرکزی\",\n",
    "    \"شعب داخلی\": \"/fa/tag/1/شعب داخلی\"\n",
    "  }\n",
    "}\n",
    "\n",
    "```\n",
    "\n"
   ]
  },
  {
   "cell_type": "markdown",
   "metadata": {},
   "source": [
    "## Load jsons into Dataframe"
   ]
  },
  {
   "cell_type": "code",
   "execution_count": 4,
   "metadata": {},
   "outputs": [
    {
     "data": {
      "text/html": [
       "<div>\n",
       "<style scoped>\n",
       "    .dataframe tbody tr th:only-of-type {\n",
       "        vertical-align: middle;\n",
       "    }\n",
       "\n",
       "    .dataframe tbody tr th {\n",
       "        vertical-align: top;\n",
       "    }\n",
       "\n",
       "    .dataframe thead th {\n",
       "        text-align: right;\n",
       "    }\n",
       "</style>\n",
       "<table border=\"1\" class=\"dataframe\">\n",
       "  <thead>\n",
       "    <tr style=\"text-align: right;\">\n",
       "      <th></th>\n",
       "      <th>body</th>\n",
       "      <th>newsAgency</th>\n",
       "      <th>newsPath</th>\n",
       "      <th>tag</th>\n",
       "      <th>title</th>\n",
       "    </tr>\n",
       "  </thead>\n",
       "  <tbody>\n",
       "    <tr>\n",
       "      <th>0</th>\n",
       "      <td>مدیرعامل سابق استقلال از عضویت در هیات مدیره ا...</td>\n",
       "      <td>AsrIran</td>\n",
       "      <td>ورزشی</td>\n",
       "      <td>استقلال</td>\n",
       "      <td>افتخاری قید ماندن در هیات مدیره استقلال را هم زد</td>\n",
       "    </tr>\n",
       "    <tr>\n",
       "      <th>1</th>\n",
       "      <td>دادستان انتظامی مالیاتی سازمان امور مالیاتی گف...</td>\n",
       "      <td>AsrIran</td>\n",
       "      <td>اجتماعی</td>\n",
       "      <td>مالیات</td>\n",
       "      <td>دادستان انتظامی مالیاتی سازمان مالیات: آخرین ا...</td>\n",
       "    </tr>\n",
       "    <tr>\n",
       "      <th>2</th>\n",
       "      <td>قیمت سبد نفتی اوپک دیروز به روند کاهشی خود ادا...</td>\n",
       "      <td>AsrIran</td>\n",
       "      <td>اقتصادی</td>\n",
       "      <td>اوپک</td>\n",
       "      <td>قیمت سبد نفتی اوپک یک گام دیگر عقب نشست/ 70 دل...</td>\n",
       "    </tr>\n",
       "    <tr>\n",
       "      <th>3</th>\n",
       "      <td>رئیس فراکسیون فرهنگیان مجلس خطاب به وزیر آموزش...</td>\n",
       "      <td>AsrIran</td>\n",
       "      <td>اجتماعی</td>\n",
       "      <td>آموزش و پرورش</td>\n",
       "      <td>حاجی‌بابایی به بطحایی:آقای وزیر در اطلاع‌رسانی...</td>\n",
       "    </tr>\n",
       "    <tr>\n",
       "      <th>4</th>\n",
       "      <td>رئیس صندوق بین&amp;zwnj;المللی پول در آستانه نشست ...</td>\n",
       "      <td>AsrIran</td>\n",
       "      <td>بین الملل</td>\n",
       "      <td>صندوق بین المللی پول</td>\n",
       "      <td>رئیس صندوق بین‌المللی پول: آمریکا از جنگ تعرفه...</td>\n",
       "    </tr>\n",
       "  </tbody>\n",
       "</table>\n",
       "</div>"
      ],
      "text/plain": [
       "                                                body newsAgency   newsPath  \\\n",
       "0  مدیرعامل سابق استقلال از عضویت در هیات مدیره ا...    AsrIran      ورزشی   \n",
       "1  دادستان انتظامی مالیاتی سازمان امور مالیاتی گف...    AsrIran    اجتماعی   \n",
       "2  قیمت سبد نفتی اوپک دیروز به روند کاهشی خود ادا...    AsrIran    اقتصادی   \n",
       "3  رئیس فراکسیون فرهنگیان مجلس خطاب به وزیر آموزش...    AsrIran    اجتماعی   \n",
       "4  رئیس صندوق بین&zwnj;المللی پول در آستانه نشست ...    AsrIran  بین الملل   \n",
       "\n",
       "                    tag                                              title  \n",
       "0               استقلال   افتخاری قید ماندن در هیات مدیره استقلال را هم زد  \n",
       "1                مالیات  دادستان انتظامی مالیاتی سازمان مالیات: آخرین ا...  \n",
       "2                  اوپک  قیمت سبد نفتی اوپک یک گام دیگر عقب نشست/ 70 دل...  \n",
       "3         آموزش و پرورش  حاجی‌بابایی به بطحایی:آقای وزیر در اطلاع‌رسانی...  \n",
       "4  صندوق بین المللی پول  رئیس صندوق بین‌المللی پول: آمریکا از جنگ تعرفه...  "
      ]
     },
     "execution_count": 4,
     "metadata": {},
     "output_type": "execute_result"
    }
   ],
   "source": [
    "def prepare_json(j):\n",
    "#     clear newsPath\n",
    "    newsPath = j['newsPath']\n",
    "    newsPath = newsPath.replace('عصرايران دو » ','')\n",
    "    newsPath = newsPath.replace('صفحه نخست » ','')\n",
    "    j['newsPath'] = newsPath\n",
    "\n",
    "    \n",
    "    \n",
    "    return j\n",
    "    \n",
    "        \n",
    "raw_data = []\n",
    "for item in s:\n",
    "    try:\n",
    "        j = json.loads(item)\n",
    "\n",
    "        prepare_json(j)\n",
    "#         print(list(j['tags'].keys())[0])\n",
    "        raw_data.append({'title': j['title'], 'body':j['body'], 'newsAgency': j['NewsAgency'],\n",
    "                         'newsPath':j['newsPath'], 'tag':list(j['tags'].keys())[0] })\n",
    "    except:\n",
    "        pass\n",
    "df = pd.DataFrame(raw_data)\n",
    "df.head()"
   ]
  },
  {
   "cell_type": "markdown",
   "metadata": {},
   "source": [
    "# Encoding categorical features "
   ]
  },
  {
   "cell_type": "code",
   "execution_count": 9,
   "metadata": {},
   "outputs": [
    {
     "data": {
      "text/html": [
       "<div>\n",
       "<style scoped>\n",
       "    .dataframe tbody tr th:only-of-type {\n",
       "        vertical-align: middle;\n",
       "    }\n",
       "\n",
       "    .dataframe tbody tr th {\n",
       "        vertical-align: top;\n",
       "    }\n",
       "\n",
       "    .dataframe thead th {\n",
       "        text-align: right;\n",
       "    }\n",
       "</style>\n",
       "<table border=\"1\" class=\"dataframe\">\n",
       "  <thead>\n",
       "    <tr style=\"text-align: right;\">\n",
       "      <th></th>\n",
       "      <th>title</th>\n",
       "      <th>body</th>\n",
       "      <th>newsAgency</th>\n",
       "      <th>tag</th>\n",
       "    </tr>\n",
       "  </thead>\n",
       "  <tbody>\n",
       "    <tr>\n",
       "      <th>0</th>\n",
       "      <td>افتخاری قید ماندن در هیات مدیره استقلال را هم زد</td>\n",
       "      <td>مدیرعامل سابق استقلال از عضویت در هیات مدیره ا...</td>\n",
       "      <td>0</td>\n",
       "      <td>استقلال</td>\n",
       "    </tr>\n",
       "    <tr>\n",
       "      <th>1</th>\n",
       "      <td>دادستان انتظامی مالیاتی سازمان مالیات: آخرین ا...</td>\n",
       "      <td>دادستان انتظامی مالیاتی سازمان امور مالیاتی گف...</td>\n",
       "      <td>0</td>\n",
       "      <td>مالیات</td>\n",
       "    </tr>\n",
       "    <tr>\n",
       "      <th>2</th>\n",
       "      <td>قیمت سبد نفتی اوپک یک گام دیگر عقب نشست/ 70 دل...</td>\n",
       "      <td>قیمت سبد نفتی اوپک دیروز به روند کاهشی خود ادا...</td>\n",
       "      <td>0</td>\n",
       "      <td>اوپک</td>\n",
       "    </tr>\n",
       "    <tr>\n",
       "      <th>3</th>\n",
       "      <td>حاجی‌بابایی به بطحایی:آقای وزیر در اطلاع‌رسانی...</td>\n",
       "      <td>رئیس فراکسیون فرهنگیان مجلس خطاب به وزیر آموزش...</td>\n",
       "      <td>0</td>\n",
       "      <td>آموزش و پرورش</td>\n",
       "    </tr>\n",
       "    <tr>\n",
       "      <th>4</th>\n",
       "      <td>رئیس صندوق بین‌المللی پول: آمریکا از جنگ تعرفه...</td>\n",
       "      <td>رئیس صندوق بین&amp;zwnj;المللی پول در آستانه نشست ...</td>\n",
       "      <td>0</td>\n",
       "      <td>صندوق بین المللی پول</td>\n",
       "    </tr>\n",
       "  </tbody>\n",
       "</table>\n",
       "</div>"
      ],
      "text/plain": [
       "                                               title  \\\n",
       "0   افتخاری قید ماندن در هیات مدیره استقلال را هم زد   \n",
       "1  دادستان انتظامی مالیاتی سازمان مالیات: آخرین ا...   \n",
       "2  قیمت سبد نفتی اوپک یک گام دیگر عقب نشست/ 70 دل...   \n",
       "3  حاجی‌بابایی به بطحایی:آقای وزیر در اطلاع‌رسانی...   \n",
       "4  رئیس صندوق بین‌المللی پول: آمریکا از جنگ تعرفه...   \n",
       "\n",
       "                                                body  newsAgency  \\\n",
       "0  مدیرعامل سابق استقلال از عضویت در هیات مدیره ا...           0   \n",
       "1  دادستان انتظامی مالیاتی سازمان امور مالیاتی گف...           0   \n",
       "2  قیمت سبد نفتی اوپک دیروز به روند کاهشی خود ادا...           0   \n",
       "3  رئیس فراکسیون فرهنگیان مجلس خطاب به وزیر آموزش...           0   \n",
       "4  رئیس صندوق بین&zwnj;المللی پول در آستانه نشست ...           0   \n",
       "\n",
       "                    tag  \n",
       "0               استقلال  \n",
       "1                مالیات  \n",
       "2                  اوپک  \n",
       "3         آموزش و پرورش  \n",
       "4  صندوق بین المللی پول  "
      ]
     },
     "execution_count": 9,
     "metadata": {},
     "output_type": "execute_result"
    }
   ],
   "source": [
    "categories = ['newsAgency','newsPath']\n",
    "\n",
    "le = LabelEncoder()\n",
    "df[categories] = df[categories].apply(le.fit_transform)\n",
    "\n",
    "\n",
    "\n",
    "\n",
    "X = df[['title','body','newsAgency','tag']]\n",
    "y = df['newsPath']\n",
    "\n",
    "X.head()\n",
    "# y.head()"
   ]
  },
  {
   "cell_type": "markdown",
   "metadata": {},
   "source": [
    "# split Trainset and Testset"
   ]
  },
  {
   "cell_type": "code",
   "execution_count": 10,
   "metadata": {},
   "outputs": [
    {
     "name": "stdout",
     "output_type": "stream",
     "text": [
      "Train size:  698\n",
      "Test size :  300\n"
     ]
    }
   ],
   "source": [
    "X_train, X_test, y_train, y_test = train_test_split(X,y, test_size=0.3, random_state=42)\n",
    "\n",
    "print('Train size: ',len(X_train))\n",
    "print('Test size : ',len(X_test))"
   ]
  },
  {
   "cell_type": "code",
   "execution_count": 11,
   "metadata": {},
   "outputs": [],
   "source": [
    "def calculate_classes_probebility(words_class_dict, N_document):\n",
    "    '''\n",
    "    P(Ci) = (number of document in class 'i') / N_document\n",
    "    \n",
    "    @param words_class_dict : dictionary which keys are classes and values are number of words in that class\n",
    "    @param N_document : number of all words \n",
    "    \n",
    "    @return : dictionary which keys are classes and values are probebility of each class\n",
    "    \n",
    "    \n",
    "    example: calculate_classes_probebility({'0':10,'1':20,'2':15}, 45)\n",
    "    '''\n",
    "    \n",
    "    \n",
    "    probs = {}\n",
    "    \n",
    "    for class_name, doc_num in words_class_dict.items():\n",
    "        probs[class_name] = doc_num/N_document\n",
    "        \n",
    "    return probs\n",
    "\n",
    "\n",
    "def calculate_likelihood_of_word(word_class_dict, class_doc_count_dict):\n",
    "    '''\n",
    "    P(Wi|Cj) = (number of Wi in class 'j') / (total number of words in class 'Cj')\n",
    "    \n",
    "    @param word_class_dict : dictionary which keys are classes and values are number of words in that class\n",
    "    @param class_doc_count_dict : number of all words \n",
    "    \n",
    "    @return : dictionary which keys are words and values are probebility of each class\n",
    "    \n",
    "    \n",
    "    \n",
    "    '''"
   ]
  },
  {
   "cell_type": "code",
   "execution_count": 12,
   "metadata": {},
   "outputs": [
    {
     "data": {
      "text/plain": [
       "{'0': 0.2222222222222222, '1': 0.4444444444444444, '2': 0.3333333333333333}"
      ]
     },
     "execution_count": 12,
     "metadata": {},
     "output_type": "execute_result"
    }
   ],
   "source": [
    "calculate_classes_probebility({'0':10,'1':20,'2':15},45)"
   ]
  },
  {
   "cell_type": "markdown",
   "metadata": {},
   "source": []
  },
  {
   "cell_type": "code",
   "execution_count": 15,
   "metadata": {},
   "outputs": [],
   "source": [
    "def preprocess(data):\n",
    "    normalizer = Normalizer()\n",
    "    stemmer = Stemmer()\n",
    "    lemmatizer = Lemmatizer()\n",
    "    \n",
    "    final_tokens = []\n",
    "\n",
    "    for item in data:\n",
    "        for sent in sent_tokenize(item):\n",
    "            sent = normalizer.normalize(sent)\n",
    "            tokens = word_tokenize(sent) \n",
    "#             stems = []\n",
    "#             lemas = []\n",
    "#             print(tokens)\n",
    "\n",
    "            for t in tokens:\n",
    "                final_tokens.append(stemmer.stem(t))\n",
    "#                 lemas.append(lemmatizer.lemmatize(stems))\n",
    "#             print(stems)\n",
    "#             print('-------------------------------------------------------')\n",
    "    return final_tokens"
   ]
  },
  {
   "cell_type": "code",
   "execution_count": 33,
   "metadata": {},
   "outputs": [
    {
     "name": "stdout",
     "output_type": "stream",
     "text": [
      "[[0 0 0 ... 0 0 0]\n",
      " [0 0 0 ... 0 0 0]\n",
      " [0 0 0 ... 0 0 0]\n",
      " ...\n",
      " [0 0 0 ... 0 0 0]\n",
      " [0 0 0 ... 0 0 0]\n",
      " [0 0 0 ... 0 0 0]]\n",
      "*******\n"
     ]
    },
    {
     "data": {
      "text/plain": [
       "(299, 3423)"
      ]
     },
     "execution_count": 33,
     "metadata": {},
     "output_type": "execute_result"
    }
   ],
   "source": [
    "\n",
    "\n",
    "vectorizer = CountVectorizer()\n",
    "data_corpus = X['title'].values\n",
    "# test_corpus = X_test['title'].values\n",
    "\n",
    "\n",
    "# labeled_features = dict(zip(data_corpus , y_train.values))\n",
    "\n",
    "\n",
    "# data_corpus = preprocess(data_corpus)\n",
    "\n",
    "words = vectorizer.fit_transform(data_corpus) \n",
    "# test_words = vectorizer.fit_transform(test_corpus)\n",
    "\n",
    "print(words.toarray())\n",
    "print('*******')\n",
    "# print(test_words.toarray())\n",
    "# labeled_features.items\n",
    "# print(vectorizer.get_feature_names())\n",
    "# print(all_words_in_title)\n",
    "# sum(words.toarray()[4])\n",
    "words[699:].shape\n"
   ]
  },
  {
   "cell_type": "code",
   "execution_count": 42,
   "metadata": {},
   "outputs": [
    {
     "data": {
      "text/plain": [
       "MultinomialNB(alpha=1.0, class_prior=None, fit_prior=True)"
      ]
     },
     "execution_count": 42,
     "metadata": {},
     "output_type": "execute_result"
    }
   ],
   "source": [
    "classifier = MultinomialNB()\n",
    "\n",
    "classifier.fit(words[0:698].toarray(),y_train.values)\n",
    "\n"
   ]
  },
  {
   "cell_type": "code",
   "execution_count": 39,
   "metadata": {},
   "outputs": [
    {
     "data": {
      "text/plain": [
       "50"
      ]
     },
     "execution_count": 39,
     "metadata": {},
     "output_type": "execute_result"
    }
   ],
   "source": [
    "predict = classifier.predict(words[699:].toarray())\n",
    "sum(predict == y_test)"
   ]
  },
  {
   "cell_type": "markdown",
   "metadata": {},
   "source": [
    "\n",
    "# TFIDF "
   ]
  },
  {
   "cell_type": "code",
   "execution_count": 223,
   "metadata": {},
   "outputs": [],
   "source": [
    "data_corpus = X_train['title'].values\n",
    "# data_corpus = [re.sub('([0-9])+','00number00',data) for data in data_corpus]\n",
    "\n",
    "tfidf = TfidfVectorizer(min_df=2, max_df=0.5,ngram_range=(1,0))\n",
    "features = tfidf.fit_transform(data_corpus)\n",
    "\n",
    "tfidf_values = pd.DataFrame(features.todense(),columns=tfidf.get_feature_names())\n",
    "\n",
    "\n",
    "test_corpus = X_test['title'].values\n",
    "# data_corpus = [re.sub('([0-9])+','00number00',data) for data in data_corpus]\n",
    "\n",
    "test_tfidf = TfidfVectorizer(min_df=2, max_df=0.5,ngram_range=(1,0))\n",
    "test_features = test_tfidf.fit_transform(test_corpus)\n",
    "\n",
    "test_tfidf_values = pd.DataFrame(test_features.todense(), columns=test_tfidf.get_feature_names())\n"
   ]
  },
  {
   "cell_type": "code",
   "execution_count": 228,
   "metadata": {},
   "outputs": [
    {
     "data": {
      "text/plain": [
       "(698, 1076)"
      ]
     },
     "execution_count": 228,
     "metadata": {},
     "output_type": "execute_result"
    }
   ],
   "source": [
    "tfidf_values.shape"
   ]
  },
  {
   "cell_type": "code",
   "execution_count": 225,
   "metadata": {},
   "outputs": [
    {
     "data": {
      "text/plain": [
       "MultinomialNB(alpha=1.0, class_prior=None, fit_prior=True)"
      ]
     },
     "execution_count": 225,
     "metadata": {},
     "output_type": "execute_result"
    }
   ],
   "source": [
    "classifier = MultinomialNB()\n",
    "\n",
    "classifier.fit(tfidf_values ,y_train.values)\n",
    "\n"
   ]
  },
  {
   "cell_type": "code",
   "execution_count": 229,
   "metadata": {},
   "outputs": [
    {
     "ename": "ValueError",
     "evalue": "could not convert string to float: 'قاچاق بنزین رونق گرفت/ خرید و فروش کارت سوخت با قیمت 30 تا 50 هزار تومان!'",
     "output_type": "error",
     "traceback": [
      "\u001b[0;31m---------------------------------------------------------------------------\u001b[0m",
      "\u001b[0;31mValueError\u001b[0m                                Traceback (most recent call last)",
      "\u001b[0;32m<ipython-input-229-7b6098ed8d7c>\u001b[0m in \u001b[0;36m<module>\u001b[0;34m()\u001b[0m\n\u001b[0;32m----> 1\u001b[0;31m \u001b[0mclassifier\u001b[0m\u001b[0;34m.\u001b[0m\u001b[0mpredict\u001b[0m\u001b[0;34m(\u001b[0m\u001b[0mX_test\u001b[0m\u001b[0;34m[\u001b[0m\u001b[0;34m'title'\u001b[0m\u001b[0;34m]\u001b[0m\u001b[0;34m.\u001b[0m\u001b[0mvalues\u001b[0m\u001b[0;34m)\u001b[0m\u001b[0;34m\u001b[0m\u001b[0;34m\u001b[0m\u001b[0m\n\u001b[0m",
      "\u001b[0;32m~/.local/lib/python3.6/site-packages/sklearn/naive_bayes.py\u001b[0m in \u001b[0;36mpredict\u001b[0;34m(self, X)\u001b[0m\n\u001b[1;32m     64\u001b[0m             \u001b[0mPredicted\u001b[0m \u001b[0mtarget\u001b[0m \u001b[0mvalues\u001b[0m \u001b[0;32mfor\u001b[0m \u001b[0mX\u001b[0m\u001b[0;34m\u001b[0m\u001b[0;34m\u001b[0m\u001b[0m\n\u001b[1;32m     65\u001b[0m         \"\"\"\n\u001b[0;32m---> 66\u001b[0;31m         \u001b[0mjll\u001b[0m \u001b[0;34m=\u001b[0m \u001b[0mself\u001b[0m\u001b[0;34m.\u001b[0m\u001b[0m_joint_log_likelihood\u001b[0m\u001b[0;34m(\u001b[0m\u001b[0mX\u001b[0m\u001b[0;34m)\u001b[0m\u001b[0;34m\u001b[0m\u001b[0;34m\u001b[0m\u001b[0m\n\u001b[0m\u001b[1;32m     67\u001b[0m         \u001b[0;32mreturn\u001b[0m \u001b[0mself\u001b[0m\u001b[0;34m.\u001b[0m\u001b[0mclasses_\u001b[0m\u001b[0;34m[\u001b[0m\u001b[0mnp\u001b[0m\u001b[0;34m.\u001b[0m\u001b[0margmax\u001b[0m\u001b[0;34m(\u001b[0m\u001b[0mjll\u001b[0m\u001b[0;34m,\u001b[0m \u001b[0maxis\u001b[0m\u001b[0;34m=\u001b[0m\u001b[0;36m1\u001b[0m\u001b[0;34m)\u001b[0m\u001b[0;34m]\u001b[0m\u001b[0;34m\u001b[0m\u001b[0;34m\u001b[0m\u001b[0m\n\u001b[1;32m     68\u001b[0m \u001b[0;34m\u001b[0m\u001b[0m\n",
      "\u001b[0;32m~/.local/lib/python3.6/site-packages/sklearn/naive_bayes.py\u001b[0m in \u001b[0;36m_joint_log_likelihood\u001b[0;34m(self, X)\u001b[0m\n\u001b[1;32m    722\u001b[0m         \u001b[0mcheck_is_fitted\u001b[0m\u001b[0;34m(\u001b[0m\u001b[0mself\u001b[0m\u001b[0;34m,\u001b[0m \u001b[0;34m\"classes_\"\u001b[0m\u001b[0;34m)\u001b[0m\u001b[0;34m\u001b[0m\u001b[0;34m\u001b[0m\u001b[0m\n\u001b[1;32m    723\u001b[0m \u001b[0;34m\u001b[0m\u001b[0m\n\u001b[0;32m--> 724\u001b[0;31m         \u001b[0mX\u001b[0m \u001b[0;34m=\u001b[0m \u001b[0mcheck_array\u001b[0m\u001b[0;34m(\u001b[0m\u001b[0mX\u001b[0m\u001b[0;34m,\u001b[0m \u001b[0maccept_sparse\u001b[0m\u001b[0;34m=\u001b[0m\u001b[0;34m'csr'\u001b[0m\u001b[0;34m)\u001b[0m\u001b[0;34m\u001b[0m\u001b[0;34m\u001b[0m\u001b[0m\n\u001b[0m\u001b[1;32m    725\u001b[0m         return (safe_sparse_dot(X, self.feature_log_prob_.T) +\n\u001b[1;32m    726\u001b[0m                 self.class_log_prior_)\n",
      "\u001b[0;32m~/.local/lib/python3.6/site-packages/sklearn/utils/validation.py\u001b[0m in \u001b[0;36mcheck_array\u001b[0;34m(array, accept_sparse, dtype, order, copy, force_all_finite, ensure_2d, allow_nd, ensure_min_samples, ensure_min_features, warn_on_dtype, estimator)\u001b[0m\n\u001b[1;32m    431\u001b[0m                                       force_all_finite)\n\u001b[1;32m    432\u001b[0m     \u001b[0;32melse\u001b[0m\u001b[0;34m:\u001b[0m\u001b[0;34m\u001b[0m\u001b[0;34m\u001b[0m\u001b[0m\n\u001b[0;32m--> 433\u001b[0;31m         \u001b[0marray\u001b[0m \u001b[0;34m=\u001b[0m \u001b[0mnp\u001b[0m\u001b[0;34m.\u001b[0m\u001b[0marray\u001b[0m\u001b[0;34m(\u001b[0m\u001b[0marray\u001b[0m\u001b[0;34m,\u001b[0m \u001b[0mdtype\u001b[0m\u001b[0;34m=\u001b[0m\u001b[0mdtype\u001b[0m\u001b[0;34m,\u001b[0m \u001b[0morder\u001b[0m\u001b[0;34m=\u001b[0m\u001b[0morder\u001b[0m\u001b[0;34m,\u001b[0m \u001b[0mcopy\u001b[0m\u001b[0;34m=\u001b[0m\u001b[0mcopy\u001b[0m\u001b[0;34m)\u001b[0m\u001b[0;34m\u001b[0m\u001b[0;34m\u001b[0m\u001b[0m\n\u001b[0m\u001b[1;32m    434\u001b[0m \u001b[0;34m\u001b[0m\u001b[0m\n\u001b[1;32m    435\u001b[0m         \u001b[0;32mif\u001b[0m \u001b[0mensure_2d\u001b[0m\u001b[0;34m:\u001b[0m\u001b[0;34m\u001b[0m\u001b[0;34m\u001b[0m\u001b[0m\n",
      "\u001b[0;31mValueError\u001b[0m: could not convert string to float: 'قاچاق بنزین رونق گرفت/ خرید و فروش کارت سوخت با قیمت 30 تا 50 هزار تومان!'"
     ]
=======
  "nbformat": 4,
  "nbformat_minor": 0,
  "metadata": {
    "colab": {
      "name": "FinalProject.ipynb",
      "version": "0.3.2",
      "provenance": [],
      "collapsed_sections": []
    },
    "kernelspec": {
      "name": "python3",
      "display_name": "Python 3"
    },
    "accelerator": "GPU"
  },
  "cells": [
    {
      "metadata": {
        "id": "OgI7iAWDzVsj",
        "colab_type": "code",
        "outputId": "244e06e9-eeaf-4722-de90-2e80962f9833",
        "colab": {
          "base_uri": "https://localhost:8080/",
          "height": 461
        }
      },
      "cell_type": "code",
      "source": [
        "# Install libraries to google colab environment\n",
        "!pip install hazm\n",
        "!pip install stopwords_guilannlp\n",
        "!pip install -U -q PyDrive"
      ],
      "execution_count": 1,
      "outputs": [
        {
          "output_type": "stream",
          "text": [
            "Collecting hazm\n",
            "\u001b[?25l  Downloading https://files.pythonhosted.org/packages/22/13/5a7074bc11d20dbbb46239349ac3f85f7edc148b4cf68e9b8c2f8263830c/hazm-0.7.0-py3-none-any.whl (316kB)\n",
            "\u001b[K    100% |████████████████████████████████| 317kB 25.4MB/s \n",
            "\u001b[?25hCollecting nltk==3.3 (from hazm)\n",
            "\u001b[?25l  Downloading https://files.pythonhosted.org/packages/50/09/3b1755d528ad9156ee7243d52aa5cd2b809ef053a0f31b53d92853dd653a/nltk-3.3.0.zip (1.4MB)\n",
            "\u001b[K    100% |████████████████████████████████| 1.4MB 17.8MB/s \n",
            "\u001b[?25hCollecting libwapiti>=0.2.1; platform_system != \"Windows\" (from hazm)\n",
            "\u001b[?25l  Downloading https://files.pythonhosted.org/packages/bc/0f/1c9b49bb49821b5856a64ea6fac8d96a619b9f291d1f06999ea98a32c89c/libwapiti-0.2.1.tar.gz (233kB)\n",
            "\u001b[K    100% |████████████████████████████████| 235kB 30.7MB/s \n",
            "\u001b[?25hRequirement already satisfied: six in /usr/local/lib/python3.6/dist-packages (from nltk==3.3->hazm) (1.11.0)\n",
            "Building wheels for collected packages: nltk, libwapiti\n",
            "  Running setup.py bdist_wheel for nltk ... \u001b[?25l-\b \b\\\b \b|\b \b/\b \b-\b \b\\\b \bdone\n",
            "\u001b[?25h  Stored in directory: /root/.cache/pip/wheels/d1/ab/40/3bceea46922767e42986aef7606a600538ca80de6062dc266c\n",
            "  Running setup.py bdist_wheel for libwapiti ... \u001b[?25l-\b \b\\\b \b|\b \b/\b \b-\b \b\\\b \b|\b \b/\b \b-\b \b\\\b \b|\b \b/\b \b-\b \b\\\b \b|\b \b/\b \b-\b \bdone\n",
            "\u001b[?25h  Stored in directory: /root/.cache/pip/wheels/66/15/54/4510dce8bb958b1cdd2c47425cbd1e1eecc0480ac9bb1fb9ab\n",
            "Successfully built nltk libwapiti\n",
            "Installing collected packages: nltk, libwapiti, hazm\n",
            "  Found existing installation: nltk 3.2.5\n",
            "    Uninstalling nltk-3.2.5:\n",
            "      Successfully uninstalled nltk-3.2.5\n",
            "Successfully installed hazm-0.7.0 libwapiti-0.2.1 nltk-3.3\n",
            "Collecting stopwords_guilannlp\n",
            "  Downloading https://files.pythonhosted.org/packages/44/bc/a01c003b59a91187e89d11e73e8bb2834bb9ae6b36fe576a4b617c90bd23/stopwords_guilannlp-13.2019.3.5-py3-none-any.whl\n",
            "Installing collected packages: stopwords-guilannlp\n",
            "Successfully installed stopwords-guilannlp-13.2019.3.5\n"
          ],
          "name": "stdout"
        }
      ]
    },
    {
      "metadata": {
        "scrolled": true,
        "id": "d3uKvtdXyyR9",
        "colab_type": "code",
        "colab": {}
      },
      "cell_type": "code",
      "source": [
        "# Import libraries\n",
        "import json\n",
        "import nltk\n",
        "import numpy as np\n",
        "# from __future__ import unicode_literals\n",
        "from hazm import *\n",
        "import pandas as pd\n",
        "from collections import OrderedDict\n",
        "from sklearn.model_selection import train_test_split \n",
        "from sklearn.preprocessing import LabelEncoder\n",
        "from sklearn.feature_extraction.text import CountVectorizer, TfidfVectorizer, TfidfTransformer\n",
        "from sklearn.naive_bayes import MultinomialNB\n",
        "import collections\n",
        "import re\n",
        "from collections import Counter, defaultdict\n",
        "from stopwords_guilannlp import stopwords_output\n",
        "from pydrive.auth import GoogleAuth\n",
        "from pydrive.drive import GoogleDrive\n",
        "from google.colab import auth\n",
        "from oauth2client.client import GoogleCredentials\n",
        "from unidecode import unidecode\n",
        "from sklearn.metrics import recall_score, precision_score, f1_score, accuracy_score"
      ],
      "execution_count": 0,
      "outputs": []
    },
    {
      "metadata": {
        "id": "ol2bMsu8lXtc",
        "colab_type": "text"
      },
      "cell_type": "markdown",
      "source": [
        "# Upload Datasets to Colab Environment"
      ]
    },
    {
      "metadata": {
        "id": "lbEYHSVUllf-",
        "colab_type": "text"
      },
      "cell_type": "markdown",
      "source": [
        "## Upload from Google Drive"
      ]
    },
    {
      "metadata": {
        "id": "UM_OhUVzlz8j",
        "colab_type": "text"
      },
      "cell_type": "markdown",
      "source": [
        "### Authorize"
      ]
    },
    {
      "metadata": {
        "colab_type": "code",
        "id": "NPnF4PpXjozB",
        "colab": {}
      },
      "cell_type": "code",
      "source": [
        "# Authenticate and create the PyDrive client.\n",
        "auth.authenticate_user()\n",
        "gauth = GoogleAuth()\n",
        "gauth.credentials = GoogleCredentials.get_application_default()\n",
        "drive = GoogleDrive(gauth)"
      ],
      "execution_count": 0,
      "outputs": []
    },
    {
      "metadata": {
        "id": "ZkJC9NFIl5QI",
        "colab_type": "text"
      },
      "cell_type": "markdown",
      "source": [
        "### Get AsrIran dateset"
      ]
    },
    {
      "metadata": {
        "colab_type": "code",
        "outputId": "187664ca-2eae-4a54-a8e3-e8fce6158a04",
        "id": "odELn7gQjpLh",
        "colab": {
          "base_uri": "https://localhost:8080/",
          "height": 34
        }
      },
      "cell_type": "code",
      "source": [
        "link = 'https://drive.google.com/open?id=1mfioBj87CdQFWuK08NKb1LpFYb7oq8KE' # The shareable link\n",
        "fluff, id = link.split('=')\n",
        "print (id) # Verify that you have everything after '='\n",
        "downloaded = drive.CreateFile({'id':id}) \n",
        "downloaded.GetContentFile('asriran.jsonl')\n",
        "# Dataset is now stored in a Pandas Dataframe"
      ],
      "execution_count": 4,
      "outputs": [
        {
          "output_type": "stream",
          "text": [
            "1mfioBj87CdQFWuK08NKb1LpFYb7oq8KE\n"
          ],
          "name": "stdout"
        }
      ]
    },
    {
      "metadata": {
        "id": "hVPh6F_KyySE",
        "colab_type": "code",
        "outputId": "7b3f11d2-49d2-4038-b731-3cfaf0328f45",
        "colab": {
          "base_uri": "https://localhost:8080/",
          "height": 34
        }
      },
      "cell_type": "code",
      "source": [
        "# Import asriran dataset\n",
        "file = open('asriran.jsonl', 'r')\n",
        "asriran = file.readlines()\n",
        "\n",
        "\n",
        "print('There is {} item available'.format(len(asriran)))"
      ],
      "execution_count": 5,
      "outputs": [
        {
          "output_type": "stream",
          "text": [
            "There is 15000 item available\n"
          ],
          "name": "stdout"
        }
      ]
    },
    {
      "metadata": {
        "id": "OZaHDqMtl_dM",
        "colab_type": "text"
      },
      "cell_type": "markdown",
      "source": [
        "### Get FarsNews dataset"
      ]
    },
    {
      "metadata": {
        "id": "KXbnN-VclviL",
        "colab_type": "code",
        "outputId": "f72b32f2-91c9-442a-ae38-7df4cab2cab4",
        "colab": {
          "base_uri": "https://localhost:8080/",
          "height": 34
        }
      },
      "cell_type": "code",
      "source": [
        "link = 'https://drive.google.com/open?id=1PX5zaf4vftkoWMp1ejA6KKqAw1zZx5Vr' # The shareable link\n",
        "fluff, id = link.split('=')\n",
        "print (id) # Verify that you have everything after '='\n",
        "downloaded = drive.CreateFile({'id':id}) \n",
        "downloaded.GetContentFile('farsnews.jsonl')\n",
        "# Dataset is now stored in a Pandas Dataframe"
      ],
      "execution_count": 6,
      "outputs": [
        {
          "output_type": "stream",
          "text": [
            "1PX5zaf4vftkoWMp1ejA6KKqAw1zZx5Vr\n"
          ],
          "name": "stdout"
        }
      ]
    },
    {
      "metadata": {
        "id": "i-7rvcg4mZS3",
        "colab_type": "code",
        "outputId": "8c886a84-87b9-4911-81a9-4f7832b26f10",
        "colab": {
          "base_uri": "https://localhost:8080/",
          "height": 34
        }
      },
      "cell_type": "code",
      "source": [
        "# Import farsnews dataset\n",
        "file = open('farsnews.jsonl', 'r')\n",
        "farsnews = file.readlines()\n",
        "\n",
        "\n",
        "print('There is {} item available'.format(len(farsnews)))"
      ],
      "execution_count": 16,
      "outputs": [
        {
          "output_type": "stream",
          "text": [
            "There is 15000 item available\n"
          ],
          "name": "stdout"
        }
      ]
    },
    {
      "metadata": {
        "id": "Oc_ix2U0yySQ",
        "colab_type": "text"
      },
      "cell_type": "markdown",
      "source": [
        "##  Json example:\n",
        "   \n",
        "\n",
        "```\n",
        "{\n",
        "  \"_id\": \"5b4f7280020eb20597f40200\",\n",
        "  \"NewsAgency\": \"AsrIran\",\n",
        "  \"newsCode\": \"621582\",\n",
        "  \"newsLink\": \"http://www.asriran.com/fa/news/621582\",\n",
        "  \"date\": \"تاریخ انتشار:  ۱۴:۴۷ - ۲۷ تير ۱۳۹۷ - 18 July 2018\",\n",
        "  \"newsPath\": \"صفحه نخست » اقتصادی\",\n",
        "  \"newsPathLinks\": {\n",
        "    \"صفحه نخست\": \"/fa/archive?service_id=1\",\n",
        "    \"اقتصادی\": \"/fa/archive?service_id=1&amp;cat_id=4\"\n",
        "  },\n",
        "  \"title\": \"تعداد شعب داخلی شبکه بانکي کاهش یافت\",\n",
        "  \"rutitr\": \"\",\n",
        "  \"subtitle\": \"تعداد کل شعب داخل کشور شبکه بانکي در پایان خرداد ماه 1397، به 20598 شعبه ‌رسيد.\",\n",
        "  \"body\": \"تعداد کل شعب داخل کشور شبکه بانکي در پایان خرداد ماه 1397 نسبت به پايان اسفند ماه&nbsp; 1396، 0.6 درصد کاهش یافت.به گزارش عصرایران به نقل از بانک مرکزی، تعداد کل شعب داخل کشور شبکه بانکي در پایان خرداد ماه 1397، به&nbsp; 20598&nbsp; شعبه &zwnj;رسيد.بر این اساس و در پایان خرداد ماه 1397، تعداد شعب بانک هاي دولتي 8681 شعبه ( 42.1 درصد) ، بانک هاي خصوصي شده 6461 شعبه ( 31.4 درصد) و بانک هاي خصوصي و موسسات اعتباري 5456 شعبه ( 26.5 درصد) است.همچنین تعداد کل شعب ريالي ـ ارزي شبکه بانکي کشور بالغ بر 3787 شعبه، تعداد شعب شهري 19735 و شعب روستايي 863 شعبه است.بر اساس این گزارش تعداد شعب خارج از کشور شبکه بانکي تعداد 48 شعبه و تعداد باجه هاي بانکي کشور در پايان خرداد ماه 1397 تعداد 2274&nbsp; باجه است و213 شعبه بانکی نیز در مناطق آزاد تجاري قرار دارند.بررسی تعداد شعب داخل کشور بانک ها و موسسات اعتباری&nbsp; به تفکیک استانی در پایان خرداد ماه سال 1397 نیز نشان می دهد که استان&zwnj;هاي تهران، اصفــهان و خراسان رضوي به &zwnj;ترتيب با 4049، 1431 و 1318 شعبه داراي بيشترين تعداد شعب هستند.گزارش فصلی &laquo;اطلاعات تعداد شعب بانک ها&nbsp; و موسسات اعتباری&raquo; توسط اداره اطلاعات بانکی بانک مرکزی تهیه و در آن تعداد شعب&nbsp; بانک ها و موسسات اعتباری به تفکیک گروه های بانکی و استانی اعلام می شود.\",\n",
        "  \"bodyHtml\": \" <div align=\\\"justify\\\"><img class=\\\"image_btn\\\" style=\\\"margin: 0px 14px;\\\" title=\\\"تعداد شعب داخلی شبکه بانکي کاهش یافت\\\" src=\\\"http://cdn.asriran.com/files/fa/news/1397/4/27/875553_322.jpg\\\" alt=\\\"تعداد شعب داخلی شبکه بانکي کاهش یافت\\\" width=\\\"250\\\" height=\\\"169\\\" align=\\\"left\\\"/>تعداد کل شعب داخل کشور شبکه بانکي در پایان خرداد ماه 1397 نسبت به پايان اسفند ماه&nbsp; 1396، 0.6 درصد کاهش یافت.<br/><br/>به گزارش <span style=\\\"color: #0000cd;\\\">عصرایران</span> به نقل از بانک مرکزی، تعداد کل شعب داخل کشور شبکه بانکي در پایان خرداد ماه 1397، به&nbsp; 20598&nbsp; شعبه &zwnj;رسيد.<br/><br/>بر این اساس و در پایان خرداد ماه 1397، تعداد شعب بانک هاي دولتي 8681 شعبه ( 42.1 درصد) ، بانک هاي خصوصي شده 6461 شعبه ( 31.4 درصد) و بانک هاي خصوصي و موسسات اعتباري 5456 شعبه ( 26.5 درصد) است.<br/><br/>همچنین تعداد کل شعب ريالي ـ ارزي شبکه بانکي کشور بالغ بر 3787 شعبه، تعداد شعب شهري 19735 و شعب روستايي 863 شعبه است.<br/><br/><img class=\\\"image_btn\\\" style=\\\"margin: 0px auto; display: block;\\\" title=\\\"تعداد شعب داخلی شبکه بانکي کاهش یافت\\\" src=\\\"http://cdn.asriran.com/files/fa/news/1397/4/27/875556_701.jpg\\\" alt=\\\"تعداد شعب داخلی شبکه بانکي کاهش یافت\\\" width=\\\"404\\\" height=\\\"300\\\" align=\\\"\\\"/><br/><br/>بر اساس این گزارش تعداد شعب خارج از کشور شبکه بانکي تعداد 48 شعبه و تعداد باجه هاي بانکي کشور در پايان خرداد ماه 1397 تعداد 2274&nbsp; باجه است و213 شعبه بانکی نیز در مناطق آزاد تجاري قرار دارند.<br/><br/>بررسی تعداد شعب داخل کشور بانک ها و موسسات اعتباری&nbsp; به تفکیک استانی در پایان خرداد ماه سال 1397 نیز نشان می دهد که استان&zwnj;هاي تهران، اصفــهان و خراسان رضوي به &zwnj;ترتيب با 4049، 1431 و 1318 شعبه داراي بيشترين تعداد شعب هستند.<br/><br/>گزارش فصلی &laquo;اطلاعات تعداد شعب بانک ها&nbsp; و موسسات اعتباری&raquo; توسط اداره اطلاعات بانکی بانک مرکزی تهیه و در آن تعداد شعب&nbsp; بانک ها و موسسات اعتباری به تفکیک گروه های بانکی و استانی اعلام می شود.</div> <div class=\\\"wrapper\\\"/> \",\n",
        "  \"tags\": {\n",
        "    \"بانک مرکزی\": \"/fa/tag/1/بانک مرکزی\",\n",
        "    \"شعب داخلی\": \"/fa/tag/1/شعب داخلی\"\n",
        "  }\n",
        "}\n",
        "\n",
        "```\n",
        "\n"
      ]
    },
    {
      "metadata": {
        "id": "nHtSjgdXyySR",
        "colab_type": "text"
      },
      "cell_type": "markdown",
      "source": [
        "## Load jsons into Dataframe"
      ]
    },
    {
      "metadata": {
        "id": "H8UKNdEjyyST",
        "colab_type": "code",
        "colab": {}
      },
      "cell_type": "code",
      "source": [
        "def asriran_prepare_json(j):\n",
        "  # clear newsPath\n",
        "  newsPath = j['newsPath']\n",
        "  newsPath = newsPath.replace('عصرايران دو » ','')\n",
        "  newsPath = newsPath.replace('صفحه نخست » ','')\n",
        "  j['newsPath'] = newsPath\n",
        "  return j\n",
        "\n",
        "# For category predictor we need newsPath\n",
        "raw_data = []\n",
        "# For agency predictor we need NewsAgency\n",
        "agency_data = []\n",
        "\n",
        "for item in asriran:\n",
        "  try:\n",
        "    j = json.loads(item)\n",
        "    asriran_prepare_json(j)\n",
        "    raw_data.append({'title': j['title'], 'body':j['body'], 'newsPath':j['newsPath'], 'tag':list(j['tags'].keys())[0] })\n",
        "    agency_data.append({'title': j['title'], 'body':j['body'], 'newsAgency': j['NewsAgency']})\n",
        "  except:\n",
        "    pass\n",
        "  \n",
        "for item in farsnews:\n",
        "  try:\n",
        "    j = json.loads(item)\n",
        "    agency_data.append({'title': j['title'], 'body':j['body'], 'newsAgency': j['NewsAgency']})\n",
        "  except:\n",
        "    pass\n"
      ],
      "execution_count": 0,
      "outputs": []
    },
    {
      "metadata": {
        "id": "yFZ6ID2H2Fw3",
        "colab_type": "code",
        "outputId": "32747d1b-07f0-48ca-c27a-d14937eb3b60",
        "colab": {
          "base_uri": "https://localhost:8080/",
          "height": 197
        }
      },
      "cell_type": "code",
      "source": [
        "category_df = pd.DataFrame(raw_data)\n",
        "category_df.head()"
      ],
      "execution_count": 96,
      "outputs": [
        {
          "output_type": "execute_result",
          "data": {
            "text/html": [
              "<div>\n",
              "<style scoped>\n",
              "    .dataframe tbody tr th:only-of-type {\n",
              "        vertical-align: middle;\n",
              "    }\n",
              "\n",
              "    .dataframe tbody tr th {\n",
              "        vertical-align: top;\n",
              "    }\n",
              "\n",
              "    .dataframe thead th {\n",
              "        text-align: right;\n",
              "    }\n",
              "</style>\n",
              "<table border=\"1\" class=\"dataframe\">\n",
              "  <thead>\n",
              "    <tr style=\"text-align: right;\">\n",
              "      <th></th>\n",
              "      <th>body</th>\n",
              "      <th>newsPath</th>\n",
              "      <th>tag</th>\n",
              "      <th>title</th>\n",
              "    </tr>\n",
              "  </thead>\n",
              "  <tbody>\n",
              "    <tr>\n",
              "      <th>0</th>\n",
              "      <td>تهران- ایرنا- رئیس پلیس راه کشور گفت: اکنون در...</td>\n",
              "      <td>اجتماعی</td>\n",
              "      <td>پلیس</td>\n",
              "      <td>جاده های خراسان شمالی و رضوی لغزنده است</td>\n",
              "    </tr>\n",
              "    <tr>\n",
              "      <th>1</th>\n",
              "      <td>رئیس فراکسیون مبارزه با مفاسد اقتصادی مجلس شور...</td>\n",
              "      <td>سیاسی</td>\n",
              "      <td>مفاسد اقتصادی</td>\n",
              "      <td>نماینده مجلس: شناسایی 31 نفر از سران مفاسد اقت...</td>\n",
              "    </tr>\n",
              "    <tr>\n",
              "      <th>2</th>\n",
              "      <td>سرمربی استقلال در مورد حضور فرهاد مجیدی در کاد...</td>\n",
              "      <td>ورزشی</td>\n",
              "      <td>شفر</td>\n",
              "      <td>واکنش شفر به حضور فرهاد مجیدی در کادرفنی</td>\n",
              "    </tr>\n",
              "    <tr>\n",
              "      <th>3</th>\n",
              "      <td>معاون رئیس جمهور آمریکا اعلام کرد که دونالد تر...</td>\n",
              "      <td>بین الملل</td>\n",
              "      <td>آمریکا</td>\n",
              "      <td>مایک پنس: ترامپ در حال بررسی خروج نظامیان آمری...</td>\n",
              "    </tr>\n",
              "    <tr>\n",
              "      <th>4</th>\n",
              "      <td>نشریه انگلیسی &amp;laquo;تایمز&amp;raquo; از تابعیت ان...</td>\n",
              "      <td>بین الملل</td>\n",
              "      <td>مسکو</td>\n",
              "      <td>جاسوس آمریکا در روسیه، انگلیسی از آب درآمد</td>\n",
              "    </tr>\n",
              "  </tbody>\n",
              "</table>\n",
              "</div>"
            ],
            "text/plain": [
              "                                                body   newsPath  \\\n",
              "0  تهران- ایرنا- رئیس پلیس راه کشور گفت: اکنون در...    اجتماعی   \n",
              "1  رئیس فراکسیون مبارزه با مفاسد اقتصادی مجلس شور...      سیاسی   \n",
              "2  سرمربی استقلال در مورد حضور فرهاد مجیدی در کاد...      ورزشی   \n",
              "3  معاون رئیس جمهور آمریکا اعلام کرد که دونالد تر...  بین الملل   \n",
              "4  نشریه انگلیسی &laquo;تایمز&raquo; از تابعیت ان...  بین الملل   \n",
              "\n",
              "             tag                                              title  \n",
              "0           پلیس            جاده های خراسان شمالی و رضوی لغزنده است  \n",
              "1  مفاسد اقتصادی  نماینده مجلس: شناسایی 31 نفر از سران مفاسد اقت...  \n",
              "2            شفر           واکنش شفر به حضور فرهاد مجیدی در کادرفنی  \n",
              "3         آمریکا  مایک پنس: ترامپ در حال بررسی خروج نظامیان آمری...  \n",
              "4           مسکو         جاسوس آمریکا در روسیه، انگلیسی از آب درآمد  "
            ]
          },
          "metadata": {
            "tags": []
          },
          "execution_count": 96
        }
      ]
    },
    {
      "metadata": {
        "id": "5s5oSSeZ2GLn",
        "colab_type": "code",
        "outputId": "4e90042e-f65c-49a8-d8d1-66576545ae3e",
        "colab": {
          "base_uri": "https://localhost:8080/",
          "height": 197
        }
      },
      "cell_type": "code",
      "source": [
        "agency_df = pd.DataFrame(agency_data)\n",
        "agency_df.head()"
      ],
      "execution_count": 97,
      "outputs": [
        {
          "output_type": "execute_result",
          "data": {
            "text/html": [
              "<div>\n",
              "<style scoped>\n",
              "    .dataframe tbody tr th:only-of-type {\n",
              "        vertical-align: middle;\n",
              "    }\n",
              "\n",
              "    .dataframe tbody tr th {\n",
              "        vertical-align: top;\n",
              "    }\n",
              "\n",
              "    .dataframe thead th {\n",
              "        text-align: right;\n",
              "    }\n",
              "</style>\n",
              "<table border=\"1\" class=\"dataframe\">\n",
              "  <thead>\n",
              "    <tr style=\"text-align: right;\">\n",
              "      <th></th>\n",
              "      <th>body</th>\n",
              "      <th>newsAgency</th>\n",
              "      <th>title</th>\n",
              "    </tr>\n",
              "  </thead>\n",
              "  <tbody>\n",
              "    <tr>\n",
              "      <th>0</th>\n",
              "      <td>تهران- ایرنا- رئیس پلیس راه کشور گفت: اکنون در...</td>\n",
              "      <td>AsrIran</td>\n",
              "      <td>جاده های خراسان شمالی و رضوی لغزنده است</td>\n",
              "    </tr>\n",
              "    <tr>\n",
              "      <th>1</th>\n",
              "      <td>رئیس فراکسیون مبارزه با مفاسد اقتصادی مجلس شور...</td>\n",
              "      <td>AsrIran</td>\n",
              "      <td>نماینده مجلس: شناسایی 31 نفر از سران مفاسد اقت...</td>\n",
              "    </tr>\n",
              "    <tr>\n",
              "      <th>2</th>\n",
              "      <td>سرمربی استقلال در مورد حضور فرهاد مجیدی در کاد...</td>\n",
              "      <td>AsrIran</td>\n",
              "      <td>واکنش شفر به حضور فرهاد مجیدی در کادرفنی</td>\n",
              "    </tr>\n",
              "    <tr>\n",
              "      <th>3</th>\n",
              "      <td>معاون رئیس جمهور آمریکا اعلام کرد که دونالد تر...</td>\n",
              "      <td>AsrIran</td>\n",
              "      <td>مایک پنس: ترامپ در حال بررسی خروج نظامیان آمری...</td>\n",
              "    </tr>\n",
              "    <tr>\n",
              "      <th>4</th>\n",
              "      <td>نشریه انگلیسی &amp;laquo;تایمز&amp;raquo; از تابعیت ان...</td>\n",
              "      <td>AsrIran</td>\n",
              "      <td>جاسوس آمریکا در روسیه، انگلیسی از آب درآمد</td>\n",
              "    </tr>\n",
              "  </tbody>\n",
              "</table>\n",
              "</div>"
            ],
            "text/plain": [
              "                                                body newsAgency  \\\n",
              "0  تهران- ایرنا- رئیس پلیس راه کشور گفت: اکنون در...    AsrIran   \n",
              "1  رئیس فراکسیون مبارزه با مفاسد اقتصادی مجلس شور...    AsrIran   \n",
              "2  سرمربی استقلال در مورد حضور فرهاد مجیدی در کاد...    AsrIran   \n",
              "3  معاون رئیس جمهور آمریکا اعلام کرد که دونالد تر...    AsrIran   \n",
              "4  نشریه انگلیسی &laquo;تایمز&raquo; از تابعیت ان...    AsrIran   \n",
              "\n",
              "                                               title  \n",
              "0            جاده های خراسان شمالی و رضوی لغزنده است  \n",
              "1  نماینده مجلس: شناسایی 31 نفر از سران مفاسد اقت...  \n",
              "2           واکنش شفر به حضور فرهاد مجیدی در کادرفنی  \n",
              "3  مایک پنس: ترامپ در حال بررسی خروج نظامیان آمری...  \n",
              "4         جاسوس آمریکا در روسیه، انگلیسی از آب درآمد  "
            ]
          },
          "metadata": {
            "tags": []
          },
          "execution_count": 97
        }
      ]
    },
    {
      "metadata": {
        "id": "5e3K2oD1SeNh",
        "colab_type": "code",
        "colab": {
          "base_uri": "https://localhost:8080/",
          "height": 105
        },
        "outputId": "7adcf006-bba8-4c61-97aa-68b818da8ed1"
      },
      "cell_type": "code",
      "source": [
        "np.unique(category_df['newsPath'])"
      ],
      "execution_count": 98,
      "outputs": [
        {
          "output_type": "execute_result",
          "data": {
            "text/plain": [
              "array(['آشپزی', 'اجتماعی', 'اقتصادی', 'بین الملل', 'حوادث',\n",
              "       'خواندنی ها و دیدنی ها', 'داستان کوتاه', 'دانلود', 'روانشناسی',\n",
              "       'سرگرمی', 'سفر و تفریح', 'سلامت', 'سیاست خارجی', 'سیاسی', 'علمی',\n",
              "       'عمومی', 'فرهنگی/هنری', 'فناوری و IT', 'ورزشی', 'پیامک'],\n",
              "      dtype=object)"
            ]
          },
          "metadata": {
            "tags": []
          },
          "execution_count": 98
        }
      ]
    },
    {
      "metadata": {
        "id": "ZDXA9cYNyySZ",
        "colab_type": "text"
      },
      "cell_type": "markdown",
      "source": [
        "# Encoding categorical features "
      ]
    },
    {
      "metadata": {
        "id": "S9wdk9axyySa",
        "colab_type": "code",
        "colab": {}
      },
      "cell_type": "code",
      "source": [
        "category_le = LabelEncoder()\n",
        "category_df['newsPath'] = category_le.fit_transform(category_df['newsPath'])\n",
        "\n",
        "agency_le = LabelEncoder()\n",
        "agency_df['newsAgency'] = agency_le.fit_transform(agency_df['newsAgency'])\n",
        "\n",
        "category_x = category_df[['title','body','tag']]\n",
        "\n",
        "category_y = category_df['newsPath']\n",
        "\n",
        "agency_x = agency_df[['title','body']]\n",
        "\n",
        "agency_y = agency_df['newsAgency']"
      ],
      "execution_count": 0,
      "outputs": []
    },
    {
      "metadata": {
        "id": "y8T1Qh3B4lDI",
        "colab_type": "code",
        "outputId": "34d896d6-801e-4ecf-933a-3d4bc4afda7b",
        "colab": {
          "base_uri": "https://localhost:8080/",
          "height": 197
        }
      },
      "cell_type": "code",
      "source": [
        "category_x.head()"
      ],
      "execution_count": 90,
      "outputs": [
        {
          "output_type": "execute_result",
          "data": {
            "text/html": [
              "<div>\n",
              "<style scoped>\n",
              "    .dataframe tbody tr th:only-of-type {\n",
              "        vertical-align: middle;\n",
              "    }\n",
              "\n",
              "    .dataframe tbody tr th {\n",
              "        vertical-align: top;\n",
              "    }\n",
              "\n",
              "    .dataframe thead th {\n",
              "        text-align: right;\n",
              "    }\n",
              "</style>\n",
              "<table border=\"1\" class=\"dataframe\">\n",
              "  <thead>\n",
              "    <tr style=\"text-align: right;\">\n",
              "      <th></th>\n",
              "      <th>title</th>\n",
              "      <th>body</th>\n",
              "      <th>tag</th>\n",
              "    </tr>\n",
              "  </thead>\n",
              "  <tbody>\n",
              "    <tr>\n",
              "      <th>0</th>\n",
              "      <td>جاده های خراسان شمالی و رضوی لغزنده است</td>\n",
              "      <td>تهران- ایرنا- رئیس پلیس راه کشور گفت: اکنون در...</td>\n",
              "      <td>پلیس</td>\n",
              "    </tr>\n",
              "    <tr>\n",
              "      <th>1</th>\n",
              "      <td>نماینده مجلس: شناسایی 31 نفر از سران مفاسد اقت...</td>\n",
              "      <td>رئیس فراکسیون مبارزه با مفاسد اقتصادی مجلس شور...</td>\n",
              "      <td>مفاسد اقتصادی</td>\n",
              "    </tr>\n",
              "    <tr>\n",
              "      <th>2</th>\n",
              "      <td>واکنش شفر به حضور فرهاد مجیدی در کادرفنی</td>\n",
              "      <td>سرمربی استقلال در مورد حضور فرهاد مجیدی در کاد...</td>\n",
              "      <td>شفر</td>\n",
              "    </tr>\n",
              "    <tr>\n",
              "      <th>3</th>\n",
              "      <td>مایک پنس: ترامپ در حال بررسی خروج نظامیان آمری...</td>\n",
              "      <td>معاون رئیس جمهور آمریکا اعلام کرد که دونالد تر...</td>\n",
              "      <td>آمریکا</td>\n",
              "    </tr>\n",
              "    <tr>\n",
              "      <th>4</th>\n",
              "      <td>جاسوس آمریکا در روسیه، انگلیسی از آب درآمد</td>\n",
              "      <td>نشریه انگلیسی &amp;laquo;تایمز&amp;raquo; از تابعیت ان...</td>\n",
              "      <td>مسکو</td>\n",
              "    </tr>\n",
              "  </tbody>\n",
              "</table>\n",
              "</div>"
            ],
            "text/plain": [
              "                                               title  \\\n",
              "0            جاده های خراسان شمالی و رضوی لغزنده است   \n",
              "1  نماینده مجلس: شناسایی 31 نفر از سران مفاسد اقت...   \n",
              "2           واکنش شفر به حضور فرهاد مجیدی در کادرفنی   \n",
              "3  مایک پنس: ترامپ در حال بررسی خروج نظامیان آمری...   \n",
              "4         جاسوس آمریکا در روسیه، انگلیسی از آب درآمد   \n",
              "\n",
              "                                                body            tag  \n",
              "0  تهران- ایرنا- رئیس پلیس راه کشور گفت: اکنون در...           پلیس  \n",
              "1  رئیس فراکسیون مبارزه با مفاسد اقتصادی مجلس شور...  مفاسد اقتصادی  \n",
              "2  سرمربی استقلال در مورد حضور فرهاد مجیدی در کاد...            شفر  \n",
              "3  معاون رئیس جمهور آمریکا اعلام کرد که دونالد تر...         آمریکا  \n",
              "4  نشریه انگلیسی &laquo;تایمز&raquo; از تابعیت ان...           مسکو  "
            ]
          },
          "metadata": {
            "tags": []
          },
          "execution_count": 90
        }
      ]
    },
    {
      "metadata": {
        "id": "DMHRzzmm4tUG",
        "colab_type": "code",
        "outputId": "ddf9229b-20fd-47fe-fefc-129c38540102",
        "colab": {
          "base_uri": "https://localhost:8080/",
          "height": 1118
        }
      },
      "cell_type": "code",
      "source": [
        "category_y"
      ],
      "execution_count": 91,
      "outputs": [
        {
          "output_type": "execute_result",
          "data": {
            "text/plain": [
              "0         1\n",
              "1        13\n",
              "2        18\n",
              "3         3\n",
              "4         3\n",
              "5         3\n",
              "6         3\n",
              "7        13\n",
              "8         1\n",
              "9        13\n",
              "10       16\n",
              "11        1\n",
              "12       13\n",
              "13        1\n",
              "14       16\n",
              "15        2\n",
              "16        3\n",
              "17       13\n",
              "18        1\n",
              "19        2\n",
              "20       13\n",
              "21       13\n",
              "22       16\n",
              "23        1\n",
              "24        1\n",
              "25       16\n",
              "26        1\n",
              "27        1\n",
              "28        1\n",
              "29        3\n",
              "         ..\n",
              "14297     1\n",
              "14298    13\n",
              "14299    13\n",
              "14300    13\n",
              "14301     2\n",
              "14302    13\n",
              "14303    13\n",
              "14304     2\n",
              "14305     1\n",
              "14306     3\n",
              "14307    18\n",
              "14308     2\n",
              "14309     3\n",
              "14310     2\n",
              "14311     1\n",
              "14312    13\n",
              "14313    13\n",
              "14314    13\n",
              "14315     3\n",
              "14316    13\n",
              "14317    13\n",
              "14318    13\n",
              "14319     1\n",
              "14320     1\n",
              "14321     2\n",
              "14322     1\n",
              "14323    13\n",
              "14324    13\n",
              "14325     1\n",
              "14326    18\n",
              "Name: newsPath, Length: 14327, dtype: int64"
            ]
          },
          "metadata": {
            "tags": []
          },
          "execution_count": 91
        }
      ]
    },
    {
      "metadata": {
        "id": "7rXmjlVvyySh",
        "colab_type": "text"
      },
      "cell_type": "markdown",
      "source": [
        "# Split TrainSet and TestSet"
      ]
    },
    {
      "metadata": {
        "id": "G1c4Em13yySi",
        "colab_type": "code",
        "outputId": "841fbfa3-fa21-41a1-93b3-1ab6d3cdbfc8",
        "colab": {
          "base_uri": "https://localhost:8080/",
          "height": 70
        }
      },
      "cell_type": "code",
      "source": [
        "# Split for category predictor\n",
        "x_cat_train, x_cat_test, y_cat_train, y_cat_test = train_test_split(category_x, category_y, test_size=0.20)\n",
        "print('--Category Predictor--')\n",
        "print('Train size: ',len(x_cat_train))\n",
        "print('Test size : ',len(x_cat_test))"
      ],
      "execution_count": 112,
      "outputs": [
        {
          "output_type": "stream",
          "text": [
            "--Category Predictor--\n",
            "Train size:  11461\n",
            "Test size :  2866\n"
          ],
          "name": "stdout"
        }
      ]
    },
    {
      "metadata": {
        "id": "pebSIOK_8HhQ",
        "colab_type": "code",
        "outputId": "0a46bee9-88ae-44b7-9573-710ff2bb0af8",
        "colab": {
          "base_uri": "https://localhost:8080/",
          "height": 70
        }
      },
      "cell_type": "code",
      "source": [
        "# Split for category predictor\n",
        "x_ag_train, x_ag_test, y_ag_train, y_ag_test = train_test_split(agency_x, agency_y, test_size=0.20)\n",
        "print('--Agency Predictor--')\n",
        "print('Train size: ',len(x_ag_train))\n",
        "print('Test size : ',len(x_ag_test))"
      ],
      "execution_count": 24,
      "outputs": [
        {
          "output_type": "stream",
          "text": [
            "--Agency Predictor--\n",
            "Train size:  23461\n",
            "Test size :  5866\n"
          ],
          "name": "stdout"
        }
      ]
    },
    {
      "metadata": {
        "id": "adQ-7dP4MInB",
        "colab_type": "text"
      },
      "cell_type": "markdown",
      "source": [
        "# Preprocess data"
      ]
    },
    {
      "metadata": {
        "id": "Kx6rU2iWyyS1",
        "colab_type": "code",
        "colab": {}
      },
      "cell_type": "code",
      "source": [
        "stop_set = stopwords_output(\"Persian\", \"set\")\n",
        "customized_stop_words = ['&zwnj;','zwnj;','&zwnj', '&laquo;', '&raquo;', '&nbsp;', 'ViewAjax', 'asran', 'lse', 'pletely', 'secd', 'vent', 'ventDeult', 'ad_type', 'ads', 'advert', 'adverts', 'ajax', 'also', 'api', 'bull', 'cdn', 'click', 'clip', 'com', 'completely', 'data', 'disable', 'document', 'embed', 'enable', 'fa', 'false', 'feature', 'files', 'find', 'flowplayer', 'for', 'fp', 'function', 'height', 'hellip', 'http', 'if', 'ima', 'ir', 'keyboard', 'laquo', 'ldquo', 'lrm', 'max_ad_duration', 'mp4', 'nbsp', 'ndash', 'news', 'on', 'player_', 'playlist', 'post', 'pre', 'prevent', 'preventDefault', 'raquo', 'ratio', 'rdquo', 'ready', 'return', 'rlm', 'roll', 'sdmax', 'second', 'seeking', 'set', 'sources', 'splash', 'src', 'standardvideo', 'this', 'time', 'true', 'type', 'ui', 'up', 'var', 'via', 'video', 'videoViewAjax', 'width', 'www', 'zwnj']\n",
        "customized_numbs = ['00', '10', '11', '12', '13', '1397', '14', '15', '16', '17', '18', '19', '20', '21', '22', '23', '24', '25', '27', '28', '29', '2hzr', '30', '40', '45', '97']\n",
        "# Remove some redundant words before tokenization and vectorization\n",
        "\n",
        "for num in customized_numbs:\n",
        "  stop_set.add(num)\n",
        "\n",
        "def isfloat(value):\n",
        "  try:\n",
        "    float(value)\n",
        "    return True\n",
        "  except ValueError:\n",
        "    return False\n",
        "  \n",
        "def sentence_preprocess(sentence):\n",
        "  tokenized = word_tokenize(sentence)\n",
        "  tokens = []\n",
        "  for word in tokenized:\n",
        "    # Remove digits\n",
        "    # Remove 1 letter words\n",
        "    for sw in customized_stop_words:\n",
        "      word = word.replace(sw, '')\n",
        "    if not (word.isdigit() or isfloat(word) or len(word)<2 or (word in stop_set)):\n",
        "      tokens.append(word)\n",
        "  # Return as a string\n",
        "  tokens = ' '.join(tokens)\n",
        "  return tokens\n",
        "\n",
        "def preprocess(data):\n",
        "  data_list = []\n",
        "  for sentence in data:\n",
        "    data_list.append(sentence_preprocess(sentence))\n",
        "  return data_list"
      ],
      "execution_count": 0,
      "outputs": []
    },
    {
      "metadata": {
        "id": "7_Mv-hNzN8f7",
        "colab_type": "text"
      },
      "cell_type": "markdown",
      "source": [
        "# Vectorizer (Count Vectorzer | TF-IDF Vectorizer)"
      ]
    },
    {
      "metadata": {
        "id": "f0oPwoO776Xc",
        "colab_type": "text"
      },
      "cell_type": "markdown",
      "source": [
        "## Vectorize Category Data"
      ]
    },
    {
      "metadata": {
        "id": "DL2DxyKvyyS5",
        "colab_type": "code",
        "outputId": "f9762e55-c9c3-4408-f641-9d06e058a3a8",
        "colab": {
          "base_uri": "https://localhost:8080/",
          "height": 72
        }
      },
      "cell_type": "code",
      "source": [
        "cat_vectorizer = TfidfVectorizer(lowercase=False, ngram_range=(1,1), min_df=0.005)\n",
        "# train set\n",
        "x_cat_train_corpus = x_cat_train['body'].values\n",
        "x_cat_train_corpus = preprocess(x_cat_train_corpus)\n",
        "# test set\n",
        "x_cat_test_corpus = x_cat_test['body'].values\n",
        "x_cat_test_corpus = preprocess(x_cat_test_corpus)\n",
        "\n",
        "# Fit vectorizer\n",
        "cat_vectorizer.fit(x_cat_train_corpus)\n",
        "\n",
        "# Print vocabulary\n",
        "cat_vocab = cat_vectorizer.get_feature_names()\n",
        "print(cat_vocab)\n",
        "print('Vocab length:', len(cat_vocab))\n",
        "\n",
        "# Transform vectorizer over train and test set\n",
        "x_cat_train_vec = cat_vectorizer.transform(x_cat_train_corpus).toarray()\n",
        "x_cat_test_vec = cat_vectorizer.transform(x_cat_test_corpus).toarray()"
      ],
      "execution_count": 26,
      "outputs": [
        {
          "output_type": "stream",
          "text": [
            "['10', '1397', '16', '30', 'CFT', 'Deult', 'FATF', 'asran', 'secd', 'shy', 'آب', 'آباد', 'آبادان', 'آبادی', 'آبان', 'آبانماه', 'آبهای', 'آبگرفتگی', 'آبی', 'آتش', 'آتی', 'آثار', 'آخرین', 'آدرس', 'آدم', 'آذر', 'آذربایجان', 'آذرماه', 'آذری', 'آرا', 'آرام', 'آرامش', 'آرای', 'آرزو', 'آرزوی', 'آرژانتین', 'آزاد', 'آزادی', 'آزار', 'آزمایش', 'آزمایشی', 'آزمون', 'آسان', 'آسانی', 'آستانه', 'آسمان', 'آسوشیتدپرس', 'آسیا', 'آسیایی', 'آسیب', 'آسیبهای', 'آشنا', 'آشنایی', 'آشکار', 'آغاز', 'آفتاب', 'آفریقا', 'آفرین', 'آل', 'آلمان', 'آلمانی', 'آلوده', 'آلودگی', 'آماده', 'آمادگی', 'آمار', 'آمارها', 'آمارهای', 'آماری', 'آمبولانس', 'آمدند', 'آمده_است', 'آمده_بود', 'آمریکا', 'آمریکاست', 'آمریکای', 'آمریکایی', 'آمریکاییها', 'آموز', 'آموزان', 'آموزش', 'آموزشی', 'آمیز', 'آناتولی', 'آنتی', 'آنجایی', 'آنلاین', 'آنهایی', 'آنکارا', 'آهن', 'آوردند', 'آورده_است', 'آورند', 'آوری', 'آژانس', 'آگاه', 'آگاهی', 'آیت', 'آیتالله', 'آینده', 'آیین', 'ائتلاف', 'ابتدا', 'ابتدای', 'ابتدایی', 'ابتلا', 'ابتکار', 'ابر', 'ابراز', 'ابراهیم', 'ابری', 'ابزار', 'ابزارهای', 'ابزاری', 'ابعاد', 'ابلاغ', 'اتاق', 'اتباع', 'اتحاد', 'اتحادیه', 'اتخاذ', 'اتریش', 'اتصال', 'اتفاق', 'اتفاقات', 'اتفاقاتی', 'اتفاقی', 'اتمام', 'اتمی', 'اتهام', 'اتهامات', 'اتوبوس', 'اتوماتیک', 'اتکا', 'اثبات', 'اثر', 'اثرات', 'اثرگذار', 'اثری', 'اجاره', 'اجازه', 'اجباری', 'اجتماع', 'اجتماعی', 'اجتناب', 'اجرا', 'اجرای', 'اجرایی', 'اجلاس', 'احترام', 'احتساب', 'احتمال', 'احتمالا', 'احتمالی', 'احتیاط', 'احداث', 'احراز', 'احزاب', 'احساس', 'احساسات', 'احساسی', 'احسان', 'احضار', 'احمد', 'احمدی', 'احمر', 'احکام', 'احیا', 'احیای', 'اخبار', 'اخباری', 'اختصاص', 'اختصاصی', 'اختلاف', 'اختلافات', 'اختلال', 'اختلالات', 'اختیار', 'اختیارات', 'اخذ', 'اخراج', 'اخلاق', 'اخلاقی', 'اخلال', 'اخیرا', 'ادارات', 'اداره', 'اداری', 'ادامه', 'ادبیات', 'ادعا', 'ادعاهای', 'ادعای', 'ادعایی', 'اذعان', 'اذیت', 'ارائه', 'اراده', 'اراضی', 'ارایه', 'اربعین', 'ارتباط', 'ارتباطات', 'ارتباطی', 'ارتش', 'ارتفاع', 'ارتفاعات', 'ارتقا', 'ارتقاء', 'ارتقای', 'ارتکاب', 'ارجاع', 'اردبیل', 'اردوغان', 'اردیبهشت', 'ارز', 'ارزان', 'ارزش', 'ارزشمند', 'ارزشهای', 'ارزشی', 'ارزهای', 'ارزی', 'ارزیابی', 'ارسال', 'ارشاد', 'ارشد', 'ارقام', 'ارمغان', 'ارومیه', 'اروپا', 'اروپایی', 'اروپاییها', 'ارکان', 'ازای', 'ازدواج', 'اس', 'اساتید', 'اساس', 'اساسی', 'اسامی', 'اسب', 'اسبق', 'است', 'استاد', 'استان', 'استانبول', 'استاندار', 'استاندارد', 'استانداردهای', 'استانداری', 'استانها', 'استانهای', 'استانی', 'استخدام', 'استخراج', 'استخوان', 'استدلال', 'استراتژی', 'استراتژیک', 'استراحت', 'استرالیا', 'استرس', 'استعداد', 'استعفا', 'استعفای', 'استعلام', 'استقبال', 'استقرار', 'استقلال', 'استمرار', 'استناد', 'استکبار', 'استیضاح', 'اسد', 'اسرائیل', 'اسرع', 'اسفند', 'اسلام', 'اسلامی', 'اسلحه', 'اسم', 'اسماعیل', 'اسناد', 'اسپانیا', 'اسپوتنیک', 'اسکان', 'اسید', 'اشاره', 'اشتباه', 'اشتباهات', 'اشتراک', 'اشتغال', 'اشخاص', 'اشغال', 'اشکال', 'اصحاب', 'اصرار', 'اصطلاح', 'اصغر', 'اصفهان', 'اصل', 'اصلاح', 'اصلاحات', 'اصلی', 'اصلیترین', 'اصول', 'اصولی', 'اضافه', 'اضافی', 'اضطراب', 'اضطراری', 'اطراف', 'اطلاع', 'اطلاعات', 'اطلاعاتی', 'اطلاعرسانی', 'اطلاعی', 'اطلاعیه', 'اطلاعیهای', 'اطمینان', 'اظهار', 'اظهارات', 'اظهاراتی', 'اظهارداشت', 'اظهارنظر', 'اظهارکرد', 'اعتبار', 'اعتبارات', 'اعتباری', 'اعتراض', 'اعتراضات', 'اعتراضی', 'اعتراف', 'اعتقاد', 'اعتقادی', 'اعتماد', 'اعتیاد', 'اعدام', 'اعزام', 'اعضا', 'اعضای', 'اعطا', 'اعطای', 'اعظم', 'اعم', 'اعمال', 'اف', 'افت', 'افتاد', 'افتادن', 'افتاده', 'افتاده_است', 'افتتاح', 'افتخار', 'افتد', 'افراد', 'افرادی', 'افراطی', 'افزایش', 'افزودن', 'افزوده', 'افزون', 'افسردگی', 'افشانی', 'افغانستان', 'افکار', 'اقامت', 'اقتدار', 'اقتصاد', 'اقتصادی', 'اقدام', 'اقدامات', 'اقداماتی', 'اقدامی', 'اقشار', 'اقلام', 'ال', 'الاسلام', 'البرز', 'التهاب', 'الجزیره', 'الحاق', 'الزام', 'الزامی', 'العاده', 'الف', 'الله', 'المسلمین', 'الملل', 'المللی', 'المپیک', 'الهام', 'الکترونیک', 'الکترونیکی', 'الکتریکی', 'الکل', 'الکلی', 'الگوی', 'الیوم', 'امارات', 'امام', 'امانوئل', 'اماکن', 'امتحان', 'امتیاز', 'امداد', 'امدادرسانی', 'امدادی', 'امر', 'امروزی', 'امری', 'امریکا', 'امضا', 'امضای', 'املاک', 'امن', 'امنیت', 'امنیتی', 'اموال', 'امورخارجه', 'امکان', 'امکانات', 'امکانپذیر', 'امید', 'امیدوار', 'امیدواری', 'امیر', 'امین', 'انبار', 'انبوه', 'انتخاب', 'انتخابات', 'انتخاباتی', 'انتخابی', 'انتشار', 'انتصاب', 'انتظار', 'انتظارات', 'انتظامی', 'انتقاد', 'انتقادات', 'انتقال', 'انتقام', 'انتهای', 'انجمن', 'انحراف', 'انداخت', 'انداختن', 'انداز', 'اندازه', 'اندازی', 'اندام', 'اندونزی', 'اندک', 'اندکی', 'اندیشه', 'انرژی', 'انسان', 'انسانها', 'انسانی', 'انسجام', 'انصاری', 'انعکاس', 'انفجار', 'انقلاب', 'انقلابی', 'انواع', 'انکار', 'انگشت', 'انگلستان', 'انگلیس', 'انگلیسی', 'انگیز', 'انگیزه', 'اهالی', 'اهدا', 'اهداف', 'اهل', 'اهمیت', 'اهواز', 'اواخر', 'اواسط', 'اوایل', 'اوباما', 'اوت', 'اوج', 'اوراق', 'اورژانس', 'اوضاع', 'اوقات', 'اولویت', 'اولیه', 'اوپک', 'اوکراین', 'اين', 'اپلیکیشن', 'اکبر', 'اکتبر', 'اکران', 'ای', 'ایالات', 'ایالت', 'ایام', 'ایتالیا', 'ایجاد', 'ایده', 'ایراد', 'ایران', 'ایرانی', 'ایرانیان', 'ایرانیها', 'ایرنا', 'ایستادگی', 'ایستگاه', 'ایسنا', 'ایفا', 'ایفای', 'ایلام', 'ایلنا', 'ایمان', 'ایمن', 'ایمنی', 'اینترنت', 'اینترنتی', 'اینجانب', 'اینستاگرام', 'باب', 'بابت', 'باتوجه', 'باخت', 'باران', 'بارز', 'بارش', 'بارشی', 'بارندگی', 'باری', 'بازار', 'بازارهای', 'بازتاب', 'بازجویی', 'بازداشت', 'بازدید', 'بازرسی', 'بازرگانی', 'بازسازی', 'بازنشسته', 'بازنشستگان', 'بازنشستگی', 'بازنگری', 'بازه', 'بازپرس', 'بازگرداندن', 'بازگشایی', 'بازگشت', 'بازی', 'بازیهای', 'بازیکن', 'بازیکنان', 'بازیگر', 'بازیگران', 'باشگاه', 'باعث', 'باغ', 'بافت', 'باقی', 'باقیمانده', 'بالاتر', 'بالاتری', 'بالاترین', 'بالایی', 'بالغ', 'بامداد', 'باند', 'بانوان', 'بانک', 'بانکها', 'بانکهای', 'بانکی', 'باور', 'بایستی', 'ببرد', 'ببرند', 'ببرید', 'ببریم', 'ببیند', 'ببینند', 'ببینید', 'ببینیم', 'بتوانند', 'بتوانید', 'بحث', 'بحران', 'بحرانی', 'بحرین', 'بخاطر', 'بختیاری', 'بخشنامه', 'بخشهای', 'بخشهایی', 'بخوانید', 'بد', 'بداند', 'بدانند', 'بدانید', 'بدانیم', 'بدتر', 'بدترین', 'بدست', 'بدل', 'بدلیل', 'بدن', 'بدنه', 'بدنی', 'بدهد', 'بدهم', 'بدهند', 'بدهی', 'بدهیم', 'بدو', 'بدی', 'بدیهی', 'برآورد', 'برابری', 'برادر', 'براي', 'برایتان', 'براین', 'برتر', 'برتری', 'برترین', 'برج', 'برجام', 'برجای', 'برجسته', 'برخلاف', 'برخورد', 'برخوردار', 'برد', 'بردارد', 'برداشت', 'برداشته', 'بردن', 'بردند', 'برده', 'بررسی', 'بررسیها', 'بررسیهای', 'برزیل', 'برساند', 'برسانند', 'برسانیم', 'برسد', 'برسند', 'برسیم', 'برشمرد', 'برطرف', 'برعهده', 'برف', 'برق', 'برقرار', 'برقراری', 'برقی', 'برمی', 'برمیگردد', 'برنامه', 'برنامهای', 'برنامهریزی', 'برنامهها', 'برنامههای', 'برنج', 'برند', 'برنده', 'برندهای', 'برهم', 'برود', 'بروم', 'برون', 'بروند', 'بروید', 'برویم', 'برکت', 'برکنار', 'برگ', 'برگزار', 'برگزاری', 'برگشت', 'بریتانیا', 'بزرگ', 'بزرگان', 'بزرگتر', 'بزرگترین', 'بزرگی', 'بزند', 'بزنند', 'بزنید', 'بزنیم', 'بست', 'بستر', 'بستری', 'بستن', 'بسته', 'بستگی', 'بسیار', 'بسیج', 'بشار', 'بشر', 'بشری', 'بشود', 'بشکه', 'بصری', 'بصورت', 'بعدی', 'بعنوان', 'بعید', 'بغداد', 'بقیه', 'بلند', 'بلندمدت', 'بلوچستان', 'بلژیک', 'بلیت', 'بمانند', 'بمب', 'بن', 'بنا', 'بنابر', 'بند', 'بندر', 'بندرعباس', 'بنده', 'بنزین', 'بنگاه', 'بنیاد', 'بنیامین', 'بنیان', 'به', 'بهار', 'بهانه', 'بهای', 'بهبود', 'بهتر', 'بهتری', 'بهترین', 'بهداشت', 'بهداشتی', 'بهدلیل', 'بهرام', 'بهره', 'بهرهبرداری', 'بهرهمند', 'بهزیستی', 'بهشتی', 'بهصورت', 'بهطور', 'بهعنوان', 'بهمن', 'بهویژه', 'بهینه', 'بوجود', 'بودجه', 'بوده_است', 'بوده_اند', 'بودهاند', 'بورس', 'بوشهر', 'بولتون', 'بومی', 'بوی', 'بویراحمد', 'بویژه', 'بپردازد', 'بپردازند', 'بچه', 'بچهها', 'بکارگیری', 'بکشد', 'بگذارد', 'بگذارند', 'بگذارید', 'بیان', 'بیانگر', 'بیانیه', 'بیانیهای', 'بیت', 'بیدار', 'بیست', 'بیشترین', 'بیفتد', 'بیمار', 'بیماران', 'بیمارستان', 'بیمارستانی', 'بیماری', 'بیماریهای', 'بیمه', 'بینالملل', 'بینالمللی', 'بینی', 'بیکاری', 'بیگانه', 'تأثیر', 'تأمین', 'تأکید', 'تأیید', 'تئاتر', 'تائید', 'تابستان', 'تابع', 'تاثیر', 'تاثیرات', 'تاثیرگذار', 'تاثیرگذاری', 'تاثیری', 'تاج', 'تاخیر', 'تاریخ', 'تاریخی', 'تازهای', 'تازگی', 'تاسف', 'تاسیس', 'تاسیسات', 'تامین', 'تاکسی', 'تاکید', 'تایمز', 'تایید', 'تبادل', 'تبدیل', 'تبریز', 'تبریک', 'تبصره', 'تبع', 'تبعات', 'تبعه', 'تبلیغ', 'تبلیغات', 'تبلیغاتی', 'تبیین', 'تثبیت', 'تجارب', 'تجارت', 'تجاری', 'تجاوز', 'تجدید', 'تجدیدنظر', 'تجربه', 'تجربیات', 'تجزیه', 'تجمع', 'تجهیز', 'تجهیزات', 'تجویز', 'تحریم', 'تحریمها', 'تحریمهای', 'تحریک', 'تحصیل', 'تحصیلات', 'تحصیلی', 'تحقق', 'تحقیق', 'تحقیقات', 'تحقیقاتی', 'تحلیل', 'تحلیلگران', 'تحمل', 'تحمیل', 'تحمیلی', 'تحول', 'تحولات', 'تحویل', 'تخت', 'تخریب', 'تخصص', 'تخصصی', 'تخصیص', 'تخفیف', 'تخلف', 'تخلفات', 'تخلیه', 'تخم', 'تدابیر', 'تدارک', 'تداوم', 'تدبیر', 'تدریج', 'تدریجی', 'تدوین', 'تذکر', 'ترافیک', 'ترافیکی', 'ترامپ', 'تراکم', 'تربیت', 'ترتیب', 'ترجمه', 'ترجیح', 'ترخیص', 'تردد', 'تردید', 'ترس', 'ترغیب', 'ترمیم', 'ترور', 'تروریست', 'تروریستها', 'تروریستی', 'تروریسم', 'ترویج', 'ترک', 'ترکیب', 'ترکیبی', 'ترکیه', 'تری', 'تزریق', 'تست', 'تسریع', 'تسلیت', 'تسلیحات', 'تسلیحاتی', 'تسلیم', 'تسنیم', 'تسهیل', 'تسهیلات', 'تسویه', 'تشخیص', 'تشدید', 'تشریح', 'تشویق', 'تشکر', 'تشکیل', 'تشکیلات', 'تشییع', 'تصادف', 'تصاویر', 'تصاویری', 'تصدی', 'تصریح', 'تصمیم', 'تصمیمات', 'تصمیمگیری', 'تصمیمی', 'تصور', 'تصویب', 'تصویر', 'تصویری', 'تضعیف', 'تضمین', 'تظاهرات', 'تعادل', 'تعامل', 'تعاملات', 'تعاون', 'تعبیر', 'تعجب', 'تعداد', 'تعدیل', 'تعرفه', 'تعریف', 'تعزیرات', 'تعطیل', 'تعطیلات', 'تعطیلی', 'تعقیب', 'تعلق', 'تعلیق', 'تعمیر', 'تعهد', 'تعهدات', 'تعویض', 'تعویق', 'تعیین', 'تغذیه', 'تغییر', 'تغییرات', 'تغییراتی', 'تغییری', 'تفاهم', 'تفاوت', 'تفاوتی', 'تفسیر', 'تفکر', 'تفکیک', 'تقاضا', 'تقاضای', 'تقدیر', 'تقدیم', 'تقسیم', 'تقلبی', 'تقلید', 'تقویت', 'تلاش', 'تلاشها', 'تلاشهای', 'تلخ', 'تلفات', 'تلفن', 'تلفنی', 'تلقی', 'تلویزیون', 'تلویزیونی', 'تلگرام', 'تماس', 'تماشا', 'تماشاگران', 'تماشای', 'تمایل', 'تمدید', 'تمرکز', 'تمرین', 'تمهیدات', 'تمیز', 'تن', 'تند', 'تنش', 'تنظیم', 'تنفس', 'تنفسی', 'تنهایی', 'تنوع', 'تهدید', 'تهدیدات', 'تهران', 'تهرانی', 'تهیه', 'توئیتر', 'توافق', 'توافقنامه', 'توافقی', 'توانایی', 'توانمند', 'توانمندی', 'توجه', 'توجهی', 'توجیه', 'تورم', 'توزیع', 'توسعه', 'توصیف', 'توصیه', 'توضیح', 'توضیحات', 'توضیحاتی', 'توطئه', 'توفیق', 'توقع', 'توقف', 'توقیف', 'تولد', 'تولید', 'تولیدات', 'تولیدکننده', 'تولیدکنندگان', 'تولیدی', 'تومان', 'تومانی', 'تونل', 'توهین', 'توپ', 'توییتر', 'تک', 'تکذیب', 'تکرار', 'تکلیف', 'تکمیل', 'تکمیلی', 'تکنولوژی', 'تکه', 'تکیه', 'تی', 'تیر', 'تیراندازی', 'تیم', 'تیمش', 'تیمهای', 'تیمی', 'ثابت', 'ثانیه', 'ثبات', 'ثبت', 'ثبتنام', 'ثروت', 'ثمر', 'جاده', 'جادهای', 'جادهها', 'جادههای', 'جاری', 'جاسوسی', 'جالب', 'جام', 'جامع', 'جامعه', 'جان', 'جانب', 'جانبه', 'جانبی', 'جانشین', 'جانی', 'جایزه', 'جایگاه', 'جایگاهی', 'جایگزین', 'جایگزینی', 'جبران', 'جبهه', 'جدایی', 'جدول', 'جدی', 'جدیت', 'جدیدترین', 'جدیدی', 'جذاب', 'جذابیت', 'جذب', 'جرائم', 'جراحی', 'جرایم', 'جرم', 'جریمه', 'جزء', 'جزئی', 'جزئیات', 'جزو', 'جزیره', 'جزییات', 'جستجو', 'جسد', 'جسمانی', 'جسمی', 'جشن', 'جشنواره', 'جعفر', 'جعفری', 'جعل', 'جعلی', 'جغرافیایی', 'جلال', 'جلب', 'جلسات', 'جلسه', 'جلسهای', 'جلوه', 'جمال', 'جمع', 'جمعآوری', 'جمعه', 'جمعیت', 'جمعیتی', 'جمله', 'جمهور', 'جمهوری', 'جناب', 'جنایت', 'جنایی', 'جنبش', 'جنبه', 'جنس', 'جنسی', 'جنوب', 'جنوبی', 'جنگ', 'جنگی', 'جهاد', 'جهان', 'جهانگیری', 'جهانی', 'جو', 'جواب', 'جواد', 'جوامع', 'جوان', 'جوانان', 'جوانی', 'جوی', 'جویی', 'جی', 'جیب', 'جیمز', 'حائز', 'حادثه', 'حاشیه', 'حاصل', 'حافظ', 'حافظه', 'حالت', 'حالی', 'حالیست', 'حالیکه', 'حامد', 'حامل', 'حامی', 'حامیان', 'حاوی', 'حاکم', 'حاکمیت', 'حاکی', 'حبس', 'حجت', 'حجتالاسلام', 'حجم', 'حد', 'حدودی', 'حدی', 'حذف', 'حرف', 'حرفه', 'حرفهای', 'حرفی', 'حرم', 'حرکات', 'حرکت', 'حرکتی', 'حریف', 'حریق', 'حریم', 'حزب', 'حس', 'حساب', 'حسابهای', 'حساس', 'حساسیت', 'حسب', 'حسن', 'حسین', 'حسینی', 'حضرت', 'حضور', 'حضوری', 'حفاظت', 'حفظ', 'حقوق', 'حقوقی', 'حقیقت', 'حقیقی', 'حل', 'حلقه', 'حمایت', 'حمایتهای', 'حمایتی', 'حمل', 'حملات', 'حمله', 'حمید', 'حمیدرضا', 'حناچی', 'حوادث', 'حواشی', 'حوالی', 'حوزه', 'حوزههای', 'حکایت', 'حکم', 'حکمی', 'حکومت', 'حکومتی', 'حیات', 'حیاتی', 'حیث', 'حین', 'حیوانات', 'خاتمه', 'خاتمی', 'خارج', 'خارجه', 'خارجی', 'خاشقجی', 'خاشقچی', 'خاص', 'خاصی', 'خاطر', 'خاطرات', 'خاطرنشان', 'خاطره', 'خالی', 'خام', 'خاموش', 'خانم', 'خانه', 'خانواده', 'خانوادهها', 'خانوادههای', 'خانوادگی', 'خانوار', 'خانگی', 'خاورمیانه', 'خاک', 'خبر', 'خبرآنلاین', 'خبرنگار', 'خبرنگاران', 'خبرهای', 'خبرگزاری', 'خبری', 'ختم', 'خدا', 'خداحافظی', 'خداوند', 'خدماتی', 'خدمت', 'خراب', 'خراسان', 'خرج', 'خرد', 'خرداد', 'خروج', 'خروجی', 'خرید', 'خریدار', 'خریداران', 'خریداری', 'خزانه', 'خزانهداری', 'خزر', 'خسارات', 'خسارت', 'خسته', 'خستگی', 'خشم', 'خشونت', 'خشک', 'خصوص', 'خصوصی', 'خط', 'خطا', 'خطاب', 'خطر', 'خطرات', 'خطرناک', 'خطوط', 'خلاف', 'خلاقیت', 'خلق', 'خلیج', 'خمینی', 'خنثی', 'خنده', 'خواب', 'خواستار', 'خواند', 'خواندن', 'خوانده', 'خواهان', 'خواهد_بود', 'خواهد_داد', 'خواهد_داشت', 'خواهد_رسید', 'خواهد_رفت', 'خواهد_شد', 'خواهد_کرد', 'خواهد_گرفت', 'خواهد_یافت', 'خواهر', 'خواهش', 'خواهند_بود', 'خواهند_داد', 'خواهند_داشت', 'خواهند_شد', 'خواهند_کرد', 'خواهیم_بود', 'خواهیم_داد', 'خواهیم_داشت', 'خواهیم_کرد', 'خوب', 'خوبی', 'خودداری', 'خودرو', 'خودروسازان', 'خودروسازی', 'خودروها', 'خودروهای', 'خودروهایی', 'خودروی', 'خودرویی', 'خودکار', 'خودکشی', 'خوراک', 'خوراکی', 'خورد', 'خوردن', 'خورده', 'خورده_است', 'خورشید', 'خوزستان', 'خوش', 'خوشبختانه', 'خوشحال', 'خوشحالی', 'خون', 'خونی', 'خیابان', 'خیابانهای', 'خیابانی', 'خیال', 'خیریه', 'خیلیها', 'دائم', 'دائمی', 'داخلی', 'دادستان', 'دادستانی', 'دادسرا', 'دادسرای', 'داده_است', 'داده_اند', 'داده_بود', 'داده_بودند', 'داده_شد', 'داده_شده_است', 'داده_شود', 'دادهاند', 'دادهایم', 'دادگاه', 'دادگستری', 'دارا', 'دارای', 'دارایی', 'دارندگان', 'دارو', 'داروها', 'داروهای', 'داروی', 'دارویی', 'داستان', 'داشته_است', 'داشته_اند', 'داشته_باشد', 'داشته_باشند', 'داشته_باشید', 'داشته_باشیم', 'داشتهاند', 'داشتهایم', 'داعش', 'داغ', 'دام', 'دامن', 'دامنه', 'داند', 'دانستند', 'دانسته', 'دانش', 'دانشآموز', 'دانشآموزان', 'دانشجو', 'دانشجوی', 'دانشجویان', 'دانشجویی', 'دانشمندان', 'دانشکده', 'دانشگاه', 'دانشگاهها', 'دانشگاههای', 'دانشگاهی', 'دانلود', 'دانمارک', 'داننده', 'دانیم', 'داور', 'داوران', 'داوری', 'داوطلبان', 'دبیر', 'دبیرخانه', 'دبیرکل', 'دخالت', 'دختر', 'دختران', 'دخیل', 'در', 'درآمد', 'درآمده', 'درآمدهای', 'درآمدی', 'دراز', 'دراین', 'درب', 'درج', 'درجه', 'درحال', 'درحالی', 'درخت', 'درخشان', 'درخصوص', 'درخواست', 'درد', 'درس', 'درستی', 'درسی', 'درصد', 'درصدد', 'درصدی', 'درمان', 'درمانی', 'درمورد', 'درهای', 'دروازه', 'دروغ', 'درونی', 'درک', 'درگذشت', 'درگیر', 'درگیری', 'دریا', 'دریافت', 'دریافتی', 'دریاچه', 'دریای', 'دریایی', 'دسامبر', 'دست', 'دستاورد', 'دستاوردهای', 'دسترس', 'دسترسی', 'دستمزد', 'دسته', 'دستور', 'دستورالعمل', 'دستکم', 'دستگاه', 'دستگاهها', 'دستگاههای', 'دستگیر', 'دستگیری', 'دستی', 'دستیابی', 'دستیار', 'دشمن', 'دشمنان', 'دشمنی', 'دشوار', 'دشواری', 'دعوت', 'دغدغه', 'دفاتر', 'دفاع', 'دفاعی', 'دفتر', 'دفع', 'دقایقی', 'دقت', 'دقیق', 'دقیقه', 'دقیقی', 'دل', 'دلار', 'دلاری', 'دلالان', 'دلایل', 'دلایلی', 'دلیل', 'دلیلی', 'دما', 'دمای', 'دموکرات', 'دموکراتیک', 'دموکراسی', 'دنبال', 'دنیا', 'دنیای', 'دهنده', 'دهه', 'دهها', 'دوازدهم', 'دوام', 'دوجانبه', 'دوحه', 'دود', 'دور', 'دوران', 'دوربین', 'دوره', 'دورههای', 'دوری', 'دوست', 'دوستان', 'دوستانه', 'دوستی', 'دوش', 'دوشنبه', 'دولت', 'دولتها', 'دولتهای', 'دولتی', 'دومین', 'دونالد', 'دچار', 'دکتر', 'دکتری', 'دی', 'دیابت', 'دیجیتال', 'دید', 'دیدار', 'دیداری', 'دیدم', 'دیدن', 'دیدند', 'دیدگاه', 'دیدیم', 'دیلی', 'دیماه', 'دین', 'دینی', 'دیوار', 'دیوان', 'دیپلمات', 'دیپلماتیک', 'دیپلماسی', 'ذخایر', 'ذخیره', 'ذرات', 'ذهن', 'ذهنی', 'ذکر', 'ذی', 'ذیربط', 'ذیل', 'رأی', 'رئیس', 'رئیسجمهور', 'رئیسجمهوری', 'رئیسه', 'رابطه', 'راجع', 'راحت', 'راحتی', 'رادیو', 'رادیویی', 'راس', 'راستا', 'راستای', 'راضی', 'راننده', 'رانندگان', 'رانندگی', 'راهاندازی', 'راهبردی', 'راهداری', 'راهنمای', 'راهنمایی', 'راههای', 'راهور', 'راهپیمایی', 'راهکار', 'راهکارهای', 'راهکاری', 'راهی', 'رای', 'رایانه', 'رایج', 'رایزنی', 'رایگان', 'ربطی', 'ربوده', 'رتبه', 'رجب', 'رحمانی', 'رحیمی', 'رخ', 'رد', 'رده', 'ردیف', 'رساند', 'رساندن', 'رساندند', 'رسانه', 'رسانهای', 'رسانهها', 'رسانههای', 'رسانی', 'رستوران', 'رسد', 'رسمی', 'رسمیت', 'رسول', 'رسیدن', 'رسیدند', 'رسیده_است', 'رسیده_بود', 'رسیدگی', 'رسیدیم', 'رشت', 'رشد', 'رصد', 'رضا', 'رضایت', 'رضایی', 'رضوی', 'رعایت', 'رعد', 'رغم', 'رفاه', 'رفتار', 'رفتارهای', 'رفتاری', 'رفتم', 'رفتن', 'رفتند', 'رفته_است', 'رفته_بود', 'رفع', 'رقابت', 'رقابتی', 'رقم', 'رقمی', 'رقیب', 'رمز', 'رنج', 'رنگ', 'رنگی', 'ره', 'رها', 'رهبر', 'رهبران', 'رهبری', 'روابط', 'روادید', 'روال', 'روان', 'روانه', 'روانی', 'روایت', 'روبرو', 'روبه', 'روبهرو', 'روح', 'روحانی', 'روحی', 'روحیه', 'رود', 'رودخانه', 'روده', 'روزمره', 'روزنامه', 'روزنامهنگار', 'روزه', 'روزها', 'روزی', 'روس', 'روسای', 'روستا', 'روستاها', 'روستاهای', 'روستای', 'روستایی', 'روسی', 'روسیه', 'روشن', 'روشنی', 'روشهای', 'روشی', 'روغن', 'روند', 'رونق', 'رونمایی', 'رویترز', 'رویداد', 'رویه', 'رویکرد', 'رژیم', 'رکود', 'رکورد', 'رگبار', 'ریاست', 'ریاض', 'ریال', 'ریالی', 'ریز', 'ریزش', 'ریسک', 'ریشه', 'رییس', 'زائر', 'زائران', 'زاده', 'زاهدان', 'زاویه', 'زبان', 'زحمات', 'زحمت', 'زخم', 'زخمی', 'زد', 'زدن', 'زدند', 'زده', 'زده_است', 'زرد', 'زلزله', 'زمستان', 'زمین', 'زمینهای', 'زمینههای', 'زمینی', 'زن', 'زنان', 'زنجان', 'زنجیره', 'زند', 'زندان', 'زندانی', 'زنده', 'زندگی', 'زنگ', 'زنی', 'زهرا', 'زوج', 'زودی', 'زور', 'زیاد', 'زیادی', 'زیارت', 'زیان', 'زیبا', 'زیبایی', 'زیرزمینی', 'زیرساخت', 'زیرساختهای', 'زیست', 'زیستی', 'سؤال', 'سابقه', 'ساحل', 'ساحلی', 'ساخت', 'ساختار', 'ساختاری', 'ساختمان', 'ساختمانی', 'ساختن', 'ساخته_شده_است', 'ساده', 'سادگی', 'ساز', 'سازد', 'سازمان', 'سازماندهی', 'سازمانها', 'سازمانهای', 'سازمانی', 'سازنده', 'سازوکار', 'ساعات', 'ساعاتی', 'ساعت', 'ساعته', 'ساعتی', 'سال', 'سالروز', 'سالم', 'سالن', 'ساله', 'سالها', 'سالهای', 'سالگرد', 'سالگی', 'سالی', 'سالیان', 'سامان', 'ساماندهی', 'سامانه', 'سانتیگراد', 'سانحه', 'ساکن', 'ساکنان', 'سایبری', 'سایت', 'سایتهای', 'سایه', 'سایپا', 'سبب', 'سبد', 'سبز', 'سبزی', 'سبک', 'ست', 'ستاد', 'ستاره', 'سختی', 'سخن', 'سخنان', 'سخنانش', 'سخنانی', 'سخنرانی', 'سخنگوی', 'سد', 'سراسری', 'سراغ', 'سران', 'سرباز', 'سربازان', 'سرخ', 'سرد', 'سردار', 'سرزمین', 'سرشار', 'سرطان', 'سرعت', 'سرقت', 'سرما', 'سرمایه', 'سرمایهگذاری', 'سرمربی', 'سرنشین', 'سرنشینان', 'سرنوشت', 'سرهنگ', 'سرویس', 'سرپرست', 'سرپرستی', 'سرکوب', 'سرگرمی', 'سریال', 'سریع', 'سریعتر', 'سطح', 'سطحی', 'سطوح', 'سعود', 'سعودی', 'سعودیها', 'سعید', 'سفارت', 'سفارش', 'سفر', 'سفرهای', 'سفری', 'سفید', 'سفیر', 'سقف', 'سقوط', 'سلاح', 'سلام', 'سلامت', 'سلامتی', 'سلطه', 'سلمان', 'سلول', 'سمت', 'سمنان', 'سن', 'سنت', 'سنتی', 'سنجش', 'سند', 'سنگ', 'سنگین', 'سنگینی', 'سنی', 'سنین', 'سه', 'سهام', 'سهشنبه', 'سهم', 'سهمیه', 'سو', 'سوء', 'سوءاستفاده', 'سوئد', 'سوئیس', 'سوابق', 'سواحل', 'سواد', 'سوار', 'سواری', 'سوال', 'سوالات', 'سوالی', 'سوخت', 'سود', 'سوری', 'سوریه', 'سوزی', 'سومین', 'سپاه', 'سپتامبر', 'سپرده', 'سپری', 'سکته', 'سکه', 'سکوت', 'سکونت', 'سی', 'سیاست', 'سیاستها', 'سیاستهای', 'سیاستگذاری', 'سیاسی', 'سیاه', 'سیب', 'سید', 'سیر', 'سیستان', 'سیستم', 'سیستمهای', 'سیل', 'سیما', 'سینما', 'سینمای', 'سینمایی', 'سینه', 'سیگار', 'شاخص', 'شاخصهای', 'شاد', 'شادی', 'شارژ', 'شاغل', 'شامل', 'شامگاه', 'شانس', 'شاه', 'شاهد', 'شاهین', 'شاکی', 'شاگردان', 'شایان', 'شایسته', 'شایع', 'شایعات', 'شایعه', 'شب', 'شبانه', 'شبه', 'شبکه', 'شبکههای', 'شبیه', 'شتاب', 'شجاع', 'شخص', 'شخصی', 'شخصیت', 'شدت', 'شده_است', 'شده_اند', 'شده_باشد', 'شده_بود', 'شده_بودند', 'شدهاند', 'شدگان', 'شدیدی', 'شرایط', 'شرایطی', 'شرح', 'شرط', 'شرعی', 'شرق', 'شرقی', 'شروع', 'شرکای', 'شرکت', 'شرکتها', 'شرکتهای', 'شرکتی', 'شریعتمداری', 'شریف', 'شریک', 'ششم', 'ششمین', 'شعار', 'شعب', 'شعبه', 'شغل', 'شغلی', 'شفاف', 'شفافیت', 'شلمچه', 'شلیک', 'شمار', 'شماره', 'شمال', 'شمالی', 'شناخت', 'شناخته', 'شناسایی', 'شنبه', 'شنیدن', 'شنیده', 'شهادت', 'شهدا', 'شهدای', 'شهر', 'شهرت', 'شهردار', 'شهرداری', 'شهرسازی', 'شهرستان', 'شهرستانهای', 'شهرها', 'شهرهای', 'شهروند', 'شهروندان', 'شهروندی', 'شهرک', 'شهری', 'شهریور', 'شهریورماه', 'شهید', 'شواهد', 'شود', 'شور', 'شورا', 'شورای', 'شک', 'شکایت', 'شکر', 'شکست', 'شکل', 'شکلی', 'شگفت', 'شیخ', 'شیر', 'شیراز', 'شیشه', 'شیعه', 'شیمیایی', 'شیوع', 'شیوه', 'صاحب', 'صاحبان', 'صادر', 'صادرات', 'صادراتی', 'صادره', 'صادق', 'صادقانه', 'صادقی', 'صاف', 'صالح', 'صالحی', 'صبح', 'صبر', 'صحبت', 'صحبتهای', 'صحت', 'صحن', 'صحنه', 'صحیح', 'صدا', 'صدام', 'صداوسیما', 'صدای', 'صدد', 'صدر', 'صدها', 'صدور', 'صراحت', 'صرف', 'صرفه', 'صریح', 'صعود', 'صف', 'صفحات', 'صفحه', 'صفر', 'صلاح', 'صلاحیت', 'صلح', 'صمت', 'صنایع', 'صندلی', 'صندوق', 'صنعت', 'صنعتی', 'صنفی', 'صهیونیستی', 'صوتی', 'صورتی', 'صیانت', 'ضبط', 'ضد', 'ضرب', 'ضربه', 'ضرر', 'ضرورت', 'ضروری', 'ضعف', 'ضعیف', 'ضمانت', 'ضوابط', 'طبق', 'طبقه', 'طبیعت', 'طبیعی', 'طراح', 'طراحی', 'طرح', 'طرحهای', 'طرحی', 'طرز', 'طرفدار', 'طرفداران', 'طرفه', 'طرفی', 'طرفین', 'طعم', 'طلا', 'طلاق', 'طلای', 'طلایی', 'طلب', 'طوری', 'طول', 'طولانی', 'طیب', 'طیف', 'ظالمانه', 'ظاهر', 'ظاهری', 'ظرف', 'ظرفیت', 'ظرفیتهای', 'ظریف', 'ظلم', 'ظهر', 'ظهور', 'عادت', 'عادل', 'عادی', 'عازم', 'عاشق', 'عاطفی', 'عالم', 'عالی', 'عامل', 'عاملان', 'عبارت', 'عباس', 'عبدالرضا', 'عبدالله', 'عبور', 'عج', 'عجیب', 'عجیبی', 'عدالت', 'عدد', 'عده', 'عدهای', 'عذرخواهی', 'عراق', 'عراقی', 'عرب', 'عربستان', 'عربستانی', 'عربی', 'عرصه', 'عرض', 'عرضه', 'عزت', 'عزم', 'عزیز', 'عزیزان', 'عشق', 'عصبانی', 'عصبی', 'عصر', 'عصرایران', 'عضو', 'عضویت', 'عظیم', 'عظیمی', 'عفونت', 'عقل', 'عقیده', 'علائم', 'علاقه', 'علاوه', 'علت', 'علل', 'علم', 'علمی', 'علمیه', 'علنی', 'علوم', 'علی', 'علیرضا', 'علیرغم', 'عمان', 'عمر', 'عمران', 'عمرانی', 'عمق', 'عملکرد', 'عملی', 'عملیات', 'عملیاتی', 'عمومی', 'عمیق', 'عناصر', 'عناوین', 'عنایت', 'عهده', 'عوارض', 'عواقب', 'عوامل', 'عواملی', 'عوض', 'عکس', 'عیار', 'عین', 'غافل', 'غبار', 'غذا', 'غذاهای', 'غذای', 'غذایی', 'غرب', 'غربی', 'غریب', 'غزه', 'غلامحسین', 'غلامرضا', 'غلبه', 'غلط', 'غلظت', 'غم', 'غنی', 'غیردولتی', 'غیرقابل', 'غیرمجاز', 'غیره', 'فاجعه', 'فارس', 'فارسی', 'فارغ', 'فاز', 'فاش', 'فاصله', 'فاضلاب', 'فاطمه', 'فایده', 'فتا', 'فتح', 'فجر', 'فدراسیون', 'فدرال', 'فرآورده', 'فرآیند', 'فرا', 'فراتر', 'فراخوان', 'فرار', 'فراز', 'فراموش', 'فرانسه', 'فرانسوی', 'فراهم', 'فراوان', 'فراوانی', 'فراکسیون', 'فراگیر', 'فرایند', 'فرد', 'فردی', 'فرزند', 'فرزندان', 'فرسوده', 'فرصت', 'فرصتی', 'فرض', 'فرعی', 'فرق', 'فرم', 'فرمان', 'فرماندار', 'فرمانداری', 'فرمانده', 'فرماندهان', 'فرماندهی', 'فرمودند', 'فرنگی', 'فرهاد', 'فرهنگ', 'فرهنگی', 'فرو', 'فروخته', 'فرود', 'فرودگاه', 'فروردین', 'فروش', 'فروشنده', 'فروشندگان', 'فروشگاه', 'فروشی', 'فروند', 'فریاد', 'فریب', 'فساد', 'فشار', 'فشارها', 'فشارهای', 'فصل', 'فصلی', 'فضا', 'فضاهای', 'فضای', 'فضایی', 'فعال', 'فعالان', 'فعالیت', 'فعالیتهای', 'فعلی', 'فقدان', 'فقر', 'فقره', 'فقیه', 'فلسطین', 'فناوری', 'فناوریهای', 'فنی', 'فهرست', 'فهم', 'فواید', 'فوت', 'فوتبال', 'فوری', 'فوریت', 'فوریتهای', 'فوریه', 'فوقالعاده', 'فولاد', 'فکری', 'فیزیکی', 'فیفا', 'فیلم', 'فیلمبرداری', 'فیلمها', 'فیلمهای', 'فیلمی', 'فینال', 'قائل', 'قائم', 'قابلیت', 'قابلیتهای', 'قاتل', 'قادر', 'قاره', 'قاسم', 'قاسمی', 'قاضی', 'قاطع', 'قالب', 'قانع', 'قانون', 'قانونی', 'قاچاق', 'قبال', 'قبلی', 'قبول', 'قبولی', 'قبیل', 'قتل', 'قدرت', 'قدرتمند', 'قدردانی', 'قدس', 'قدم', 'قدیم', 'قدیمی', 'قرآن', 'قرائت', 'قرار', 'قرارداد', 'قراردادهای', 'قراردادی', 'قربانی', 'قربانیان', 'قرمز', 'قرن', 'قریب', 'قزوین', 'قسمت', 'قسمتی', 'قشر', 'قصد', 'قصه', 'قضائی', 'قضائیه', 'قضاوت', 'قضایی', 'قضاییه', 'قضیه', 'قطار', 'قطر', 'قطع', 'قطعات', 'قطعنامه', 'قطعه', 'قطعی', 'قلب', 'قلبی', 'قلم', 'قم', 'قند', 'قهرمان', 'قهرمانان', 'قهرمانی', 'قهوه', 'قوا', 'قوانین', 'قوای', 'قوت', 'قول', 'قوه', 'قوی', 'قید', 'قیمت', 'قیمتها', 'قیمتهای', 'قیمتی', 'كه', 'لاریجانی', 'لازم', 'لازمه', 'لاستیک', 'لایحه', 'لباس', 'لبنان', 'لحاظ', 'لحظات', 'لحظه', 'لذت', 'لرزه', 'لرستان', 'لزوم', 'لطف', 'لغو', 'لمس', 'لندن', 'لوازم', 'لوایح', 'لوله', 'لوکس', 'لیتر', 'لیتری', 'لیست', 'لیگ', 'مأموران', 'مؤثر', 'مابقی', 'ماجرا', 'ماجرای', 'مادر', 'ماده', 'مادی', 'مارس', 'مازاد', 'مازندران', 'ماشین', 'مال', 'مالک', 'مالکان', 'مالکیت', 'مالی', 'مالیات', 'مالیاتی', 'مامور', 'ماموران', 'ماموریت', 'ماند', 'ماندن', 'مانده', 'مانده_است', 'ماندگار', 'مانع', 'ماه', 'ماهانه', 'ماهه', 'ماههای', 'ماهی', 'ماهیت', 'مایع', 'مایل', 'مایه', 'مایک', 'مباحث', 'مبادلات', 'مبارزه', 'مبالغ', 'مبتلا', 'مبتنی', 'مبلغ', 'مبلغی', 'مبنای', 'مبنی', 'متأسفانه', 'متاسفانه', 'متحد', 'متحدان', 'متحده', 'متحمل', 'متخصص', 'متخصصان', 'متخلف', 'متخلفان', 'متر', 'مترو', 'متری', 'متشکل', 'متصل', 'متعادل', 'متعال', 'متعدد', 'متعددی', 'متعلق', 'متعهد', 'متفاوت', 'متفاوتی', 'متقابل', 'متقاضی', 'متقاضیان', 'متمرکز', 'متن', 'متناسب', 'متنوع', 'متهم', 'متهمان', 'متواری', 'متوالی', 'متوجه', 'متوسط', 'متوقف', 'متولد', 'متولی', 'مثال', 'مثبت', 'مثبتی', 'مثلا', 'مجاز', 'مجازات', 'مجازی', 'مجبور', 'مجتبی', 'مجتمع', 'مجدد', 'مجرم', 'مجرمانه', 'مجروح', 'مجری', 'مجلس', 'مجله', 'مجمع', 'مجموع', 'مجموعه', 'مجهز', 'مجوز', 'مجوزهای', 'مجید', 'محاسبات', 'محاسبه', 'محاصره', 'محافظت', 'محاکمه', 'محبوب', 'محبوبیت', 'محترم', 'محتوای', 'محدود', 'محدوده', 'محدودی', 'محدودیت', 'محدودیتهای', 'محرمانه', 'محروم', 'محرومیت', 'محسن', 'محسنی', 'محسوب', 'محصول', 'محصولات', 'محصولی', 'محض', 'محقق', 'محققان', 'محل', 'محله', 'محلی', 'محمد', 'محمدجواد', 'محمدرضا', 'محمدعلی', 'محمدی', 'محمود', 'محموله', 'محور', 'محورهای', 'محوری', 'محوریت', 'محوطه', 'محکم', 'محکوم', 'محکومیت', 'محیط', 'محیطی', 'مخاطب', 'مخاطبان', 'مخالف', 'مخالفان', 'مخالفت', 'مختلفی', 'مخدر', 'مخرب', 'مخصوص', 'مخفی', 'مد', 'مداخله', 'مدار', 'مدارس', 'مدارک', 'مدافع', 'مداوم', 'مدتها', 'مدتی', 'مدرس', 'مدرسه', 'مدرن', 'مدرک', 'مدعی', 'مدل', 'مدلهای', 'مدنظر', 'مدنی', 'مدیر', 'مدیران', 'مدیرعامل', 'مدیره', 'مدیرکل', 'مدیریت', 'مدیریتی', 'مذاکرات', 'مذاکره', 'مذهبی', 'مذکور', 'مراتب', 'مراجع', 'مراجعه', 'مراحل', 'مراسم', 'مراقب', 'مراقبت', 'مراکز', 'مربع', 'مربوط', 'مربوطه', 'مربی', 'مرتبط', 'مرتضی', 'مرتفع', 'مرتکب', 'مرجع', 'مرحله', 'مرحوم', 'مرد', 'مرداد', 'مردان', 'مردمی', 'مردی', 'مرز', 'مرزها', 'مرزهای', 'مرزی', 'مرغ', 'مرور', 'مرکز', 'مرکزی', 'مرگ', 'مریم', 'مزایای', 'مزمن', 'مزیت', 'مسأله', 'مسؤول', 'مسؤولان', 'مسئله', 'مسئول', 'مسئولان', 'مسئولیت', 'مسئولین', 'مسائل', 'مسائلی', 'مسابقات', 'مسابقه', 'مساحت', 'مساعد', 'مسافر', 'مسافران', 'مسافرتی', 'مساله', 'مسایل', 'مستثنی', 'مستقر', 'مستقل', 'مستقیم', 'مستمر', 'مستندات', 'مسجد', 'مسدود', 'مسعود', 'مسلح', 'مسلحانه', 'مسلم', 'مسلمان', 'مسلمانان', 'مسمومیت', 'مسوول', 'مسوولان', 'مسکن', 'مسکو', 'مسکونی', 'مسیر', 'مسیرهای', 'مسیری', 'مشابه', 'مشارکت', 'مشاغل', 'مشاهده', 'مشاور', 'مشاوران', 'مشاوره', 'مشترک', 'مشترکی', 'مشتری', 'مشتریان', 'مشخص', 'مشخصات', 'مشخصی', 'مشروبات', 'مشغول', 'مشمول', 'مشهد', 'مشهود', 'مشهور', 'مشورت', 'مشکل', 'مشکلات', 'مشکلاتی', 'مشکلی', 'مشکوک', 'مصاحبه', 'مصاحبهای', 'مصادیق', 'مصاف', 'مصالح', 'مصداق', 'مصدوم', 'مصدومان', 'مصدومیت', 'مصر', 'مصرف', 'مصرفی', 'مصطفی', 'مصلحت', 'مصنوعی', 'مصوب', 'مصوبات', 'مصوبه', 'مطابق', 'مطالب', 'مطالبات', 'مطالبه', 'مطالبی', 'مطالعات', 'مطالعه', 'مطبوعات', 'مطبوعاتی', 'مطرح', 'مطلب', 'مطلبی', 'مطلع', 'مطلوب', 'مطمئن', 'مطهری', 'مظنون', 'معابر', 'معادل', 'معادن', 'معاف', 'معافیت', 'معاملات', 'معامله', 'معاون', 'معاونان', 'معاونت', 'معاینه', 'معتبر', 'معترضان', 'معتقد', 'معدن', 'معدنی', 'معرض', 'معرفی', 'معروف', 'معصومه', 'معضل', 'معضلات', 'معظم', 'معلق', 'معلم', 'معلمان', 'معلوم', 'معماری', 'معمول', 'معنا', 'معنای', 'معنوی', 'معنی', 'معیشت', 'معیشتی', 'معین', 'مغازه', 'مغذی', 'مغز', 'مغزی', 'مفاسد', 'مفقود', 'مفهوم', 'مفید', 'مقابله', 'مقاطع', 'مقاله', 'مقام', 'مقامات', 'مقامهای', 'مقاوم', 'مقاومت', 'مقاومتی', 'مقایسه', 'مقداری', 'مقدس', 'مقدم', 'مقدماتی', 'مقر', 'مقرر', 'مقررات', 'مقصد', 'مقصر', 'مقطع', 'مقطعی', 'مقوله', 'ملاحظه', 'ملاقات', 'ملت', 'ملتهای', 'ملزم', 'ملل', 'ملک', 'ملکی', 'ملی', 'ممانعت', 'مملکت', 'ممنوع', 'ممنوعیت', 'منابع', 'منازل', 'مناسب', 'مناسبات', 'مناسبت', 'مناسبی', 'مناطق', 'مناطقی', 'منافع', 'منبع', 'منتخب', 'منتشر', 'منتظر', 'منتقد', 'منتقدان', 'منتقل', 'منجر', 'منحصر', 'مند', 'مندرج', 'مندی', 'منزل', 'منشا', 'منصوب', 'منصور', 'منطبق', 'منطقه', 'منطقهای', 'منظر', 'منظم', 'منظور', 'منع', 'منفی', 'منوط', 'منکر', 'مه', 'مهاجر', 'مهاجران', 'مهاجرت', 'مهاجم', 'مهار', 'مهارت', 'مهدی', 'مهر', 'مهران', 'مهرداد', 'مهرماه', 'مهلت', 'مهم', 'مهمان', 'مهمتر', 'مهمترین', 'مهمی', 'مهندس', 'مهندسی', 'مهیا', 'مواجه', 'مواجهه', 'مواد', 'مواردی', 'مواصلاتی', 'مواضع', 'موافق', 'موافقت', 'مواقع', 'موانع', 'موبایل', 'موتور', 'موتورسیکلت', 'موثر', 'موثری', 'موج', 'موجب', 'موجود', 'مورخ', 'موردی', 'موزه', 'موسسات', 'موسسه', 'موسوم', 'موسوی', 'موسیقی', 'موشک', 'موشکی', 'موضع', 'موضوع', 'موضوعات', 'موضوعاتی', 'موضوعی', 'موظف', 'موعد', 'موفق', 'موفقیت', 'موقت', 'موقع', 'موقعیت', 'موکول', 'مي', 'مکان', 'مکانی', 'مکزیک', 'مکلف', 'مکمل', 'می', 'میآورد', 'میآورند', 'میآید', 'میآیند', 'میافتد', 'میانه', 'میانگین', 'میباشد', 'میبرد', 'میبرند', 'میبینند', 'میبینید', 'میبینیم', 'میتوان', 'میتواند', 'میتوانند', 'میتوانید', 'میتوانیم', 'میخواهد', 'میخواهم', 'میخواهند', 'میخواهید', 'میخواهیم', 'میخورد', 'میداد', 'میدادند', 'میدان', 'میداند', 'میدانم', 'میدانند', 'میدانی', 'میدانید', 'میدانیم', 'میدهد', 'میدهم', 'میدهند', 'میدهیم', 'میر', 'میراث', 'میرساند', 'میرسد', 'میرفت', 'میرود', 'میروند', 'میز', 'میزبان', 'میزبانی', 'میزند', 'میزنند', 'میسر', 'میشد', 'میشدند', 'میشود', 'میشوند', 'میشویم', 'میل', 'میلاد', 'میلادی', 'میلی', 'میلیونی', 'میماند', 'میوه', 'میپردازد', 'میکرد', 'میکردم', 'میکردند', 'میکردیم', 'میکشد', 'میگذارد', 'میگذارند', 'میگذرد', 'میگردد', 'میگرفت', 'میگفت', 'میگفتند', 'میگوید', 'میگویم', 'میگویند', 'میگوییم', 'میگیرد', 'میگیرند', 'مییابد', 'نا', 'ناامنی', 'ناامیدی', 'نابود', 'نابودی', 'ناتوانی', 'ناجا', 'ناحیه', 'نادر', 'نادرست', 'نادیده', 'ناراحت', 'ناراحتی', 'نارضایتی', 'ناسالم', 'ناشناس', 'ناصر', 'ناظر', 'نامزد', 'نامش', 'نامناسب', 'نامه', 'نامهای', 'نان', 'ناوگان', 'ناپدید', 'ناپذیر', 'ناچار', 'ناکام', 'نایب', 'نباشد', 'نباشند', 'نباشید', 'نباشیم', 'نبرد', 'نبودن', 'نبودند', 'نبوده', 'نبوده_است', 'نتانیاهو', 'نتایج', 'نتواند', 'نتوانست', 'نتیجه', 'نجات', 'نجف', 'نحو', 'نحوه', 'نحوی', 'نخبگان', 'نخستوزیر', 'نخواهد_بود', 'نخواهد_داشت', 'نخواهد_شد', 'نخواهد_کرد', 'نداد', 'ندادند', 'نداده', 'نداده_است', 'نداشتن', 'نداشته_است', 'نداشته_باشد', 'نداشته_باشند', 'ندهد', 'ندهند', 'ندهید', 'نرخ', 'نرسیده_است', 'نرم', 'نزدیکی', 'نسبت', 'نسبی', 'نسخه', 'نسل', 'نشاط', 'نشاندهنده', 'نشانه', 'نشانی', 'نشد', 'نشدن', 'نشدند', 'نشده_است', 'نشده_بود', 'نشر', 'نشریه', 'نشست', 'نشستی', 'نشود', 'نشوند', 'نشینی', 'نصب', 'نصف', 'نظارت', 'نظارتی', 'نظام', 'نظامی', 'نظامیان', 'نظر', 'نظرات', 'نظرم', 'نظری', 'نظریه', 'نظم', 'نعمت', 'نفت', 'نفتی', 'نفر', 'نفره', 'نفری', 'نفس', 'نفع', 'نفوذ', 'نقاط', 'نقد', 'نقدی', 'نقدینگی', 'نقش', 'نقشه', 'نقشههای', 'نقشی', 'نقص', 'نقض', 'نقطه', 'نقل', 'نقلیه', 'نماد', 'نماز', 'نمایش', 'نمایشگاه', 'نمایشی', 'نمایند', 'نماینده', 'نمایندگان', 'نمایندگی', 'نمایید', 'نمود', 'نمونه', 'نمک', 'نمیتوان', 'نمیتواند', 'نمیتوانم', 'نمیتوانند', 'نمیتوانیم', 'نمیدانم', 'نمیدهد', 'نمیدهند', 'نمیرسد', 'نمیشد', 'نمیشود', 'نمیشوند', 'نمیکرد', 'نمیکند', 'نمیکنم', 'نمیکنند', 'نمیکنیم', 'نمیگیرد', 'نهاد', 'نهادها', 'نهادهای', 'نهادی', 'نهایت', 'نهایی', 'نهم', 'نو', 'نوآوری', 'نواحی', 'نوار', 'نوامبر', 'نوبت', 'نوبخت', 'نوجوان', 'نوجوانان', 'نور', 'نوری', 'نوسازی', 'نوسان', 'نوسانات', 'نوشت', 'نوشتن', 'نوشته', 'نوشته_است', 'نوشیدن', 'نوشیدنی', 'نویسنده', 'نوین', 'نژاد', 'نکات', 'نکاتی', 'نکته', 'نکرد', 'نکردن', 'نکردند', 'نکرده_است', 'نکردهاند', 'نکردیم', 'نگار', 'نگاهی', 'نگران', 'نگرانی', 'نگرفته_است', 'نگه', 'نگهبان', 'نگهداری', 'نگیرد', 'نیاز', 'نیازمند', 'نیازهای', 'نیازی', 'نیامده', 'نیاید', 'نیت', 'نیرو', 'نیروها', 'نیروهای', 'نیروی', 'نیم', 'نیما', 'نیمه', 'نیوز', 'نیویورک', 'ها', 'هادی', 'هاست', 'هاشمی', 'هاي', 'های', 'هایش', 'هایشان', 'هتل', 'هدایت', 'هدر', 'هدف', 'هدیه', 'هرمزگان', 'هرگونه', 'هزاران', 'هزینه', 'هزینهها', 'هزینههای', 'هسته', 'هستهای', 'هشت', 'هشتم', 'هشدار', 'هفتاد', 'هفتم', 'هفتمین', 'هفته', 'هفتههای', 'هفتگی', 'هلال', 'هلند', 'همانطور', 'همانگونه', 'هماهنگ', 'هماهنگی', 'هماکنون', 'همایش', 'همت', 'همتای', 'همتی', 'همدان', 'همدلی', 'همراه', 'همراهی', 'همسایه', 'همسر', 'همسرش', 'هموطنان', 'همکاران', 'همکاری', 'همکاریهای', 'همیشگی', 'همینطور', 'هند', 'هندی', 'هنر', 'هنرمند', 'هنرمندان', 'هنری', 'هوا', 'هواداران', 'هواشناسی', 'هواپیما', 'هواپیماهای', 'هواپیمای', 'هواپیمایی', 'هوای', 'هوایی', 'هوش', 'هوشمند', 'هوشیاری', 'هویت', 'هکتار', 'هیأت', 'هیئت', 'هیات', 'هیجان', 'وابسته', 'وابستگی', 'واجد', 'واحد', 'واحدهای', 'وادار', 'وارد', 'واردات', 'وارداتی', 'وارده', 'واریز', 'واسطه', 'واشنگتن', 'واضح', 'واقع', 'واقعیت', 'والدین', 'والمسلمین', 'وام', 'واژه', 'واژگونی', 'واکنش', 'واگذار', 'واگذاری', 'وب', 'وبسایت', 'وجه', 'وجوه', 'وحدت', 'وحش', 'وحید', 'وخیم', 'ورزش', 'ورزشگاه', 'ورزشی', 'ورود', 'ورودی', 'وزارت', 'وزارتخانه', 'وزرا', 'وزرای', 'وزش', 'وزن', 'وزیر', 'وزیران', 'وسایل', 'وسط', 'وسعت', 'وسیع', 'وسیعی', 'وسیله', 'وصل', 'وصول', 'وضعیت', 'وضعیتی', 'وظایف', 'وظیفه', 'وعده', 'وقت', 'وقوع', 'ولادیمیر', 'ولایت', 'ولیعهد', 'ونزوئلا', 'وکیل', 'ویتامین', 'ویدیو', 'ویزا', 'ویزای', 'ویژهای', 'ویژگی', 'ویژگیهای', 'پا', 'پادشاه', 'پارس', 'پارلمان', 'پارلمانی', 'پارک', 'پارکینگ', 'پاریس', 'پاسخ', 'پاسخگو', 'پاسخگوی', 'پاسخگویی', 'پاسخی', 'پاسداران', 'پامپئو', 'پاک', 'پاکسازی', 'پاکستان', 'پای', 'پایان', 'پایانه', 'پایانی', 'پایبند', 'پایبندی', 'پایتخت', 'پایدار', 'پایداری', 'پایش', 'پایه', 'پایگاه', 'پاییز', 'پایین', 'پایینتر', 'پتانسیل', 'پتروشیمی', 'پخش', 'پدر', 'پدرش', 'پدیده', 'پذیر', 'پذیرد', 'پذیرش', 'پذیرفت', 'پذیرفته', 'پذیری', 'پر', 'پراکنده', 'پراید', 'پرتاب', 'پرداخت', 'پرداختند', 'پرداخته', 'پرداختی', 'پرده', 'پردیس', 'پرسش', 'پرسنل', 'پرسپولیس', 'پرسید', 'پرنده', 'پرهیز', 'پرواز', 'پروازهای', 'پروانه', 'پرورش', 'پروسه', 'پرونده', 'پروندههای', 'پروژه', 'پروژههای', 'پرچم', 'پزشک', 'پزشکان', 'پزشکی', 'پست', 'پسر', 'پشتیبانی', 'پل', 'پلاک', 'پلتفرم', 'پلیس', 'پلیسی', 'پمپئو', 'پناه', 'پنجاه', 'پنجره', 'پنجشنبه', 'پنجم', 'پنجمین', 'پنهان', 'پوتین', 'پور', 'پوست', 'پوشش', 'پول', 'پولشویی', 'پولی', 'پژو', 'پژوهش', 'پژوهشگران', 'پژوهشی', 'پکن', 'پیاده', 'پیام', 'پیامبر', 'پیامدهای', 'پیامک', 'پیامی', 'پیرو', 'پیروز', 'پیروزی', 'پیروی', 'پیشبرد', 'پیشبینی', 'پیشرفت', 'پیشرفته', 'پیشرفتهای', 'پیشرو', 'پیشنهاد', 'پیشنهادات', 'پیشنهادی', 'پیشگیری', 'پیشین', 'پیمان', 'پیوست', 'پیوستن', 'پیوند', 'پیچیده', 'پیکر', 'پیگیر', 'پیگیری', 'پیگیریهای', 'چابهار', 'چارچوب', 'چالش', 'چالشهای', 'چالوس', 'چاپ', 'چای', 'چراغ', 'چراکه', 'چرب', 'چربی', 'چرخ', 'چرخه', 'چشم', 'چشمگیر', 'چشمگیری', 'چندانی', 'چندی', 'چهارشنبه', 'چهارم', 'چهارمحال', 'چهارمین', 'چهره', 'چهرههای', 'چهل', 'چوب', 'چپ', 'چک', 'چگونگی', 'چیزهایی', 'چین', 'چینی', 'ژانویه', 'ژاپن', 'ژاپنی', 'ژوئن', 'کابین', 'کابینه', 'کاخ', 'کادر', 'کار', 'کارآمد', 'کارآگاهان', 'کارایی', 'کاربر', 'کاربران', 'کاربردی', 'کاربری', 'کارت', 'کارتهای', 'کارخانه', 'کارش', 'کارشناس', 'کارشناسان', 'کارشناسی', 'کارمند', 'کارمندان', 'کارنامه', 'کارها', 'کارهای', 'کارهایی', 'کاروان', 'کارکرد', 'کارکنان', 'کارگاه', 'کارگر', 'کارگران', 'کارگردان', 'کارگردانی', 'کارگروه', 'کارگری', 'کارگیری', 'کاری', 'کاشیما', 'کاغذ', 'کافی', 'کالا', 'کالاها', 'کالاهای', 'کالای', 'کالایی', 'کالیفرنیا', 'کامیون', 'کانادا', 'کانال', 'کانون', 'کاهش', 'کاهشی', 'کبد', 'کتاب', 'کتبی', 'کد', 'کربلا', 'کرج', 'کردستان', 'کرده_است', 'کرده_اند', 'کرده_ایم', 'کرده_باشد', 'کرده_بود', 'کرده_بودند', 'کردهام', 'کردهاند', 'کردهایم', 'کرسی', 'کرمان', 'کرمانشاه', 'کره', 'کریم', 'کریمی', 'کسب', 'کش', 'کشاورزان', 'کشاورزی', 'کشت', 'کشتار', 'کشته', 'کشته_شدند', 'کشتی', 'کشف', 'کشور', 'کشورش', 'کشورمان', 'کشورها', 'کشورهای', 'کشورهایی', 'کشوری', 'کشید', 'کشیدن', 'کشیده', 'کف', 'کلاس', 'کلاسهای', 'کلام', 'کلان', 'کلانتری', 'کلاهبرداری', 'کلمه', 'کلید', 'کلیدی', 'کلیک', 'کما', 'کمال', 'کمبود', 'کمترین', 'کمپانی', 'کمپین', 'کمک', 'کمکهای', 'کمکی', 'کمیته', 'کمیسیون', 'کنترل', 'کندی', 'کنسولگری', 'کنفرانس', 'کنندگان', 'کنوانسیون', 'کنگره', 'کهگیلویه', 'کوتاه', 'کوتاهی', 'کودک', 'کودکان', 'کودکی', 'کوه', 'کوهستانی', 'کوچه', 'کوچک', 'کوچکی', 'کویت', 'کیش', 'کیف', 'کیفرخواست', 'کیفری', 'کیفی', 'کیفیت', 'کیلو', 'کیلومتر', 'کیلومتری', 'کیلوگرم', 'گاز', 'گام', 'گانه', 'گذار', 'گذاران', 'گذارد', 'گذاشت', 'گذاشتن', 'گذاشتند', 'گذاشته_است', 'گذاشته_شد', 'گذر', 'گذشت', 'گذشته_است', 'گر', 'گرامی', 'گرامیداشت', 'گران', 'گرانی', 'گرایش', 'گرایی', 'گرد', 'گردش', 'گردشگران', 'گردشگری', 'گردن', 'گردید', 'گردیده', 'گرفتار', 'گرفته_است', 'گرفته_اند', 'گرفته_بود', 'گرفته_شد', 'گرفته_شده_است', 'گرفته_شود', 'گرفتهاند', 'گرفتگی', 'گرم', 'گرمی', 'گره', 'گروه', 'گروهها', 'گروههای', 'گروهک', 'گری', 'گزارش', 'گزارشها', 'گزارشهای', 'گزارشی', 'گزینه', 'گزینههای', 'گسترده', 'گستردهای', 'گسترش', 'گشت', 'گفتنی', 'گفته_است', 'گفته_اند', 'گفته_بود', 'گفته_شد', 'گفتهاند', 'گفتوگو', 'گفتوگوی', 'گفتگو', 'گل', 'گلایه', 'گلستان', 'گلوله', 'گمان', 'گمرک', 'گناه', 'گندم', 'گوارش', 'گوجه', 'گوش', 'گوشت', 'گوشه', 'گوشی', 'گوشیهای', 'گوناگون', 'گونهای', 'گوگل', 'گیاهان', 'گیاهی', 'گیلان', 'یاد', 'یادآور', 'یادآوری', 'یادداشت', 'یادگیری', 'یارانه', 'یاری', 'یازدهم', 'یافتند', 'یافته_است', 'یزد', 'یمن', 'یورو', 'یورونیوز', 'یونان', 'یکبار', 'یکجانبه', 'یکسان', 'یکسری', 'یکشنبه', 'یکصد', 'یکم', 'یکپارچه', 'یگان', '۳۰']\n",
            "Vocab length: 3934\n"
          ],
          "name": "stdout"
        }
      ]
    },
    {
      "metadata": {
        "id": "blFYl_8t4QmE",
        "colab_type": "code",
        "outputId": "ca5f3cb1-880a-40d5-c843-1e84ceaaa785",
        "colab": {
          "base_uri": "https://localhost:8080/",
          "height": 52
        }
      },
      "cell_type": "code",
      "source": [
        "print('Shape of x_train vector for category predictor: ', x_cat_train_vec.shape)\n",
        "print('Shape of x_test vector for category predictor: ', x_cat_test_vec.shape)"
      ],
      "execution_count": 27,
      "outputs": [
        {
          "output_type": "stream",
          "text": [
            "Shape of x_train vector for category predictor:  (11461, 3934)\n",
            "Shape of x_test vector for category predictor:  (2866, 3934)\n"
          ],
          "name": "stdout"
        }
      ]
    },
    {
      "metadata": {
        "id": "0XfJGWdL8A88",
        "colab_type": "text"
      },
      "cell_type": "markdown",
      "source": [
        "## Vectorize Agency Data"
      ]
    },
    {
      "metadata": {
        "id": "nBbHWCMr4xX1",
        "colab_type": "code",
        "outputId": "f4a88c77-487c-4635-9967-2431ff6247da",
        "colab": {
          "base_uri": "https://localhost:8080/",
          "height": 72
        }
      },
      "cell_type": "code",
      "source": [
        "ag_vectorizer = TfidfVectorizer(lowercase=False, ngram_range=(1,1), min_df=0.005)\n",
        "# train set\n",
        "x_ag_train_corpus = x_ag_train['body'].values\n",
        "x_ag_train_corpus = preprocess(x_ag_train_corpus)\n",
        "# test set\n",
        "x_ag_test_corpus = x_ag_test['body'].values\n",
        "x_ag_test_corpus = preprocess(x_ag_test_corpus)\n",
        "\n",
        "# Fit vectorizer\n",
        "ag_vectorizer.fit(x_ag_train_corpus)\n",
        "\n",
        "# Print vocabulary\n",
        "ag_vocab = ag_vectorizer.get_feature_names()\n",
        "print(ag_vocab)\n",
        "print('Vocab length:', len(ag_vocab))\n",
        "\n",
        "# Transform vectorizer over train and test set\n",
        "x_ag_train_vec = ag_vectorizer.transform(x_ag_train_corpus).toarray()\n",
        "x_ag_test_vec = ag_vectorizer.transform(x_ag_test_corpus).toarray()"
      ],
      "execution_count": 28,
      "outputs": [
        {
          "output_type": "stream",
          "text": [
            "['10', '1397', '16', '30', 'CFT', 'Deult', 'FATF', 'asran', 'secd', 'آئین', 'آب', 'آباد', 'آبادان', 'آبادی', 'آبان', 'آبی', 'آتش', 'آتی', 'آثار', 'آثاری', 'آحاد', 'آخرین', 'آدرس', 'آدم', 'آذر', 'آذربایجان', 'آذرماه', 'آذری', 'آرا', 'آرام', 'آرامش', 'آرای', 'آرزو', 'آرزوی', 'آرش', 'آرمان', 'آرژانتین', 'آزاد', 'آزادی', 'آزار', 'آزمایش', 'آزمایشی', 'آزمون', 'آسان', 'آستان', 'آستانه', 'آسمان', 'آسوشیتدپرس', 'آسیا', 'آسیای', 'آسیایی', 'آسیب', 'آسیبهای', 'آشنا', 'آشنایی', 'آشکار', 'آغاز', 'آفریقا', 'آفرین', 'آفرینی', 'آل', 'آلمان', 'آلمانی', 'آلوده', 'آلودگی', 'آماده', 'آمادگی', 'آمار', 'آمارها', 'آمارهای', 'آماری', 'آمبولانس', 'آمدند', 'آمده_است', 'آمده_بود', 'آمریکا', 'آمریکاست', 'آمریکای', 'آمریکایی', 'آموز', 'آموزان', 'آموزش', 'آموزشی', 'آموزی', 'آمیز', 'آن', 'آناتولی', 'آنتن', 'آنجایی', 'آنلاین', 'آنهایی', 'آنکارا', 'آهن', 'آور', 'آورد', 'آوردند', 'آورده_است', 'آورند', 'آوری', 'آوریل', 'آژانس', 'آگاه', 'آگاهی', 'آیت', 'آیتالله', 'آید', 'آیند', 'آینده', 'آیین', 'ائتلاف', 'ائمه', 'ابتدا', 'ابتدای', 'ابتدایی', 'ابتلا', 'ابتکار', 'ابراز', 'ابراهیم', 'ابراهیمی', 'ابری', 'ابزار', 'ابزارهای', 'ابزاری', 'ابعاد', 'ابلاغ', 'ابهام', 'ابوالفضل', 'اتاق', 'اتباع', 'اتحاد', 'اتحادیه', 'اتخاذ', 'اتصال', 'اتفاق', 'اتفاقات', 'اتفاقاتی', 'اتفاقی', 'اتمام', 'اتمی', 'اتهام', 'اتهامات', 'اتوبوس', 'اتکا', 'اثبات', 'اثر', 'اثرات', 'اثرگذار', 'اثرگذاری', 'اثری', 'اجاره', 'اجازه', 'اجباری', 'اجتماع', 'اجتماعی', 'اجتناب', 'اجرا', 'اجرای', 'اجرایی', 'اجلاس', 'احترام', 'احتساب', 'احتمال', 'احتمالا', 'احتمالی', 'احداث', 'احراز', 'احزاب', 'احساس', 'احساسات', 'احسان', 'احضار', 'احمد', 'احمدی', 'احمر', 'احکام', 'احیا', 'احیای', 'اخبار', 'اختتامیه', 'اختصاص', 'اختصاصی', 'اختلاف', 'اختلافات', 'اختلال', 'اختیار', 'اختیارات', 'اخذ', 'اخراج', 'اخلاق', 'اخلاقی', 'اخلال', 'اخیرا', 'ادارات', 'اداره', 'اداری', 'ادامه', 'ادبی', 'ادبیات', 'ادعا', 'ادعاهای', 'ادعای', 'ادعایی', 'اذعان', 'ارائه', 'اراده', 'اراضی', 'اراک', 'ارایه', 'اربعین', 'ارتباط', 'ارتباطات', 'ارتباطی', 'ارتش', 'ارتفاع', 'ارتفاعات', 'ارتقا', 'ارتقاء', 'ارتقای', 'ارتکاب', 'ارجاع', 'اردبیل', 'اردن', 'اردو', 'اردوغان', 'اردوی', 'اردیبهشت', 'ارز', 'ارزان', 'ارزش', 'ارزشمند', 'ارزشی', 'ارزی', 'ارزیابی', 'ارسال', 'ارشاد', 'ارشد', 'ارقام', 'ارمغان', 'ارومیه', 'اروپا', 'اروپایی', 'ارکان', 'ارگان', 'از', 'ازای', 'ازبکستان', 'ازدواج', 'اس', 'اساتید', 'اساس', 'اساسنامه', 'اساسی', 'اسامی', 'اسبق', 'است', 'استاد', 'استان', 'استانبول', 'استاندار', 'استاندارد', 'استانداردهای', 'استانداری', 'استانها', 'استانهای', 'استانی', 'استخدام', 'استخراج', 'استدلال', 'استراتژی', 'استراتژیک', 'استراحت', 'استرالیا', 'استرس', 'استعداد', 'استعفا', 'استعفای', 'استعلام', 'استقبال', 'استقرار', 'استقلال', 'استمرار', 'استناد', 'استکبار', 'استیضاح', 'اسد', 'اسرائیل', 'اسرائیلی', 'اسفند', 'اسلام', 'اسلامی', 'اسلحه', 'اسم', 'اسماعیل', 'اسناد', 'اسپانیا', 'اسپوتنیک', 'اسکان', 'اش', 'اشاره', 'اشتباه', 'اشتباهات', 'اشتباهی', 'اشتراک', 'اشتغال', 'اشخاص', 'اشراف', 'اشغال', 'اشغالی', 'اشک', 'اشکال', 'اصحاب', 'اصرار', 'اصطلاح', 'اصغر', 'اصفهان', 'اصل', 'اصلاح', 'اصلاحات', 'اصلی', 'اصناف', 'اصول', 'اصولی', 'اضافه', 'اضطراری', 'اطراف', 'اطلاع', 'اطلاعات', 'اطلاعاتی', 'اطلاعرسانی', 'اطلاعی', 'اطلاعیه', 'اطمینان', 'اظهار', 'اظهارات', 'اظهارداشت', 'اظهارنظر', 'اظهارکرد', 'اعتبار', 'اعتبارات', 'اعتباری', 'اعتراض', 'اعتراضات', 'اعتراضی', 'اعتراف', 'اعتقاد', 'اعتقادی', 'اعتماد', 'اعتیاد', 'اعدام', 'اعزام', 'اعزامی', 'اعضا', 'اعضای', 'اعطا', 'اعطای', 'اعظم', 'اعلامی', 'اعم', 'اعمال', 'اف', 'افت', 'افتاد', 'افتادن', 'افتاده', 'افتاده_است', 'افتتاح', 'افتخار', 'افتخارات', 'افتد', 'افراد', 'افرادی', 'افراطی', 'افزاید', 'افزایش', 'افزایی', 'افزوده', 'افزون', 'افشین', 'افغانستان', 'افق', 'افکار', 'اقامت', 'اقتدار', 'اقتصاد', 'اقتصادی', 'اقدام', 'اقدامات', 'اقداماتی', 'اقدامی', 'اقشار', 'اقلام', 'اقلیم', 'اقوام', 'ال', 'الاسلام', 'البرز', 'التهاب', 'الجزیره', 'الحاق', 'الدین', 'الزام', 'العاده', 'الف', 'الله', 'المسلمین', 'الملل', 'المللی', 'المپیک', 'الهام', 'الکترونیک', 'الکترونیکی', 'الگو', 'الگوی', 'الیوم', 'ام', 'امارات', 'امام', 'امانوئل', 'اماکن', 'امتحان', 'امتیاز', 'امتیازات', 'امتیازی', 'امثال', 'امداد', 'امدادی', 'امر', 'امری', 'امریکا', 'امضا', 'امضای', 'املاک', 'امن', 'امنیت', 'امنیتی', 'اموال', 'امکان', 'امکانات', 'امکانپذیر', 'امید', 'امیدوار', 'امیدواری', 'امیر', 'امیرحسین', 'امیری', 'امین', 'ان', 'انبار', 'انبوه', 'انتخاب', 'انتخابات', 'انتخاباتی', 'انتخابی', 'انتشار', 'انتشارات', 'انتصاب', 'انتظار', 'انتظارات', 'انتظامی', 'انتقاد', 'انتقادات', 'انتقال', 'انتهای', 'انجمن', 'انحراف', 'اند', 'انداخت', 'انداختن', 'انداز', 'اندازه', 'اندازی', 'اندونزی', 'اندک', 'اندکی', 'اندیشه', 'اندیشی', 'انرژی', 'انسان', 'انسانی', 'انسجام', 'انصاری', 'انفجار', 'انقلاب', 'انقلابی', 'انواع', 'انکار', 'انگلستان', 'انگلیس', 'انگلیسی', 'انگیز', 'انگیزه', 'اهالی', 'اهتمام', 'اهدا', 'اهداف', 'اهدای', 'اهل', 'اهمیت', 'اهواز', 'اواخر', 'اواسط', 'اوایل', 'اوباما', 'اوج', 'اوراق', 'اورژانس', 'اوضاع', 'اوقات', 'اولویت', 'اولیه', 'اوپک', 'اوکراین', 'اين', 'اپلیکیشن', 'اکبر', 'اکتبر', 'اکران', 'اکرم', 'اکنون', 'ای', 'ایالات', 'ایالت', 'ایام', 'ایتالیا', 'ایجاد', 'اید', 'ایده', 'ایراد', 'ایرادات', 'ایران', 'ایرانی', 'ایرانیان', 'ایرنا', 'ایستاد', 'ایستاده', 'ایستادگی', 'ایستگاه', 'ایسنا', 'ایفا', 'ایفای', 'ایلام', 'ایلنا', 'ایم', 'ایمان', 'ایمن', 'ایمنی', 'این', 'اینترنت', 'اینترنتی', 'اینستاگرام', 'با', 'باب', 'بابت', 'باتوجه', 'باخت', 'بار', 'باران', 'بارز', 'بارش', 'بارشی', 'بارندگی', 'باری', 'بازار', 'بازارهای', 'بازداشت', 'بازدید', 'بازرسی', 'بازرگانی', 'بازسازی', 'بازنشسته', 'بازنشستگان', 'بازنشستگی', 'بازنگری', 'بازه', 'بازگرداندن', 'بازگشایی', 'بازگشت', 'بازی', 'بازیهای', 'بازیکن', 'بازیکنان', 'بازیگر', 'بازیگران', 'باشد', 'باشگاه', 'باطل', 'باعث', 'باغ', 'بافت', 'باقری', 'باقی', 'باقیمانده', 'بالاتر', 'بالاتری', 'بالاترین', 'بالایی', 'بالغ', 'بامداد', 'بان', 'باند', 'بانوان', 'بانوی', 'بانک', 'بانکها', 'بانکی', 'باور', 'بایست', 'بایستی', 'ببرد', 'ببرند', 'ببریم', 'ببیند', 'ببینند', 'ببینید', 'ببینیم', 'بتوانند', 'بحث', 'بحران', 'بحرانی', 'بحرین', 'بخاطر', 'بختیاری', 'بخش', 'بخشنامه', 'بخشهای', 'بخوانید', 'بخورد', 'بد', 'بداند', 'بدانند', 'بدانید', 'بدانیم', 'بدتر', 'بدترین', 'بدست', 'بدل', 'بدن', 'بدنه', 'بدنی', 'بدهد', 'بدهم', 'بدهند', 'بدهی', 'بدهیم', 'بدو', 'بدی', 'بدیهی', 'بر', 'برآورد', 'برابری', 'برادر', 'برادران', 'برانکو', 'براین', 'برتر', 'برتری', 'برترین', 'برج', 'برجام', 'برجسته', 'برخلاف', 'برخورد', 'برخوردار', 'برخورداری', 'برد', 'بردارد', 'بردارند', 'برداری', 'برداریم', 'برداشت', 'برداشته', 'بردن', 'بردند', 'برده', 'برده_است', 'بررسی', 'بررسیهای', 'برزیل', 'برساند', 'برسانند', 'برسانیم', 'برسد', 'برسند', 'برسیم', 'برشمرد', 'برطرف', 'برعهده', 'برف', 'برق', 'برقرار', 'برقراری', 'برقی', 'برمی', 'برنامه', 'برنامهریزی', 'برنامههای', 'برنج', 'برند', 'برنده', 'برهم', 'برهه', 'برود', 'بروم', 'برون', 'بروند', 'بروید', 'برویم', 'برپا', 'برپایی', 'برکت', 'برکنار', 'برگ', 'برگزار', 'برگزاری', 'برگزیده', 'برگشت', 'بریتانیا', 'بزرگ', 'بزرگان', 'بزرگتر', 'بزرگترین', 'بزرگداشت', 'بزرگسالان', 'بزرگی', 'بزند', 'بزنند', 'بزنید', 'بزنیم', 'بست', 'بستر', 'بستری', 'بستن', 'بسته', 'بستگی', 'بسیار', 'بسیج', 'بشار', 'بشر', 'بشری', 'بشود', 'بشکه', 'بصورت', 'بعدی', 'بعنوان', 'بعید', 'بغداد', 'بقیه', 'بلند', 'بلندمدت', 'بلوچستان', 'بلژیک', 'بلیت', 'بمانند', 'بمب', 'بمباران', 'بن', 'بنا', 'بنابر', 'بند', 'بندر', 'بندرعباس', 'بنده', 'بندی', 'بنزین', 'بنگاه', 'بنیاد', 'بنیادین', 'بنیامین', 'بنیان', 'به', 'بهار', 'بهانه', 'بهای', 'بهبود', 'بهتر', 'بهتری', 'بهترین', 'بهداشت', 'بهداشتی', 'بهرام', 'بهره', 'بهزیستی', 'بهشت', 'بهشتی', 'بهصورت', 'بهطور', 'بهعنوان', 'بهمن', 'بهینه', 'بوجود', 'بودجه', 'بوده', 'بوده_است', 'بوده_اند', 'بودهاند', 'بورس', 'بوشهر', 'بومی', 'بوی', 'بویراحمد', 'بویژه', 'بپردازد', 'بپردازند', 'بپردازیم', 'بچه', 'بکارگیری', 'بکشد', 'بگذارد', 'بگذارند', 'بگذارید', 'بی', 'بیان', 'بیانگر', 'بیانیه', 'بیانیهای', 'بیت', 'بیدار', 'بیرانوند', 'بیست', 'بیستم', 'بیشترین', 'بیفتد', 'بیمار', 'بیماران', 'بیمارستان', 'بیماری', 'بیماریهای', 'بیمه', 'بین', 'بینالملل', 'بینالمللی', 'بیند', 'بینند', 'بینی', 'بینید', 'بینیم', 'بیکار', 'بیکاری', 'بیگانه', 'تأثیر', 'تأثیرگذار', 'تأخیر', 'تأسیس', 'تأمین', 'تأکید', 'تأیید', 'تئاتر', 'تائید', 'تابستان', 'تابع', 'تاثیر', 'تاثیرات', 'تاثیرگذار', 'تاثیرگذاری', 'تاثیری', 'تاج', 'تاجیکستان', 'تاخیر', 'تاریخ', 'تاریخی', 'تازه', 'تازگی', 'تاسف', 'تاسیس', 'تالار', 'تامین', 'تاکید', 'تایمز', 'تایید', 'تبادل', 'تبدیل', 'تبریز', 'تبریک', 'تبصره', 'تبع', 'تبعات', 'تبعیت', 'تبعیض', 'تبلیغ', 'تبلیغات', 'تبلیغاتی', 'تبیین', 'تثبیت', 'تجارب', 'تجارت', 'تجاری', 'تجاوز', 'تجدید', 'تجربه', 'تجربیات', 'تجزیه', 'تجلیل', 'تجمع', 'تجهیز', 'تجهیزات', 'تحرکات', 'تحریم', 'تحریمها', 'تحریمهای', 'تحریمی', 'تحریک', 'تحصیل', 'تحصیلات', 'تحصیلی', 'تحقق', 'تحقیر', 'تحقیق', 'تحقیقات', 'تحقیقاتی', 'تحلیل', 'تحمل', 'تحمیل', 'تحمیلی', 'تحول', 'تحولات', 'تحویل', 'تخت', 'تخریب', 'تخصص', 'تخصصی', 'تخصیص', 'تخفیف', 'تخلف', 'تخلفات', 'تخلیه', 'تدابیر', 'تدارک', 'تداوم', 'تدبیر', 'تدریج', 'تدریس', 'تدوین', 'تذکر', 'تر', 'تراز', 'ترافیک', 'ترافیکی', 'ترامپ', 'تراکتورسازی', 'تربیت', 'ترتیب', 'ترجمه', 'ترجیح', 'ترخیص', 'تردد', 'تردید', 'ترس', 'ترسیم', 'ترغیب', 'ترور', 'تروریست', 'تروریستی', 'تروریسم', 'ترویج', 'ترک', 'ترکمنستان', 'ترکیب', 'ترکیبی', 'ترکیه', 'تری', 'ترین', 'تزریق', 'تساوی', 'تست', 'تسریع', 'تسلط', 'تسلیت', 'تسلیحات', 'تسلیم', 'تسنیم', 'تسهیل', 'تسهیلات', 'تسویه', 'تشخیص', 'تشدید', 'تشریح', 'تشویق', 'تشکر', 'تشکل', 'تشکیل', 'تشکیلات', 'تشییع', 'تصادف', 'تصاویر', 'تصاویری', 'تصدی', 'تصریح', 'تصمیم', 'تصمیمات', 'تصمیمی', 'تصور', 'تصویب', 'تصویر', 'تصویری', 'تضعیف', 'تضمین', 'تضمینی', 'تظاهرات', 'تعادل', 'تعالی', 'تعامل', 'تعاملات', 'تعاون', 'تعبیر', 'تعجب', 'تعداد', 'تعدیل', 'تعرفه', 'تعریف', 'تعطیل', 'تعطیلات', 'تعطیلی', 'تعقیب', 'تعلق', 'تعلیق', 'تعلیم', 'تعمیر', 'تعهد', 'تعهدات', 'تعویق', 'تعیین', 'تغذیه', 'تغییر', 'تغییرات', 'تغییراتی', 'تغییری', 'تفاهم', 'تفاوت', 'تفاوتی', 'تفسیر', 'تفکر', 'تفکیک', 'تقابل', 'تقاضا', 'تقاضای', 'تقدیر', 'تقدیم', 'تقسیم', 'تقلید', 'تقویت', 'تل', 'تلاش', 'تلاشهای', 'تلاشی', 'تلخ', 'تلفات', 'تلفن', 'تلفنی', 'تلفیق', 'تلقی', 'تلویزیون', 'تلویزیونی', 'تماس', 'تماشا', 'تماشاگران', 'تماشای', 'تمایل', 'تمدن', 'تمدید', 'تمرکز', 'تمرین', 'تمرینات', 'تمهیدات', 'تن', 'تناسب', 'تند', 'تنش', 'تنظیم', 'تنهایی', 'تنوع', 'تهاجم', 'تهدید', 'تهدیدات', 'تهران', 'تهرانی', 'تهیه', 'توئیتر', 'توافق', 'توافقنامه', 'توافقی', 'توان', 'توانایی', 'تواند', 'توانست', 'توانم', 'توانمند', 'توانمندی', 'توانند', 'توانید', 'توانیم', 'توجه', 'توجهی', 'توجیه', 'تورم', 'تورنمنت', 'توزیع', 'توسعه', 'توصیف', 'توصیه', 'توضیح', 'توضیحات', 'توضیحاتی', 'توطئه', 'توفیق', 'توقع', 'توقف', 'توقیف', 'تولد', 'تولید', 'تولیدات', 'تولیدکننده', 'تولیدکنندگان', 'تولیدی', 'تومان', 'تومانی', 'تونل', 'توهین', 'توپ', 'توییتر', 'تک', 'تکذیب', 'تکرار', 'تکریم', 'تکلیف', 'تکمیل', 'تکمیلی', 'تکنولوژی', 'تکیه', 'تی', 'تیر', 'تیراندازی', 'تیرماه', 'تیم', 'تیمش', 'تیمهای', 'تیمی', 'ثابت', 'ثانیه', 'ثبات', 'ثبت', 'ثبتنام', 'ثروت', 'ثمر', 'جابجایی', 'جابه', 'جاده', 'جاری', 'جاسوسی', 'جالب', 'جام', 'جامع', 'جامعه', 'جان', 'جانب', 'جانبه', 'جانبی', 'جانشین', 'جانی', 'جایزه', 'جایگاه', 'جایگاهی', 'جایگزین', 'جایگزینی', 'جبران', 'جبهه', 'جدایی', 'جدول', 'جدی', 'جدیت', 'جدیدترین', 'جدیدی', 'جذاب', 'جذابیت', 'جذب', 'جرائم', 'جراحی', 'جرایم', 'جرم', 'جریان', 'جریانات', 'جریمه', 'جزء', 'جزئی', 'جزئیات', 'جزو', 'جزیره', 'جزییات', 'جستجو', 'جسد', 'جسمانی', 'جسمی', 'جشن', 'جشنواره', 'جعفر', 'جعفری', 'جعلی', 'جغرافیایی', 'جلال', 'جلب', 'جلد', 'جلسات', 'جلسه', 'جلوه', 'جمال', 'جمع', 'جمعه', 'جمعیت', 'جمله', 'جمهور', 'جمهوری', 'جناب', 'جنایت', 'جنبش', 'جنبه', 'جنس', 'جنسی', 'جنوب', 'جنوبی', 'جنگ', 'جنگل', 'جنگنده', 'جنگی', 'جهاد', 'جهادی', 'جهان', 'جهانگیری', 'جهانی', 'جو', 'جواب', 'جواد', 'جوامع', 'جوان', 'جوانان', 'جوانی', 'جوی', 'جویی', 'جی', 'جیب', 'حائز', 'حاج', 'حاجی', 'حادثه', 'حاشیه', 'حاصل', 'حافظ', 'حالت', 'حالی', 'حالیکه', 'حامد', 'حامل', 'حامی', 'حامیان', 'حاوی', 'حاکم', 'حاکمیت', 'حاکی', 'حبس', 'حجاب', 'حجت', 'حجم', 'حد', 'حداکثری', 'حدودی', 'حدی', 'حذف', 'حذفی', 'حراست', 'حرف', 'حرفه', 'حرفهای', 'حرفی', 'حرم', 'حرکات', 'حرکت', 'حرکتی', 'حریف', 'حریم', 'حزب', 'حس', 'حساب', 'حساس', 'حساسیت', 'حسب', 'حسن', 'حسین', 'حسینی', 'حضرت', 'حضور', 'حضوری', 'حفاظت', 'حفظ', 'حقوق', 'حقوقی', 'حقیقت', 'حقیقی', 'حل', 'حلقه', 'حمایت', 'حمایتی', 'حمل', 'حملات', 'حمله', 'حمید', 'حمیدرضا', 'حناچی', 'حوادث', 'حواشی', 'حوالی', 'حوزه', 'حوزههای', 'حکایت', 'حکم', 'حکمی', 'حکومت', 'حکومتی', 'حیات', 'حیاتی', 'حیث', 'حین', 'حیوانات', 'خاتمه', 'خارج', 'خارجه', 'خارجی', 'خاشقجی', 'خاشقچی', 'خاص', 'خاصی', 'خاطر', 'خاطرات', 'خاطرنشان', 'خاطره', 'خالی', 'خام', 'خاموش', 'خان', 'خانم', 'خانه', 'خانواده', 'خانوادهها', 'خانوادگی', 'خانوار', 'خانگی', 'خاورمیانه', 'خاک', 'خبر', 'خبرنگار', 'خبرنگاران', 'خبرگزاری', 'خبری', 'ختم', 'خدا', 'خداحافظی', 'خداوند', 'خدماتی', 'خدمت', 'خراب', 'خراسان', 'خرج', 'خرد', 'خرداد', 'خروج', 'خروجی', 'خرید', 'خریدار', 'خریداران', 'خریداری', 'خزانه', 'خزر', 'خسارات', 'خسارت', 'خسته', 'خستگی', 'خشم', 'خشونت', 'خشک', 'خصوص', 'خصوصی', 'خط', 'خطا', 'خطاب', 'خطبه', 'خطر', 'خطرات', 'خطرناک', 'خطوط', 'خلاف', 'خلاقیت', 'خلق', 'خلیج', 'خلیل', 'خمینی', 'خنثی', 'خنده', 'خواب', 'خواست', 'خواستار', 'خواسته', 'خواند', 'خواندن', 'خوانده', 'خواهان', 'خواهد', 'خواهد_بود', 'خواهد_داد', 'خواهد_داشت', 'خواهد_رسید', 'خواهد_رفت', 'خواهد_شد', 'خواهد_کرد', 'خواهد_گرفت', 'خواهد_یافت', 'خواهش', 'خواهم', 'خواهند', 'خواهند_بود', 'خواهند_داد', 'خواهند_داشت', 'خواهند_شد', 'خواهند_کرد', 'خواهیم_بود', 'خواهیم_داد', 'خواهیم_داشت', 'خواهیم_شد', 'خواهیم_کرد', 'خوب', 'خوبی', 'خودداری', 'خودرو', 'خودروسازی', 'خودروها', 'خودروهای', 'خودروی', 'خودرویی', 'خوراک', 'خوراکی', 'خورد', 'خوردن', 'خورده', 'خورده_است', 'خورشید', 'خورشیدی', 'خوزستان', 'خوش', 'خوشبختانه', 'خوشحال', 'خوشحالم', 'خون', 'خیابان', 'خیابانی', 'خیال', 'خیانت', 'خیریه', 'دائم', 'دائمی', 'داخلی', 'داد', 'دادستان', 'دادستانی', 'دادسرای', 'دادند', 'داده', 'داده_است', 'داده_اند', 'داده_بود', 'داده_بودند', 'داده_شد', 'داده_شده_است', 'داده_شود', 'داده_می', 'دادهاند', 'دادگاه', 'دادگستری', 'دار', 'دارا', 'داران', 'دارای', 'دارایی', 'دارو', 'داروهای', 'دارویی', 'داری', 'داستان', 'داشته', 'داشته_است', 'داشته_اند', 'داشته_باشد', 'داشته_باشم', 'داشته_باشند', 'داشته_باشید', 'داشته_باشیم', 'داشتهاند', 'داعش', 'داغ', 'دام', 'دامن', 'دامنه', 'داند', 'دانستند', 'دانسته', 'دانش', 'دانشجو', 'دانشجوی', 'دانشجویان', 'دانشجویی', 'دانشمندان', 'دانشکده', 'دانشگاه', 'دانشگاهها', 'دانشگاهی', 'دانلود', 'دانم', 'دانند', 'دانید', 'دانیم', 'داور', 'داوران', 'داوری', 'دبی', 'دبیر', 'دبیرخانه', 'دبیرکل', 'دبیری', 'دخالت', 'دختر', 'دختران', 'دخیل', 'در', 'درآمد', 'درآمده', 'درآمدهای', 'درآمدی', 'دراین', 'درب', 'درج', 'درجه', 'درحال', 'درحالی', 'درخشان', 'درخصوص', 'درخواست', 'درد', 'درس', 'درستی', 'درسی', 'درصد', 'درصدد', 'درصدی', 'درمان', 'درمانی', 'درمورد', 'درهای', 'دروازه', 'دروغ', 'درونی', 'درک', 'درگاه', 'درگذشت', 'درگیر', 'درگیری', 'دریا', 'دریافت', 'دریافتی', 'دریاچه', 'دریای', 'دریایی', 'دسامبر', 'دست', 'دستاورد', 'دستاوردهای', 'دسترس', 'دسترسی', 'دستش', 'دستمزد', 'دسته', 'دستور', 'دستورات', 'دستورالعمل', 'دستکم', 'دستگاه', 'دستگاهها', 'دستگاههای', 'دستگاهی', 'دستگیر', 'دستگیری', 'دستی', 'دستیابی', 'دستیار', 'دشمن', 'دشمنان', 'دشمنی', 'دشوار', 'دشواری', 'دعوت', 'دغدغه', 'دفاتر', 'دفاع', 'دفاعی', 'دفتر', 'دفع', 'دقایق', 'دقایقی', 'دقت', 'دقیق', 'دقیقه', 'دقیقی', 'دل', 'دلار', 'دلاری', 'دلالان', 'دلایل', 'دلایلی', 'دلیل', 'دلیلی', 'دما', 'دمای', 'دمشق', 'دموکرات', 'دموکراسی', 'دنبال', 'دنیا', 'دنیای', 'ده', 'دهد', 'دهم', 'دهند', 'دهنده', 'دهندگان', 'دهه', 'دهها', 'دهیم', 'دوازدهم', 'دوام', 'دوجانبه', 'دوحه', 'دور', 'دوران', 'دوربین', 'دوره', 'دوری', 'دوست', 'دوستان', 'دوستانه', 'دوستی', 'دوش', 'دوشنبه', 'دولت', 'دولتمردان', 'دولتی', 'دومین', 'دونالد', 'دچار', 'دکتر', 'دکتری', 'دی', 'دیابت', 'دیجیتال', 'دید', 'دیدار', 'دیدارهای', 'دیداری', 'دیدم', 'دیدن', 'دیدند', 'دیده', 'دیده_می', 'دیدگاه', 'دیدیم', 'دیماه', 'دین', 'دینی', 'دیوار', 'دیوان', 'دیپلمات', 'دیپلماتیک', 'دیپلماسی', 'ذخایر', 'ذخیره', 'ذهن', 'ذهنی', 'ذوب', 'ذکر', 'ذی', 'ذیربط', 'ذیل', 'رأس', 'رأی', 'رؤسای', 'رئال', 'رئیس', 'رئیسجمهور', 'رئیسجمهوری', 'رئیسه', 'رابطه', 'راجع', 'راحت', 'راحتی', 'راحل', 'رادیو', 'راس', 'راستا', 'راستای', 'راضی', 'راننده', 'رانندگان', 'رانندگی', 'راه', 'راهاندازی', 'راهبرد', 'راهبردی', 'راهداری', 'راهنمایی', 'راههای', 'راهور', 'راهپیمایی', 'راهکار', 'راهکارهای', 'راهکاری', 'راهی', 'رای', 'رایج', 'رایزنی', 'رایگان', 'ربط', 'ربطی', 'ربوده', 'رتبه', 'رجب', 'رحمانی', 'رحمت', 'رحیم', 'رحیمی', 'رخ', 'رد', 'رده', 'ردیف', 'رسالت', 'رسان', 'رساند', 'رساندن', 'رساندند', 'رسانده', 'رسانه', 'رسانهای', 'رسانهها', 'رسانههای', 'رسانی', 'رسد', 'رسمی', 'رسمیت', 'رسول', 'رسیدن', 'رسیدند', 'رسیده', 'رسیده_است', 'رسیده_بود', 'رسیدگی', 'رسیدیم', 'رشت', 'رشته', 'رشد', 'رصد', 'رضا', 'رضایت', 'رضایی', 'رضوی', 'رعایت', 'رغم', 'رفاه', 'رفاهی', 'رفت', 'رفتار', 'رفتارهای', 'رفتاری', 'رفتم', 'رفتن', 'رفتند', 'رفته_است', 'رفته_بود', 'رفتیم', 'رفع', 'رقابت', 'رقابتی', 'رقم', 'رقمی', 'رقیب', 'رمز', 'رنج', 'رنگ', 'ره', 'رها', 'رهبر', 'رهبران', 'رهبری', 'رو', 'روابط', 'روال', 'روان', 'روانه', 'روانی', 'روایت', 'روبرو', 'روبه', 'روبهرو', 'روح', 'روحانی', 'روحی', 'روحیه', 'رود', 'رودخانه', 'روز', 'روزمره', 'روزنامه', 'روزنامهنگار', 'روزه', 'روزها', 'روزگار', 'روزی', 'روس', 'روسای', 'روستا', 'روستاها', 'روستاهای', 'روستای', 'روستایی', 'روسی', 'روسیه', 'روش', 'روشن', 'روشنی', 'روشهای', 'روشی', 'روغن', 'روند', 'رونق', 'رونمایی', 'رویترز', 'رویداد', 'رویدادهای', 'رویه', 'رویکرد', 'رژیم', 'رکود', 'رکورد', 'ری', 'ریاست', 'ریاض', 'ریال', 'ریالی', 'ریز', 'ریزش', 'ریزی', 'ریسک', 'ریشه', 'ریلی', 'رییس', 'زائران', 'زاده', 'زاهدان', 'زبان', 'زحمات', 'زحمت', 'زخمی', 'زد', 'زدایی', 'زدن', 'زدند', 'زده', 'زده_است', 'زرد', 'زلزله', 'زمان', 'زمستان', 'زمستانی', 'زمین', 'زمینه', 'زمینی', 'زن', 'زنان', 'زنجان', 'زنجیر', 'زنجیره', 'زند', 'زندان', 'زندانی', 'زنده', 'زندگی', 'زنند', 'زنگ', 'زنی', 'زهرا', 'زوج', 'زودی', 'زور', 'زیاد', 'زیادی', 'زیارت', 'زیان', 'زیبا', 'زیبایی', 'زیرساخت', 'زیرمجموعه', 'زیست', 'زیستی', 'سؤال', 'سابقه', 'ساحل', 'ساحلی', 'ساخت', 'ساختار', 'ساختاری', 'ساختمان', 'ساختمانی', 'ساختن', 'ساده', 'سادگی', 'ساری', 'ساز', 'سازد', 'سازمان', 'سازماندهی', 'سازمانهای', 'سازمانی', 'سازنده', 'سازندگی', 'سازوکار', 'سازی', 'ساعات', 'ساعاتی', 'ساعت', 'ساعته', 'ساعتی', 'سال', 'سالاری', 'سالروز', 'سالم', 'سالن', 'ساله', 'سالها', 'سالهای', 'سالگرد', 'سالگی', 'سالی', 'سالیان', 'سامان', 'ساماندهی', 'سامانه', 'سانحه', 'ساکن', 'ساکنان', 'سایت', 'سایه', 'سایپا', 'سبب', 'سبد', 'سبز', 'سبک', 'ست', 'ستاد', 'ستاره', 'سجاد', 'سخت', 'سختی', 'سخن', 'سخنان', 'سخنانش', 'سخنانی', 'سخنرانی', 'سخنگوی', 'سد', 'سراسری', 'سراغ', 'سران', 'سرانه', 'سرباز', 'سربازان', 'سرخ', 'سرد', 'سردار', 'سرزمین', 'سرشار', 'سرطان', 'سرعت', 'سرقت', 'سرما', 'سرمایه', 'سرمایهگذاری', 'سرمربی', 'سرنشین', 'سرنشینان', 'سرنوشت', 'سرهنگ', 'سرویس', 'سرپرست', 'سرپرستی', 'سرکوب', 'سریال', 'سریع', 'سریعتر', 'سطح', 'سطحی', 'سطوح', 'سعادت', 'سعود', 'سعودی', 'سعید', 'سفارت', 'سفارش', 'سفر', 'سفرهای', 'سفری', 'سفید', 'سفیر', 'سقف', 'سقوط', 'سلاح', 'سلام', 'سلامت', 'سلامتی', 'سلطه', 'سلمان', 'سلول', 'سلیقه', 'سلیمانی', 'سمت', 'سمنان', 'سن', 'سنت', 'سنتی', 'سنجش', 'سند', 'سنگ', 'سنگین', 'سنگینی', 'سنی', 'سنین', 'سه', 'سهام', 'سهشنبه', 'سهم', 'سهمیه', 'سو', 'سوء', 'سوءاستفاده', 'سوئد', 'سوئیس', 'سوابق', 'سواحل', 'سواد', 'سوار', 'سواری', 'سوال', 'سوالات', 'سوالی', 'سوخت', 'سود', 'سوره', 'سوری', 'سوریه', 'سوزی', 'سوق', 'سومین', 'سوژه', 'سویی', 'سپاه', 'سپاهان', 'سپتامبر', 'سپرده', 'سپری', 'سکه', 'سکوت', 'سکونت', 'سی', 'سیاست', 'سیاستهای', 'سیاستگذاری', 'سیاسی', 'سیاه', 'سیب', 'سید', 'سیر', 'سیستان', 'سیستم', 'سیل', 'سیما', 'سینا', 'سینما', 'سینمای', 'سینمایی', 'سینه', 'شاخص', 'شاخه', 'شاد', 'شادی', 'شاغل', 'شامل', 'شامگاه', 'شان', 'شانس', 'شاه', 'شاهد', 'شاهین', 'شاگردان', 'شایان', 'شایسته', 'شایعات', 'شایعه', 'شب', 'شبانه', 'شبه', 'شبکه', 'شبکههای', 'شبیه', 'شتاب', 'شجاع', 'شجاعت', 'شخص', 'شخصی', 'شخصیت', 'شد', 'شدت', 'شدند', 'شده', 'شده_است', 'شده_اند', 'شده_باشد', 'شده_بود', 'شده_بودند', 'شدهاند', 'شدگان', 'شدیدی', 'شرایط', 'شرایطی', 'شرب', 'شرح', 'شرط', 'شرعی', 'شرق', 'شرقی', 'شروع', 'شرکای', 'شرکت', 'شرکتها', 'شرکتهای', 'شریعتمداری', 'شریف', 'شریک', 'ششم', 'ششمین', 'شعار', 'شعب', 'شعبه', 'شعر', 'شغل', 'شغلی', 'شفاف', 'شفافیت', 'شلیک', 'شمار', 'شماره', 'شمال', 'شمالی', 'شناخت', 'شناخته', 'شناختی', 'شناسایی', 'شناسی', 'شنبه', 'شنیدن', 'شنیده', 'شهادت', 'شهدا', 'شهدای', 'شهر', 'شهرت', 'شهردار', 'شهرداری', 'شهرسازی', 'شهرستان', 'شهرها', 'شهرهای', 'شهروند', 'شهروندان', 'شهروندی', 'شهرک', 'شهری', 'شهریار', 'شهریور', 'شهریورماه', 'شهید', 'شهیدان', 'شواهد', 'شوخی', 'شود', 'شور', 'شورا', 'شوراهای', 'شورای', 'شوروی', 'شوند', 'شویم', 'شک', 'شکاف', 'شکایت', 'شکر', 'شکست', 'شکل', 'شکلی', 'شکنجه', 'شگفت', 'شیخ', 'شیر', 'شیراز', 'شیشه', 'شیعه', 'شیمیایی', 'شیوه', 'صاحب', 'صاحبان', 'صادر', 'صادرات', 'صادراتی', 'صادره', 'صادق', 'صادقانه', 'صادقی', 'صالح', 'صالحی', 'صبح', 'صبر', 'صحبت', 'صحت', 'صحن', 'صحنه', 'صحیح', 'صدا', 'صدام', 'صداوسیما', 'صدای', 'صدر', 'صدرنشین', 'صدها', 'صدور', 'صراحت', 'صرف', 'صرفه', 'صریح', 'صعود', 'صف', 'صفحات', 'صفحه', 'صفر', 'صلاح', 'صلاحیت', 'صلح', 'صمت', 'صنایع', 'صندلی', 'صندوق', 'صنعت', 'صنعتی', 'صنفی', 'صهیونیست', 'صهیونیستی', 'صوتی', 'صورت', 'صورتی', 'صیانت', 'ضبط', 'ضد', 'ضرب', 'ضربه', 'ضرر', 'ضرورت', 'ضروری', 'ضریب', 'ضعف', 'ضعیف', 'ضمانت', 'ضوابط', 'طالبان', 'طباطبایی', 'طبق', 'طبقه', 'طبیعت', 'طبیعی', 'طراح', 'طراحی', 'طرح', 'طرحهای', 'طرحی', 'طرز', 'طرف', 'طرفداران', 'طرفه', 'طرفی', 'طرفین', 'طلا', 'طلاق', 'طلای', 'طلایی', 'طلب', 'طلبی', 'طور', 'طوری', 'طول', 'طولانی', 'طیب', 'طیف', 'ظالمانه', 'ظاهر', 'ظاهری', 'ظرف', 'ظرفیت', 'ظرفیتهای', 'ظریف', 'ظلم', 'ظهر', 'ظهور', 'عادت', 'عادل', 'عادلانه', 'عادی', 'عازم', 'عاشق', 'عالم', 'عالی', 'عام', 'عامل', 'عاملان', 'عاملی', 'عبارت', 'عبارتی', 'عباس', 'عباسی', 'عبدالله', 'عبور', 'عج', 'عجیب', 'عجیبی', 'عدالت', 'عدد', 'عده', 'عدهای', 'عذرخواهی', 'عراق', 'عراقی', 'عرب', 'عربستان', 'عربستانی', 'عربی', 'عرصه', 'عرض', 'عرضه', 'عزت', 'عزم', 'عزیز', 'عزیزان', 'عشق', 'عصبانی', 'عصر', 'عصرایران', 'عضو', 'عضویت', 'عظیم', 'عظیمی', 'عقب', 'عقد', 'عقل', 'عقیده', 'علائم', 'علاقه', 'علاوه', 'علت', 'علل', 'علم', 'علمی', 'علمیه', 'علنی', 'علوم', 'علی', 'علیرضا', 'علیرغم', 'عمان', 'عمر', 'عمران', 'عمرانی', 'عمق', 'عملکرد', 'عملی', 'عملیات', 'عملیاتی', 'عمومی', 'عمیق', 'عناصر', 'عناوین', 'عنایت', 'عنوان', 'عهد', 'عهده', 'عوارض', 'عوامل', 'عوض', 'عکس', 'عیار', 'عین', 'غافل', 'غبار', 'غذا', 'غذاهای', 'غذای', 'غذایی', 'غرب', 'غربی', 'غزه', 'غفلت', 'غلامرضا', 'غلبه', 'غلط', 'غم', 'غنی', 'غیبت', 'غیردولتی', 'غیرقابل', 'غیرمجاز', 'غیره', 'فاجعه', 'فارس', 'فارسی', 'فارغ', 'فاز', 'فاش', 'فاصله', 'فاضلاب', 'فاطمه', 'فایده', 'فتح', 'فتنه', 'فجر', 'فدراسیون', 'فدرال', 'فرآورده', 'فرآیند', 'فرا', 'فراتر', 'فراخوان', 'فرار', 'فراز', 'فراموش', 'فرانسه', 'فرانسوی', 'فراهم', 'فراوان', 'فراوانی', 'فراکسیون', 'فراگیر', 'فرایند', 'فرد', 'فردی', 'فرزند', 'فرزندان', 'فرستاده', 'فرسوده', 'فرش', 'فرصت', 'فرصتی', 'فرض', 'فرعی', 'فرق', 'فرقی', 'فرم', 'فرمان', 'فرماندار', 'فرمانداری', 'فرمانده', 'فرماندهان', 'فرماندهی', 'فرمودند', 'فرنگی', 'فرهاد', 'فرهنگ', 'فرهنگی', 'فرهنگیان', 'فرو', 'فرود', 'فرودگاه', 'فروردین', 'فروش', 'فروشنده', 'فروشندگان', 'فروشگاه', 'فروشی', 'فروند', 'فروپاشی', 'فریاد', 'فریب', 'فساد', 'فشار', 'فشارها', 'فشارهای', 'فصل', 'فضا', 'فضاهای', 'فضای', 'فضایی', 'فعال', 'فعالان', 'فعالیت', 'فعالیتهای', 'فعلی', 'فقدان', 'فقر', 'فقره', 'فقیه', 'فلسطین', 'فلسطینی', 'فلسفه', 'فناوری', 'فنی', 'فهرست', 'فهم', 'فوت', 'فوتبال', 'فوری', 'فوریت', 'فوریه', 'فوق', 'فولاد', 'فکری', 'فی', 'فیزیکی', 'فیفا', 'فیلم', 'فیلمهای', 'فیلمی', 'فینال', 'قائل', 'قائم', 'قابلیت', 'قادر', 'قاره', 'قاسم', 'قاسمی', 'قاضی', 'قاطع', 'قاعده', 'قالب', 'قانع', 'قانون', 'قانونی', 'قاچاق', 'قبال', 'قبلی', 'قبول', 'قبولی', 'قبیل', 'قتل', 'قدرت', 'قدرتمند', 'قدردانی', 'قدس', 'قدم', 'قدمت', 'قدیم', 'قدیمی', 'قرآن', 'قرائت', 'قرار', 'قرارداد', 'قراردادهای', 'قراردادی', 'قرارگاه', 'قربانی', 'قربانیان', 'قرقیزستان', 'قرمز', 'قرن', 'قریب', 'قزاقستان', 'قزوین', 'قسمت', 'قسمتی', 'قشر', 'قصد', 'قصه', 'قضائی', 'قضائیه', 'قضاوت', 'قضایی', 'قضاییه', 'قضیه', 'قطار', 'قطب', 'قطر', 'قطع', 'قطعات', 'قطعنامه', 'قطعه', 'قطعی', 'قلب', 'قلبی', 'قلم', 'قم', 'قند', 'قهرمان', 'قهرمانان', 'قهرمانی', 'قوا', 'قوانین', 'قوت', 'قول', 'قوه', 'قوی', 'قید', 'قیمت', 'قیمتها', 'قیمتهای', 'قیمتی', 'لاریجانی', 'لازم', 'لازمه', 'لایحه', 'لایه', 'لباس', 'لبنان', 'لحاظ', 'لحظات', 'لحظه', 'لذت', 'لرستان', 'لزوم', 'لطف', 'لغو', 'لندن', 'لهستان', 'لوازم', 'لوایح', 'لوله', 'لیبی', 'لیتر', 'لیست', 'لیگ', 'مأموران', 'مأموریت', 'مؤثر', 'مؤسسات', 'مؤسسه', 'ما', 'مابقی', 'ماجرا', 'ماجرای', 'مادر', 'مادرید', 'ماده', 'مادی', 'مارس', 'مازاد', 'مازندران', 'ماشین', 'مال', 'مالک', 'مالکیت', 'مالی', 'مالیات', 'مالیاتی', 'مامور', 'ماموران', 'ماموریت', 'مان', 'ماند', 'ماندن', 'مانده', 'مانده_است', 'ماندگار', 'ماندگاری', 'مانع', 'ماه', 'ماهانه', 'ماهه', 'ماههای', 'ماهواره', 'ماهی', 'ماهیت', 'مایل', 'مایه', 'مایک', 'مباحث', 'مبادلات', 'مبارزه', 'مبارک', 'مبالغ', 'مبانی', 'مبتلا', 'مبتنی', 'مبلغ', 'مبلغی', 'مبنا', 'مبنای', 'مبنی', 'متأسفانه', 'متاسفانه', 'متحد', 'متحدان', 'متحده', 'متحمل', 'متخصص', 'متخصصان', 'متخلف', 'متذکر', 'متر', 'مترو', 'متری', 'متشکل', 'متصل', 'متعال', 'متعدد', 'متعددی', 'متعلق', 'متعهد', 'متفاوت', 'متفاوتی', 'متقابل', 'متقاضی', 'متقاضیان', 'متمرکز', 'متن', 'متناسب', 'متنوع', 'متهم', 'متهمان', 'متواری', 'متوالی', 'متوجه', 'متوسط', 'متوقف', 'متولد', 'متولی', 'متولیان', 'متکی', 'مثال', 'مثبت', 'مثبتی', 'مثلا', 'مجاز', 'مجازات', 'مجازی', 'مجامع', 'مجبور', 'مجتبی', 'مجتمع', 'مجدد', 'مجروح', 'مجری', 'مجلس', 'مجله', 'مجمع', 'مجموع', 'مجموعه', 'مجهز', 'مجوز', 'مجوزهای', 'مجید', 'محاسبات', 'محاسبه', 'محاصره', 'محافظت', 'محاکمه', 'محبت', 'محبوب', 'محبوبیت', 'محترم', 'محتوا', 'محتوای', 'محدود', 'محدوده', 'محدودی', 'محدودیت', 'محرمانه', 'محروم', 'محرومیت', 'محسن', 'محسوب', 'محصول', 'محصولات', 'محض', 'محقق', 'محققان', 'محل', 'محله', 'محلی', 'محمد', 'محمدجواد', 'محمدحسین', 'محمدرضا', 'محمدعلی', 'محمدی', 'محمود', 'محموله', 'محور', 'محورهای', 'محوری', 'محوریت', 'محوطه', 'محکم', 'محکوم', 'محکومیت', 'محیط', 'محیطی', 'مخاطب', 'مخاطبان', 'مخالف', 'مخالفان', 'مخالفت', 'مختص', 'مختلفی', 'مخدر', 'مخرب', 'مخصوص', 'مخصوصا', 'مخفی', 'مد', 'مداخله', 'مدار', 'مدارس', 'مدارک', 'مدافع', 'مدال', 'مداوم', 'مدت', 'مدتی', 'مدرس', 'مدرسه', 'مدرن', 'مدرک', 'مدعی', 'مدل', 'مدنظر', 'مدنی', 'مدیر', 'مدیران', 'مدیرعامل', 'مدیره', 'مدیرکل', 'مدیریت', 'مدیریتی', 'مذاکرات', 'مذاکره', 'مذهبی', 'مذکور', 'مراتب', 'مراجع', 'مراجعه', 'مراحل', 'مرادی', 'مراسم', 'مراقب', 'مراقبت', 'مراکز', 'مربع', 'مربوط', 'مربوطه', 'مربی', 'مربیان', 'مرتبط', 'مرتبه', 'مرتضی', 'مرتفع', 'مرتکب', 'مرجع', 'مرحله', 'مرحوم', 'مرد', 'مرداد', 'مردان', 'مردمی', 'مردی', 'مرز', 'مرزها', 'مرزهای', 'مرزی', 'مرضیه', 'مرغ', 'مرور', 'مرکز', 'مرکزی', 'مرگ', 'مریم', 'مزایای', 'مزمن', 'مزیت', 'مسأله', 'مسؤول', 'مسؤولان', 'مسؤولیت', 'مسئله', 'مسئول', 'مسئولان', 'مسئولیت', 'مسئولین', 'مسائل', 'مسائلی', 'مسابقات', 'مسابقه', 'مساحت', 'مسافر', 'مسافران', 'مساله', 'مساوی', 'مسایل', 'مستثنی', 'مستقر', 'مستقل', 'مستقیم', 'مستلزم', 'مستمر', 'مستندات', 'مسجد', 'مسدود', 'مسعود', 'مسلح', 'مسلط', 'مسلم', 'مسلمان', 'مسلمانان', 'مسوول', 'مسوولان', 'مسکن', 'مسکو', 'مسکونی', 'مسیر', 'مسیرهای', 'مسیری', 'مشابه', 'مشارکت', 'مشاغل', 'مشاهده', 'مشاور', 'مشاوره', 'مشترک', 'مشترکی', 'مشتری', 'مشتریان', 'مشخص', 'مشخصات', 'مشخصی', 'مشروط', 'مشغول', 'مشمول', 'مشهد', 'مشهور', 'مشورت', 'مشکل', 'مشکلات', 'مشکلاتی', 'مشکلی', 'مشکوک', 'مصاحبه', 'مصادیق', 'مصارف', 'مصاف', 'مصالح', 'مصداق', 'مصدوم', 'مصدومان', 'مصدومیت', 'مصر', 'مصرف', 'مصرفی', 'مصطفی', 'مصلحت', 'مصنوعی', 'مصوب', 'مصوبات', 'مصوبه', 'مطابق', 'مطالب', 'مطالبات', 'مطالبه', 'مطالبی', 'مطالعات', 'مطالعه', 'مطبوعات', 'مطبوعاتی', 'مطرح', 'مطلب', 'مطلبی', 'مطلع', 'مطلق', 'مطلوب', 'مطلوبی', 'مطمئن', 'مطمئنا', 'مظلوم', 'معابر', 'معادل', 'معادن', 'معارفه', 'معاصر', 'معاف', 'معافیت', 'معاملات', 'معامله', 'معاون', 'معاونان', 'معاونت', 'معتبر', 'معترض', 'معترضان', 'معتقد', 'معدن', 'معدنی', 'معرض', 'معرفی', 'معروف', 'معصومه', 'معضل', 'معضلات', 'معطوف', 'معظم', 'معلم', 'معلمان', 'معلول', 'معلوم', 'معماری', 'معمول', 'معنا', 'معنای', 'معنوی', 'معنی', 'معیار', 'معیشت', 'معیشتی', 'معین', 'مغز', 'مغزی', 'مفاد', 'مفهوم', 'مفید', 'مقابله', 'مقاطع', 'مقاله', 'مقام', 'مقامات', 'مقامهای', 'مقاوم', 'مقاومت', 'مقاومتی', 'مقایسه', 'مقداری', 'مقدس', 'مقدم', 'مقدماتی', 'مقدمه', 'مقر', 'مقرر', 'مقررات', 'مقصد', 'مقصر', 'مقطع', 'مقطعی', 'مقوله', 'ملاحظه', 'ملاقات', 'ملاک', 'ملت', 'ملزم', 'ملل', 'ملک', 'ملکی', 'ملی', 'ممانعت', 'مملکت', 'ممنوع', 'ممنوعیت', 'منابع', 'منازل', 'مناسب', 'مناسبات', 'مناسبت', 'مناسبی', 'مناطق', 'مناطقی', 'منافع', 'منبع', 'منتخب', 'منتشر', 'منتظر', 'منتقد', 'منتقدان', 'منتقل', 'منجر', 'منحصر', 'مند', 'مندان', 'مندرج', 'مندی', 'منزل', 'منصوب', 'منصور', 'منطق', 'منطقه', 'منطقهای', 'منظر', 'منظم', 'منظور', 'منع', 'منعقد', 'منعکس', 'منفی', 'منوط', 'منکر', 'مه', 'مهاجر', 'مهاجران', 'مهاجرت', 'مهاجم', 'مهار', 'مهارت', 'مهدی', 'مهر', 'مهران', 'مهرداد', 'مهرماه', 'مهلت', 'مهم', 'مهمان', 'مهمتر', 'مهمترین', 'مهمی', 'مهندس', 'مهندسی', 'مهیا', 'مواجه', 'مواجهه', 'مواد', 'مواردی', 'مواصلاتی', 'مواضع', 'موافق', 'موافقت', 'مواقع', 'موانع', 'موبایل', 'موتور', 'موثر', 'موثری', 'موج', 'موجب', 'موجود', 'مورخ', 'موردی', 'موزه', 'موسسات', 'موسسه', 'موسوم', 'موسوی', 'موسی', 'موسیقی', 'موشک', 'موشکی', 'موضع', 'موضوع', 'موضوعات', 'موضوعاتی', 'موضوعی', 'موظف', 'موعد', 'موفق', 'موفقیت', 'موقت', 'موقع', 'موقعیت', 'موکول', 'مکان', 'مکانی', 'مکزیک', 'مکلف', 'مکمل', 'می', 'میآید', 'میادین', 'میانه', 'میانگین', 'میباشد', 'میبرد', 'میبرند', 'میتوان', 'میتواند', 'میتوانند', 'میتوانید', 'میتوانیم', 'میخواهد', 'میخواهند', 'میخواهیم', 'میدان', 'میداند', 'میدانند', 'میدانی', 'میدانیم', 'میدهد', 'میدهند', 'میدهیم', 'میر', 'میراث', 'میرسد', 'میرود', 'میروند', 'میز', 'میزبان', 'میزبانی', 'میزند', 'میزنند', 'میسر', 'میشد', 'میشود', 'میشوند', 'میل', 'میلاد', 'میلادی', 'میلی', 'میلیونی', 'میهمان', 'میوه', 'میکرد', 'میکردند', 'میگذارد', 'میگوید', 'میگویم', 'میگویند', 'میگیرد', 'میگیرند', 'مییابد', 'نا', 'ناامنی', 'ناامید', 'ناامیدی', 'نابود', 'نابودی', 'ناجا', 'ناحیه', 'نادر', 'نادرست', 'نادیده', 'ناراحت', 'ناراحتی', 'نارضایتی', 'ناصر', 'ناظر', 'نام', 'نامزد', 'نامش', 'نامناسب', 'نامه', 'نامهای', 'نامگذاری', 'نان', 'ناوگان', 'ناپدید', 'ناپذیر', 'ناچار', 'نایب', 'نباشد', 'نباشند', 'نباشیم', 'نبرد', 'نبودن', 'نبودند', 'نبوده', 'نبوده_است', 'نتانیاهو', 'نتایج', 'نتواند', 'نتوانست', 'نتوانستند', 'نتوانسته', 'نتیجه', 'نجات', 'نجف', 'نجفی', 'نحو', 'نحوه', 'نحوی', 'نخبگان', 'نخست', 'نخواهد_بود', 'نخواهد_داشت', 'نخواهد_شد', 'نخواهد_کرد', 'نداد', 'ندادند', 'نداده', 'نداده_است', 'نداشتن', 'نداشته_است', 'نداشته_باشد', 'نداشته_باشند', 'نداشته_باشیم', 'ندهد', 'ندهند', 'نرخ', 'نرسیده_است', 'نرم', 'نزدیکی', 'نساجی', 'نسبت', 'نسبی', 'نسخه', 'نسل', 'نشاط', 'نشان', 'نشانه', 'نشانی', 'نشد', 'نشدن', 'نشدند', 'نشده', 'نشده_است', 'نشده_بود', 'نشر', 'نشریه', 'نشست', 'نشستی', 'نشود', 'نشوند', 'نشین', 'نشینی', 'نصب', 'نصف', 'نصیب', 'نظارت', 'نظارتی', 'نظام', 'نظامی', 'نظامیان', 'نظر', 'نظرات', 'نظرسنجی', 'نظرم', 'نظری', 'نظریه', 'نظم', 'نعمت', 'نفت', 'نفتی', 'نفر', 'نفرات', 'نفره', 'نفری', 'نفس', 'نفع', 'نفوذ', 'نقاشی', 'نقاط', 'نقد', 'نقدی', 'نقدینگی', 'نقش', 'نقشه', 'نقشی', 'نقص', 'نقض', 'نقطه', 'نقل', 'نقلیه', 'نماد', 'نماز', 'نمایش', 'نمایشگاه', 'نمایشی', 'نمایند', 'نماینده', 'نمایندگان', 'نمایندگی', 'نمود', 'نمونه', 'نمک', 'نمی', 'نمیتوان', 'نمیتواند', 'نمیتوانند', 'نمیتوانیم', 'نمیدهد', 'نمیشود', 'نمیکند', 'نمیکنند', 'نهاد', 'نهاده', 'نهادها', 'نهادهای', 'نهادی', 'نهادینه', 'نهایت', 'نهایی', 'نهضت', 'نهم', 'نو', 'نوآوری', 'نواحی', 'نوار', 'نوامبر', 'نوبت', 'نوجوان', 'نوجوانان', 'نور', 'نوری', 'نوسازی', 'نوسان', 'نوسانات', 'نوشت', 'نوشتن', 'نوشته', 'نوشته_است', 'نویس', 'نویسنده', 'نویسی', 'نوین', 'نژاد', 'نکات', 'نکته', 'نکرد', 'نکردم', 'نکردن', 'نکردند', 'نکرده', 'نکرده_است', 'نکردیم', 'نگار', 'نگاهی', 'نگران', 'نگرانی', 'نگرش', 'نگرفت', 'نگرفته', 'نگرفته_است', 'نگه', 'نگهبان', 'نگهداری', 'نگیرد', 'نیا', 'نیاز', 'نیازمند', 'نیازهای', 'نیازی', 'نیامده', 'نیاید', 'نیت', 'نیرو', 'نیروها', 'نیروهای', 'نیروگاه', 'نیروی', 'نیم', 'نیما', 'نیمه', 'نیمکت', 'نیوز', 'نیویورک', 'نیک', 'ها', 'هادی', 'هاست', 'هاشمی', 'هافبک', 'های', 'هایش', 'هایشان', 'هایمان', 'هایی', 'هتل', 'هجمه', 'هدایت', 'هدف', 'هدفمند', 'هدیه', 'هرمزگان', 'هرکدام', 'هرگونه', 'هزاران', 'هزینه', 'هزینههای', 'هسته', 'هستهای', 'هشت', 'هشتم', 'هشدار', 'هفتاد', 'هفتم', 'هفتمین', 'هفته', 'هفتگی', 'هلال', 'هلند', 'هم', 'همان', 'همانطور', 'همانگونه', 'هماهنگ', 'هماهنگی', 'همایش', 'همبستگی', 'همت', 'همتای', 'همدان', 'همدلی', 'همراه', 'همراهی', 'همسایه', 'همسر', 'همسرش', 'همه', 'هموطنان', 'همکاران', 'همکاری', 'همگانی', 'همیشگی', 'همینطور', 'هند', 'هندی', 'هنر', 'هنرمند', 'هنرمندان', 'هنرهای', 'هنری', 'هوا', 'هواداران', 'هواشناسی', 'هواپیما', 'هواپیماهای', 'هواپیمای', 'هواپیمایی', 'هوای', 'هوایی', 'هوش', 'هوشمند', 'هوشیاری', 'هویت', 'هکتار', 'هیأت', 'هیئت', 'هیات', 'هیجان', 'هیچ', 'وابسته', 'وابستگی', 'واجد', 'واحد', 'واحدها', 'واحدهای', 'وارد', 'واردات', 'وارداتی', 'وارده', 'واریز', 'واسطه', 'واشنگتن', 'واضح', 'واقع', 'واقعیت', 'والدین', 'والمسلمین', 'وام', 'واژه', 'واکنش', 'واگذار', 'واگذاری', 'وب', 'وبگاه', 'وجه', 'وجوه', 'وحدت', 'وحشت', 'وحید', 'وخیم', 'ورزش', 'ورزشکاران', 'ورزشگاه', 'ورزشی', 'ورود', 'ورودی', 'وری', 'وزارت', 'وزارتخانه', 'وزرای', 'وزش', 'وزن', 'وزیر', 'وزیران', 'وزیری', 'وسایل', 'وسط', 'وسعت', 'وسیع', 'وسیعی', 'وسیله', 'وصل', 'وصول', 'وضعیت', 'وضعیتی', 'وظایف', 'وظیفه', 'وعده', 'وقت', 'وقفه', 'وقوع', 'ولادیمیر', 'ولایت', 'ولی', 'ولیعهد', 'وکیل', 'وگو', 'وگوی', 'وی', 'ویتنام', 'ویدیو', 'ویژه', 'ویژهای', 'ویژگی', 'ویژگیهای', 'پا', 'پاداش', 'پادشاه', 'پارس', 'پارلمان', 'پارلمانی', 'پارک', 'پاریس', 'پاس', 'پاسخ', 'پاسخگو', 'پاسخگوی', 'پاسخگویی', 'پاسخی', 'پاسداران', 'پالایش', 'پالایشگاه', 'پامپئو', 'پاک', 'پاکستان', 'پای', 'پایان', 'پایانی', 'پایبند', 'پایبندی', 'پایتخت', 'پایدار', 'پایداری', 'پایش', 'پایه', 'پایگاه', 'پاییز', 'پایین', 'پتانسیل', 'پتروشیمی', 'پخش', 'پدافند', 'پدر', 'پدرش', 'پدیده', 'پذیر', 'پذیرد', 'پذیرش', 'پذیرفت', 'پذیرفته', 'پذیری', 'پر', 'پراکنده', 'پراید', 'پرتاب', 'پرداخت', 'پرداختن', 'پرداختند', 'پرداخته', 'پرداخته_است', 'پرداختی', 'پردازد', 'پردازند', 'پرده', 'پردیس', 'پررنگ', 'پرس', 'پرسش', 'پرسنل', 'پرسپولیس', 'پرسید', 'پرهیز', 'پرواز', 'پروازهای', 'پروانه', 'پرورش', 'پروسه', 'پرونده', 'پروژه', 'پرچم', 'پزشک', 'پزشکان', 'پزشکی', 'پست', 'پسر', 'پشتوانه', 'پشتیبانی', 'پل', 'پلاس', 'پلاک', 'پلی', 'پلیس', 'پلیسی', 'پنالتی', 'پناه', 'پنج', 'پنجاه', 'پنجره', 'پنجشنبه', 'پنجم', 'پنجمین', 'پنهان', 'پهلوی', 'پوتین', 'پور', 'پوست', 'پوش', 'پوشان', 'پوشش', 'پول', 'پولشویی', 'پولی', 'پویا', 'پژو', 'پژوهش', 'پژوهشگر', 'پژوهشگران', 'پژوهشی', 'پکن', 'پیاده', 'پیام', 'پیامبر', 'پیامدهای', 'پیامک', 'پیامی', 'پیرو', 'پیروز', 'پیروزی', 'پیروی', 'پیش', 'پیشبرد', 'پیشبینی', 'پیشرفت', 'پیشرفته', 'پیشرو', 'پیشنهاد', 'پیشنهادات', 'پیشنهادی', 'پیشگیری', 'پیشین', 'پیمان', 'پیوست', 'پیوستن', 'پیوند', 'پیچیده', 'پیکر', 'پیگیر', 'پیگیری', 'چاره', 'چارچوب', 'چالش', 'چاپ', 'چراغ', 'چراکه', 'چربی', 'چرخ', 'چرخه', 'چشم', 'چشمگیر', 'چشمگیری', 'چندانی', 'چندی', 'چهاردهم', 'چهارشنبه', 'چهارم', 'چهارمحال', 'چهارمین', 'چهره', 'چهل', 'چهلمین', 'چوب', 'چپ', 'چک', 'چگونگی', 'چین', 'چینی', 'ژانویه', 'ژاپن', 'ژاپنی', 'ژوئن', 'کابینه', 'کاخ', 'کادر', 'کار', 'کارآفرینی', 'کارآمد', 'کارایی', 'کاربر', 'کاربران', 'کاربردی', 'کاربری', 'کارت', 'کارخانه', 'کارش', 'کارشناس', 'کارشناسان', 'کارشناسی', 'کارلوس', 'کارمند', 'کارمندان', 'کارنامه', 'کارها', 'کارهای', 'کارهایی', 'کاروان', 'کارکرد', 'کارکنان', 'کارگاه', 'کارگر', 'کارگران', 'کارگردان', 'کارگردانی', 'کارگروه', 'کارگری', 'کارگیری', 'کاری', 'کاظمی', 'کاغذ', 'کافی', 'کالا', 'کالاها', 'کالاهای', 'کالای', 'کامیون', 'کانادا', 'کانال', 'کانون', 'کاهش', 'کاپیتان', 'کتاب', 'کتبی', 'کد', 'کربلا', 'کرج', 'کرد', 'کردستان', 'کردم', 'کردند', 'کرده', 'کرده_است', 'کرده_اند', 'کرده_ایم', 'کرده_باشد', 'کرده_بود', 'کرده_بودند', 'کردهاند', 'کردهایم', 'کردیم', 'کرسی', 'کرمان', 'کرمانشاه', 'کره', 'کریم', 'کریمی', 'کسب', 'کسری', 'کشاورزان', 'کشاورزی', 'کشت', 'کشتار', 'کشته', 'کشته_شدند', 'کشتی', 'کشد', 'کشف', 'کشور', 'کشورش', 'کشورشان', 'کشورمان', 'کشورها', 'کشورهای', 'کشورهایی', 'کشوری', 'کشی', 'کشید', 'کشیدن', 'کشیدند', 'کشیده', 'کف', 'کلاس', 'کلام', 'کلان', 'کلانتری', 'کلاهبرداری', 'کلمه', 'کلید', 'کلیدی', 'کم', 'کمال', 'کمبود', 'کمترین', 'کمرنگ', 'کمپانی', 'کمپین', 'کمک', 'کمکی', 'کمیته', 'کمیسیون', 'کناره', 'کنترل', 'کند', 'کندی', 'کنسولگری', 'کنفدراسیون', 'کنفرانس', 'کنم', 'کنند', 'کننده', 'کنندگان', 'کنندگی', 'کنوانسیون', 'کنگره', 'کنید', 'کنیم', 'که', 'کهگیلویه', 'کوتاه', 'کوتاهی', 'کودک', 'کودکان', 'کودکی', 'کوه', 'کوهستانی', 'کوچه', 'کوچک', 'کوچکی', 'کویت', 'کی', 'کیش', 'کیفری', 'کیفی', 'کیفیت', 'کیلو', 'کیلومتر', 'کیلومتری', 'کیلوگرم', 'گاز', 'گام', 'گانه', 'گاه', 'گذار', 'گذاران', 'گذارد', 'گذارند', 'گذاری', 'گذاشت', 'گذاشتن', 'گذاشتند', 'گذاشته_است', 'گذر', 'گذرد', 'گذشت', 'گذشته_است', 'گر', 'گرامی', 'گرامیداشت', 'گران', 'گرانی', 'گرایش', 'گرایی', 'گرجستان', 'گرد', 'گردد', 'گردش', 'گردشگران', 'گردشگری', 'گردن', 'گردهمایی', 'گردید', 'گردیده', 'گرفت', 'گرفتار', 'گرفته', 'گرفته_است', 'گرفته_اند', 'گرفته_بود', 'گرفته_شد', 'گرفته_شده_است', 'گرفته_شود', 'گرفتهاند', 'گرفتگی', 'گرم', 'گرمی', 'گره', 'گروه', 'گروههای', 'گری', 'گزارش', 'گزارشهای', 'گزارشی', 'گزینه', 'گسترده', 'گسترش', 'گشت', 'گفت', 'گفتمان', 'گفتنی', 'گفته', 'گفته_است', 'گفته_بود', 'گفته_شد', 'گفته_می', 'گفتوگو', 'گفتگو', 'گل', 'گلایه', 'گلزنی', 'گلستان', 'گلوله', 'گمان', 'گمرک', 'گمرکی', 'گناه', 'گندم', 'گو', 'گواهی', 'گوش', 'گوشت', 'گوشه', 'گوشی', 'گوناگون', 'گونه', 'گونهای', 'گوید', 'گویم', 'گویند', 'گیاهی', 'گیرد', 'گیرند', 'گیری', 'گیلان', 'یابد', 'یاد', 'یادآور', 'یادآوری', 'یادداشت', 'یادداشتی', 'یادشده', 'یادگیری', 'یارانه', 'یاری', 'یازدهم', 'یافتند', 'یافته', 'یافته_است', 'یزد', 'یمن', 'یمنی', 'یورو', 'یورونیوز', 'یوسف', 'یک', 'یکبار', 'یکجانبه', 'یکسان', 'یکسری', 'یکشنبه', 'یکصد', 'یکم', 'یکپارچه', 'یگان', '۳۰']\n",
            "Vocab length: 4075\n"
          ],
          "name": "stdout"
        }
      ]
    },
    {
      "metadata": {
        "id": "TsfuL_Mn8fS2",
        "colab_type": "code",
        "outputId": "b89f147f-527e-46db-ee98-faed535fc423",
        "colab": {
          "base_uri": "https://localhost:8080/",
          "height": 52
        }
      },
      "cell_type": "code",
      "source": [
        "print('Shape of x_train vector for agency predictor: ', x_ag_train_vec.shape)\n",
        "print('Shape of x_test vector for agency predictor: ', x_ag_test_vec.shape)"
      ],
      "execution_count": 29,
      "outputs": [
        {
          "output_type": "stream",
          "text": [
            "Shape of x_train vector for agency predictor:  (23461, 4075)\n",
            "Shape of x_test vector for agency predictor:  (5866, 4075)\n"
          ],
          "name": "stdout"
        }
      ]
    },
    {
      "metadata": {
        "id": "9ifdmm8NGnOO",
        "colab_type": "text"
      },
      "cell_type": "markdown",
      "source": [
        "# Naive Bayes Implementation"
      ]
    },
    {
      "metadata": {
        "id": "M1RelfuiGqye",
        "colab_type": "code",
        "colab": {}
      },
      "cell_type": "code",
      "source": [
        "# Prior probabilities for the classes\n",
        "def class_probability(data):\n",
        "  example_numb = len(data)\n",
        "  prob = dict(Counter(data))\n",
        "  for key in prob.keys():\n",
        "    prob[key] = prob[key] / float(example_numb)\n",
        "  return prob"
      ],
      "execution_count": 0,
      "outputs": []
    },
    {
      "metadata": {
        "id": "lUZDDQlieS74",
        "colab_type": "code",
        "colab": {}
      },
      "cell_type": "code",
      "source": [
        "def feature_probability(data, sum_of_words, V):\n",
        "  # Calculating the sum of all weights (Count in CountVectorizer or TF-IDF value in TfidfVectorzier)\n",
        "  sum_of_weights = 0.0\n",
        "  for w in data:\n",
        "    sum_of_weights += w\n",
        "  # Calculating probabilty of this feature, using Add 1 Smoothing \n",
        "  p = (sum_of_weights + 1) / (sum_of_words + V)\n",
        "  return p"
      ],
      "execution_count": 0,
      "outputs": []
    },
    {
      "metadata": {
        "id": "Gjsa42iV9fTO",
        "colab_type": "code",
        "colab": {}
      },
      "cell_type": "code",
      "source": [
        "def naive_bayes_train(x, y, voc):\n",
        "  # x = x_train_vec, y = y_train, voc = vocab\n",
        "  \n",
        "  # Calculating probability of each class\n",
        "  y_probability = class_probability(y)\n",
        "  \n",
        "  # List of all unique class\n",
        "  y_classes = np.unique(y)\n",
        "  print ('This model have %d class' % len(y_classes))\n",
        "  \n",
        "  # Shape of input\n",
        "  x_rows, x_columns = x.shape\n",
        "  print ('This model data have %d rows and %d columns' % (x_rows, x_columns))\n",
        "  \n",
        "  # Probabilites of each feature based on each class\n",
        "  likelihoods = {}\n",
        "\n",
        "  # Initialize\n",
        "  for cls in y_classes:\n",
        "    likelihoods[cls] = defaultdict(list)\n",
        "\n",
        "  for cls in y_classes:\n",
        "    # For every class\n",
        "    # Find which doument category (y_train) is same as current class\n",
        "    row_indices = np.where(y == cls)[0]\n",
        "    \n",
        "    # Get the documents (sentences vector)\n",
        "    docs = x[row_indices, :]\n",
        "    \n",
        "    # Calculating all word weights\n",
        "    sum_of_words = 0\n",
        "    for d in docs:\n",
        "      for v in d:\n",
        "        sum_of_words += v\n",
        "        \n",
        "    # Remember the shape of this class (number of document and the length of vectors)\n",
        "    doc_numb, vec_len  = np.shape(docs)\n",
        "    \n",
        "    # For every feature (word), add it's value to current class\n",
        "    for i in range(0, vec_len):\n",
        "      likelihoods[cls][i] += list(docs[:,i])\n",
        "      \n",
        "    # Calculate probablity of every feature given this class\n",
        "    for i in range(0, vec_len):\n",
        "      likelihoods[cls][i] = feature_probability(likelihoods[cls][i], sum_of_words, len(voc))\n",
        "      \n",
        "  return y_probability, likelihoods\n",
        "  "
      ],
      "execution_count": 0,
      "outputs": []
    },
    {
      "metadata": {
        "id": "aB9ZrUWgBTT_",
        "colab_type": "code",
        "colab": {}
      },
      "cell_type": "code",
      "source": [
        "def naive_bayes_test(x, y, class_prob, features_prob):\n",
        "  \n",
        "  prediction = {}\n",
        "  y_list = list(y)\n",
        "  \n",
        "  # For every test data\n",
        "  for i in range(0, len(x)):\n",
        "    current_x = x[i]\n",
        "    current_y = y_list[i]\n",
        "    \n",
        "    # A dictionary that contains prediction value based on each class\n",
        "    current_prediction = {}\n",
        "    for cls in class_prob.items():\n",
        "      \n",
        "      predict = 1\n",
        "      \n",
        "      # Multiply by probability of current class\n",
        "      current_cls_index = cls[0]\n",
        "      current_cls_value = cls[1]\n",
        "      predict = predict * current_cls_value\n",
        "      \n",
        "      # For each feature (word) get the probability based on current class\n",
        "      for index, word in enumerate(current_x):\n",
        "        if word > 0 :\n",
        "          word_probability = (features_prob[current_cls_index][index] ** word)\n",
        "          predict = predict * word_probability\n",
        "          \n",
        "      # Add new predict to prediction list of this test data\n",
        "      current_prediction[current_cls_index] = predict\n",
        "      \n",
        "    # Sort prediction\n",
        "    sorted_by_value = sorted(current_prediction.items(), key=lambda kv: kv[1], reverse=True)\n",
        "    \n",
        "    # Add prediction list of this test data to global predictation list\n",
        "    prediction[i] = sorted_by_value\n",
        "    \n",
        "  return prediction"
      ],
      "execution_count": 0,
      "outputs": []
    },
    {
      "metadata": {
        "id": "Je0snJktdcF1",
        "colab_type": "code",
        "colab": {}
      },
      "cell_type": "code",
      "source": [
        "def get_labels_of_prediction(pred, numb):\n",
        "  result = {}\n",
        "  for index, data in enumerate(pred.items()):\n",
        "    labels = []\n",
        "    for l in data[1]:\n",
        "      labels.append(l[0])\n",
        "    if numb == 'All':\n",
        "      result[index] = labels\n",
        "    else:\n",
        "      result[index] = labels[0:numb]\n",
        "  return result"
      ],
      "execution_count": 0,
      "outputs": []
    },
    {
      "metadata": {
        "id": "AQmRJ-3S67lM",
        "colab_type": "text"
      },
      "cell_type": "markdown",
      "source": [
        "## Naive Bayes as Category Predictor"
      ]
    },
    {
      "metadata": {
        "id": "JMFuzb0J_JYt",
        "colab_type": "code",
        "outputId": "2837347f-f1e2-4af5-8298-e9580a3447df",
        "colab": {
          "base_uri": "https://localhost:8080/",
          "height": 52
        }
      },
      "cell_type": "code",
      "source": [
        "p_class, p_features = naive_bayes_train(x_cat_train_vec, y_cat_train, cat_vocab)\n",
        "# p_class is probability of each class\n",
        "# print(p_class)\n",
        "# p_features consist of probability of each feature based on each class\n",
        "# print(p_features)"
      ],
      "execution_count": 35,
      "outputs": [
        {
          "output_type": "stream",
          "text": [
            "This model have 20 class\n",
            "This model data have 11461 rows and 3934 columns\n"
          ],
          "name": "stdout"
        }
      ]
    },
    {
      "metadata": {
        "id": "jbB_QADDdSVj",
        "colab_type": "code",
        "colab": {}
      },
      "cell_type": "code",
      "source": [
        "# Make prediction\n",
        "prediction = naive_bayes_test(x_cat_test_vec, y_cat_test, p_class, p_features)\n",
        "# print(prediction)\n",
        "\n",
        "# Get the top N class (here is 1)\n",
        "prediction_labels = get_labels_of_prediction(prediction, 1)\n",
        "# print(prediction_labels)\n",
        "\n",
        "# Convert to a single value list\n",
        "y_cat_predicted = []\n",
        "for p in prediction_labels.items():\n",
        "  y_cat_predicted.append(p[1][0])\n",
        "# print(y_cat_predicted)\n",
        "\n",
        "# Convert real y_test to a list\n",
        "y_cat_real = list(y_cat_test)\n",
        "# print(y_cat_real)"
      ],
      "execution_count": 0,
      "outputs": []
    },
    {
      "metadata": {
        "id": "iadjgmpr6wr4",
        "colab_type": "code",
        "outputId": "36107c88-1f26-42a4-baf0-374eae66b0ed",
        "colab": {
          "base_uri": "https://localhost:8080/",
          "height": 178
        }
      },
      "cell_type": "code",
      "source": [
        "print('Accuracy Score:', accuracy_score(y_cat_real, y_cat_predicted))\n",
        "print('Precision Score:', precision_score(y_cat_real, y_cat_predicted, average='macro'))\n",
        "print('Recall Score:', recall_score(y_cat_real, y_cat_predicted, average='macro'))\n",
        "print('F1 Score:', f1_score(y_cat_real, y_cat_predicted, average='macro'))"
      ],
      "execution_count": 37,
      "outputs": [
        {
          "output_type": "stream",
          "text": [
            "Accuracy Score: 0.7173761339846476\n",
            "Precision Score: 0.4017680968427543\n",
            "Recall Score: 0.31785185079867506\n",
            "F1 Score: 0.3206821375907375\n"
          ],
          "name": "stdout"
        },
        {
          "output_type": "stream",
          "text": [
            "/usr/local/lib/python3.6/dist-packages/sklearn/metrics/classification.py:1143: UndefinedMetricWarning: Precision is ill-defined and being set to 0.0 in labels with no predicted samples.\n",
            "  'precision', 'predicted', average, warn_for)\n",
            "/usr/local/lib/python3.6/dist-packages/sklearn/metrics/classification.py:1143: UndefinedMetricWarning: F-score is ill-defined and being set to 0.0 in labels with no predicted samples.\n",
            "  'precision', 'predicted', average, warn_for)\n"
          ],
          "name": "stderr"
        }
      ]
    },
    {
      "metadata": {
        "id": "eLdwJeM17YEu",
        "colab_type": "text"
      },
      "cell_type": "markdown",
      "source": [
        "## Naive Bayes as Agency Predictor"
      ]
    },
    {
      "metadata": {
        "id": "FJC60_tz62YX",
        "colab_type": "code",
        "outputId": "ac899367-a3b7-43a1-c0ad-f35fb069e42d",
        "colab": {
          "base_uri": "https://localhost:8080/",
          "height": 52
        }
      },
      "cell_type": "code",
      "source": [
        "p_class_ag, p_features_ag = naive_bayes_train(x_ag_train_vec, y_ag_train, ag_vocab)\n",
        "# p_class is probability of each class\n",
        "# print(p_class)\n",
        "# p_features consist of probability of each feature based on each class\n",
        "# print(p_features)"
      ],
      "execution_count": 38,
      "outputs": [
        {
          "output_type": "stream",
          "text": [
            "This model have 2 class\n",
            "This model data have 23461 rows and 4075 columns\n"
          ],
          "name": "stdout"
        }
      ]
    },
    {
      "metadata": {
        "id": "5qsQujBz7fH6",
        "colab_type": "code",
        "colab": {}
      },
      "cell_type": "code",
      "source": [
        "# Make prediction\n",
        "prediction = naive_bayes_test(x_ag_test_vec, y_ag_test, p_class_ag, p_features_ag)\n",
        "# print(prediction)\n",
        "\n",
        "# Get the top N class (here is 1)\n",
        "prediction_labels = get_labels_of_prediction(prediction, 1)\n",
        "# print(prediction_labels)\n",
        "\n",
        "# Convert to a single value list\n",
        "y_ag_predicted = []\n",
        "for p in prediction_labels.items():\n",
        "  y_ag_predicted.append(p[1][0])\n",
        "# print(y_cat_predicted)\n",
        "\n",
        "# Convert real y_test to a list\n",
        "y_ag_real = list(y_ag_test)\n",
        "# print(y_cat_real)"
      ],
      "execution_count": 0,
      "outputs": []
    },
    {
      "metadata": {
        "id": "9aUY9cJGEvuB",
        "colab_type": "code",
        "outputId": "766e8c21-7e73-4b5d-ac22-36b0fdff5146",
        "colab": {
          "base_uri": "https://localhost:8080/",
          "height": 87
        }
      },
      "cell_type": "code",
      "source": [
        "print('Accuracy Score:', accuracy_score(y_ag_real, y_ag_predicted))\n",
        "print('Precision Score:', precision_score(y_ag_real, y_ag_predicted, average='macro'))\n",
        "print('Recall Score:', recall_score(y_ag_real, y_ag_predicted, average='macro'))\n",
        "print('F1 Score:', f1_score(y_ag_real, y_ag_predicted, average='macro'))"
      ],
      "execution_count": 40,
      "outputs": [
        {
          "output_type": "stream",
          "text": [
            "Accuracy Score: 0.9152744630071599\n",
            "Precision Score: 0.9172874059721463\n",
            "Recall Score: 0.9136649154865235\n",
            "F1 Score: 0.9147570866638908\n"
          ],
          "name": "stdout"
        }
      ]
    },
    {
      "metadata": {
        "id": "nSkGwnMuH1b2",
        "colab_type": "text"
      },
      "cell_type": "markdown",
      "source": [
        "# Extra"
      ]
    },
    {
      "metadata": {
        "id": "bqXy6aBkYgYV",
        "colab_type": "text"
      },
      "cell_type": "markdown",
      "source": [
        "## Baseline Models (Sklearn library)"
      ]
    },
    {
      "metadata": {
        "id": "oRwimUZOH3X2",
        "colab_type": "code",
        "colab": {
          "base_uri": "https://localhost:8080/",
          "height": 161
        },
        "outputId": "a7f7daf3-102c-4ee5-cc39-9da09f01d522"
      },
      "cell_type": "code",
      "source": [
        "from sklearn.linear_model import SGDClassifier\n",
        "from sklearn.naive_bayes import MultinomialNB\n",
        "from sklearn.svm import LinearSVC, SVC\n",
        "from sklearn.pipeline import Pipeline\n",
        "\n",
        "# When building the vocabulary ignore terms that have a document frequency strictly lower than\n",
        "# the given threshold. This value is also called cut-off in the literature.\n",
        "min_df = 0.005\n",
        "\n",
        "\n",
        "# Tokenize function used in Vectorizer\n",
        "def tokenize(text):\n",
        "    return word_tokenize(text)\n",
        "\n",
        "\n",
        "# (Multinomial) Naive Bayes Model\n",
        "text_clf = Pipeline([('vect', CountVectorizer(tokenizer=tokenize,\n",
        "                                              analyzer='word', ngram_range=(1, 2), min_df=min_df, lowercase=False)),\n",
        "                     ('tfidf', TfidfTransformer(sublinear_tf=True)),\n",
        "                     ('clf', MultinomialNB())])\n",
        "text_clf = text_clf.fit(x_cat_train_corpus, y_cat_train)\n",
        "naive_score = text_clf.score(x_cat_test_corpus, y_cat_test)\n",
        "print('Naive Bayes Model: ', naive_score)\n",
        "# SGD (Stochastic Gradient Descent) Model\n",
        "text_clf_sgd = Pipeline([('vect', CountVectorizer(tokenizer=tokenize,\n",
        "                                                  analyzer='word', ngram_range=(1, 2), min_df=min_df, lowercase=False)),\n",
        "                         ('tfidf', TfidfTransformer(sublinear_tf=True)),\n",
        "                         ('clf-svm', SGDClassifier(loss='hinge', penalty='l2',\n",
        "                                                   alpha=1e-3, max_iter=5))])\n",
        "text_clf_sgd = text_clf_sgd.fit(x_cat_train_corpus, y_cat_train)\n",
        "sgd_score = text_clf_sgd.score(x_cat_test_corpus, y_cat_test)\n",
        "print('SGD Model: ', sgd_score)\n",
        "\n",
        "# Linear Support Vector Machine Model\n",
        "text_clf_linear_svc = Pipeline([('vect', CountVectorizer(tokenizer=tokenize,\n",
        "                                                         analyzer='word', ngram_range=(1, 2),\n",
        "                                                         min_df=min_df, lowercase=False)),\n",
        "                                ('tfidf', TfidfTransformer(sublinear_tf=True)),\n",
        "                                ('clf-svm', LinearSVC(loss='hinge', penalty='l2',\n",
        "                                                      max_iter=5))])\n",
        "\n",
        "text_clf_linear_svc = text_clf_linear_svc.fit(x_cat_train_corpus, y_cat_train)\n",
        "linear_svc_score = text_clf_linear_svc.score(x_cat_test_corpus, y_cat_test)\n",
        "print('Linear SVC Model: ', linear_svc_score)"
      ],
      "execution_count": 46,
      "outputs": [
        {
          "output_type": "stream",
          "text": [
            "Naive Bayes Model:  0.7194696441032798\n"
          ],
          "name": "stdout"
        },
        {
          "output_type": "stream",
          "text": [
            "/usr/local/lib/python3.6/dist-packages/sklearn/linear_model/stochastic_gradient.py:183: FutureWarning: max_iter and tol parameters have been added in SGDClassifier in 0.19. If max_iter is set but tol is left unset, the default value for tol in 0.19 and 0.20 will be None (which is equivalent to -infinity, so it has no effect) but will change in 0.21 to 1e-3. Specify tol to silence this warning.\n",
            "  FutureWarning)\n"
          ],
          "name": "stderr"
        },
        {
          "output_type": "stream",
          "text": [
            "SGD Model:  0.717725052337753\n"
          ],
          "name": "stdout"
        },
        {
          "output_type": "stream",
          "text": [
            "/usr/local/lib/python3.6/dist-packages/sklearn/svm/base.py:931: ConvergenceWarning: Liblinear failed to converge, increase the number of iterations.\n",
            "  \"the number of iterations.\", ConvergenceWarning)\n"
          ],
          "name": "stderr"
        },
        {
          "output_type": "stream",
          "text": [
            "Linear SVC Model:  0.7386601535240753\n"
          ],
          "name": "stdout"
        }
      ]
    },
    {
      "metadata": {
        "id": "0a8kJHRuYm3M",
        "colab_type": "text"
      },
      "cell_type": "markdown",
      "source": [
        "## Neural Network Model (Keras Bidirectional LSTM)"
      ]
    },
    {
      "metadata": {
        "id": "pT_ZF1h2N2Hy",
        "colab_type": "code",
        "colab": {}
      },
      "cell_type": "code",
      "source": [
        "from keras.layers import Dense, Input, LSTM, Embedding, Dropout\n",
        "from keras.layers import Bidirectional, GlobalMaxPool1D, MaxPooling1D, Convolution1D\n",
        "from keras.layers import CuDNNLSTM\n",
        "from keras.models import Sequential\n",
        "from keras.layers import Flatten\n",
        "from keras.layers.convolutional import Conv1D\n",
        "from keras.models import Model\n",
        "from keras import optimizers\n",
        "import numpy as np\n",
        "import pandas as pd\n",
        "from keras.utils.np_utils import to_categorical\n",
        "from keras.metrics import categorical_accuracy\n",
        "from keras.utils import plot_model\n",
        "from keras.preprocessing.text import Tokenizer\n",
        "from keras.preprocessing.sequence import pad_sequences\n",
        "from gensim.models import KeyedVectors\n",
        "import codecs"
      ],
      "execution_count": 0,
      "outputs": []
    },
    {
      "metadata": {
        "id": "AfIujkoiXbhE",
        "colab_type": "code",
        "colab": {}
      },
      "cell_type": "code",
      "source": [
        "lstm_x_train = x_cat_train['title'].values\n",
        "lstm_x_train = preprocess(lstm_x_train)\n",
        "# test set\n",
        "lstm_x_test = x_cat_test['title'].values\n",
        "lstm_x_test = preprocess(lstm_x_test)"
      ],
      "execution_count": 0,
      "outputs": []
    },
    {
      "metadata": {
        "id": "I9RfPzLsJ-cI",
        "colab_type": "code",
        "colab": {}
      },
      "cell_type": "code",
      "source": [
        "num_words = 10000\n",
        "\n",
        "# create the tokenizer\n",
        "tokenizer = Tokenizer(num_words=num_words)\n",
        "\n",
        "# fit the tokenizer on the documents\n",
        "tokenizer.fit_on_texts(x_cat_train_corpus)\n",
        "\n",
        "# sequence encode\n",
        "encoded_docs = tokenizer.texts_to_sequences(lstm_x_train)\n",
        "\n",
        "# pad sequences\n",
        "max_length = max([len(s.split()) for s in lstm_x_train])\n",
        "x_train_padded = pad_sequences(encoded_docs, maxlen=max_length, padding='post')\n",
        "\n",
        "# define vocabulary size (largest integer value)\n",
        "vocab_size = len(tokenizer.word_index) + 1\n",
        "\n",
        "encoded_docs = tokenizer.texts_to_sequences(lstm_x_test)\n",
        "x_test_padded = pad_sequences(encoded_docs, maxlen=max_length, padding='post')"
      ],
      "execution_count": 0,
      "outputs": []
    },
    {
      "metadata": {
        "id": "Sn9cLfQYURX4",
        "colab_type": "code",
        "colab": {}
      },
      "cell_type": "code",
      "source": [
        "y_cat_train_classes = np.unique(y_cat_train)\n",
        "y_cat_train_classes_len = len(y_cat_train_classes)\n",
        "\n",
        "y_cat_test_classes = np.unique(y_cat_train)\n",
        "y_cat_test_classes_len = len(y_cat_test_classes)"
      ],
      "execution_count": 0,
      "outputs": []
    },
    {
      "metadata": {
        "id": "zBVb1mJwNJjn",
        "colab_type": "code",
        "colab": {
          "base_uri": "https://localhost:8080/",
          "height": 550
        },
        "outputId": "5794640d-5d6c-4740-a765-bea8a8033864"
      },
      "cell_type": "code",
      "source": [
        "categorical_y_train = to_categorical(y_cat_train, y_cat_train_classes_len)\n",
        "categorical_y_test = to_categorical(y_cat_test, y_cat_test_classes_len)\n",
        "\n",
        "model = Sequential()\n",
        "model.add(Embedding(vocab_size, 200, input_length=max_length))\n",
        "model.add(Bidirectional(CuDNNLSTM(100, return_sequences=True, name='lstm_layer')))\n",
        "model.add(GlobalMaxPool1D())\n",
        "model.add(Dropout(0.1))\n",
        "model.add(Dense(200, activation=\"relu\"))\n",
        "model.add(Dropout(0.1))\n",
        "model.add(Dense(y_cat_train_classes_len, activation='softmax'))\n",
        "\n",
        "model.compile(loss='categorical_crossentropy',\n",
        "              optimizer='adam',\n",
        "              metrics=[categorical_accuracy])\n",
        "\n",
        "model.summary()\n",
        "batch_size = 8\n",
        "epochs = 4\n",
        "hist = model.fit(x_train_padded, categorical_y_train, batch_size=batch_size, epochs=epochs)\n",
        "\n",
        "loss, acc = model.evaluate(x_test_padded, categorical_y_test, verbose=0)\n",
        "print('Test Accuracy: %f' % (acc*100))"
      ],
      "execution_count": 159,
      "outputs": [
        {
          "output_type": "stream",
          "text": [
            "_________________________________________________________________\n",
            "Layer (type)                 Output Shape              Param #   \n",
            "=================================================================\n",
            "embedding_29 (Embedding)     (None, 22, 200)           16597200  \n",
            "_________________________________________________________________\n",
            "bidirectional_26 (Bidirectio (None, 22, 200)           241600    \n",
            "_________________________________________________________________\n",
            "global_max_pooling1d_28 (Glo (None, 200)               0         \n",
            "_________________________________________________________________\n",
            "dropout_54 (Dropout)         (None, 200)               0         \n",
            "_________________________________________________________________\n",
            "dense_57 (Dense)             (None, 200)               40200     \n",
            "_________________________________________________________________\n",
            "dropout_55 (Dropout)         (None, 200)               0         \n",
            "_________________________________________________________________\n",
            "dense_58 (Dense)             (None, 20)                4020      \n",
            "=================================================================\n",
            "Total params: 16,883,020\n",
            "Trainable params: 16,883,020\n",
            "Non-trainable params: 0\n",
            "_________________________________________________________________\n",
            "Epoch 1/4\n",
            "11461/11461 [==============================] - 51s 4ms/step - loss: 1.4457 - categorical_accuracy: 0.5459\n",
            "Epoch 2/4\n",
            "11461/11461 [==============================] - 45s 4ms/step - loss: 0.8276 - categorical_accuracy: 0.7361\n",
            "Epoch 3/4\n",
            "11461/11461 [==============================] - 45s 4ms/step - loss: 0.5707 - categorical_accuracy: 0.8165\n",
            "Epoch 4/4\n",
            "11461/11461 [==============================] - 45s 4ms/step - loss: 0.4190 - categorical_accuracy: 0.8667\n",
            "Test Accuracy: 66.189812\n"
          ],
          "name": "stdout"
        }
      ]
    },
    {
      "metadata": {
        "id": "42uzhKQZSST4",
        "colab_type": "code",
        "colab": {}
      },
      "cell_type": "code",
      "source": [
        ""
      ],
      "execution_count": 0,
      "outputs": []
>>>>>>> pr/1
    }
  ]
}