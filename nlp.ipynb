{
 "cells": [
  {
   "cell_type": "code",
   "execution_count": 2,
   "metadata": {
    "scrolled": true
   },
   "outputs": [],
   "source": [
    "import json\n",
    "import nltk\n",
    "import numpy as np\n",
    "# from __future__ import unicode_literals\n",
    "from hazm import *\n",
    "import pandas as pd\n",
    "from collections import OrderedDict\n",
    "from sklearn.model_selection import train_test_split \n",
    "from sklearn.preprocessing import LabelEncoder\n",
    "from sklearn.feature_extraction.text import CountVectorizer,TfidfVectorizer\n",
    "from sklearn.naive_bayes import MultinomialNB\n",
    "import collections\n",
    "import re"
   ]
  },
  {
   "cell_type": "code",
   "execution_count": 3,
   "metadata": {},
   "outputs": [
    {
     "name": "stdout",
     "output_type": "stream",
     "text": [
      "There is 1000 item available\n"
     ]
    }
   ],
   "source": [
    "file = open('out.jsonl', 'r')\n",
    "s = file.readlines()\n",
    "\n",
    "\n",
    "print('There is {} item available'.format(len(s)))"
   ]
  },
  {
   "cell_type": "markdown",
   "metadata": {},
   "source": [
    "##  Json example:\n",
    "   \n",
    "\n",
    "```\n",
    "{\n",
    "  \"_id\": \"5b4f7280020eb20597f40200\",\n",
    "  \"NewsAgency\": \"AsrIran\",\n",
    "  \"newsCode\": \"621582\",\n",
    "  \"newsLink\": \"http://www.asriran.com/fa/news/621582\",\n",
    "  \"date\": \"تاریخ انتشار:  ۱۴:۴۷ - ۲۷ تير ۱۳۹۷ - 18 July 2018\",\n",
    "  \"newsPath\": \"صفحه نخست » اقتصادی\",\n",
    "  \"newsPathLinks\": {\n",
    "    \"صفحه نخست\": \"/fa/archive?service_id=1\",\n",
    "    \"اقتصادی\": \"/fa/archive?service_id=1&amp;cat_id=4\"\n",
    "  },\n",
    "  \"title\": \"تعداد شعب داخلی شبکه بانکي کاهش یافت\",\n",
    "  \"rutitr\": \"\",\n",
    "  \"subtitle\": \"تعداد کل شعب داخل کشور شبکه بانکي در پایان خرداد ماه 1397، به 20598 شعبه ‌رسيد.\",\n",
    "  \"body\": \"تعداد کل شعب داخل کشور شبکه بانکي در پایان خرداد ماه 1397 نسبت به پايان اسفند ماه&nbsp; 1396، 0.6 درصد کاهش یافت.به گزارش عصرایران به نقل از بانک مرکزی، تعداد کل شعب داخل کشور شبکه بانکي در پایان خرداد ماه 1397، به&nbsp; 20598&nbsp; شعبه &zwnj;رسيد.بر این اساس و در پایان خرداد ماه 1397، تعداد شعب بانک هاي دولتي 8681 شعبه ( 42.1 درصد) ، بانک هاي خصوصي شده 6461 شعبه ( 31.4 درصد) و بانک هاي خصوصي و موسسات اعتباري 5456 شعبه ( 26.5 درصد) است.همچنین تعداد کل شعب ريالي ـ ارزي شبکه بانکي کشور بالغ بر 3787 شعبه، تعداد شعب شهري 19735 و شعب روستايي 863 شعبه است.بر اساس این گزارش تعداد شعب خارج از کشور شبکه بانکي تعداد 48 شعبه و تعداد باجه هاي بانکي کشور در پايان خرداد ماه 1397 تعداد 2274&nbsp; باجه است و213 شعبه بانکی نیز در مناطق آزاد تجاري قرار دارند.بررسی تعداد شعب داخل کشور بانک ها و موسسات اعتباری&nbsp; به تفکیک استانی در پایان خرداد ماه سال 1397 نیز نشان می دهد که استان&zwnj;هاي تهران، اصفــهان و خراسان رضوي به &zwnj;ترتيب با 4049، 1431 و 1318 شعبه داراي بيشترين تعداد شعب هستند.گزارش فصلی &laquo;اطلاعات تعداد شعب بانک ها&nbsp; و موسسات اعتباری&raquo; توسط اداره اطلاعات بانکی بانک مرکزی تهیه و در آن تعداد شعب&nbsp; بانک ها و موسسات اعتباری به تفکیک گروه های بانکی و استانی اعلام می شود.\",\n",
    "  \"bodyHtml\": \" <div align=\\\"justify\\\"><img class=\\\"image_btn\\\" style=\\\"margin: 0px 14px;\\\" title=\\\"تعداد شعب داخلی شبکه بانکي کاهش یافت\\\" src=\\\"http://cdn.asriran.com/files/fa/news/1397/4/27/875553_322.jpg\\\" alt=\\\"تعداد شعب داخلی شبکه بانکي کاهش یافت\\\" width=\\\"250\\\" height=\\\"169\\\" align=\\\"left\\\"/>تعداد کل شعب داخل کشور شبکه بانکي در پایان خرداد ماه 1397 نسبت به پايان اسفند ماه&nbsp; 1396، 0.6 درصد کاهش یافت.<br/><br/>به گزارش <span style=\\\"color: #0000cd;\\\">عصرایران</span> به نقل از بانک مرکزی، تعداد کل شعب داخل کشور شبکه بانکي در پایان خرداد ماه 1397، به&nbsp; 20598&nbsp; شعبه &zwnj;رسيد.<br/><br/>بر این اساس و در پایان خرداد ماه 1397، تعداد شعب بانک هاي دولتي 8681 شعبه ( 42.1 درصد) ، بانک هاي خصوصي شده 6461 شعبه ( 31.4 درصد) و بانک هاي خصوصي و موسسات اعتباري 5456 شعبه ( 26.5 درصد) است.<br/><br/>همچنین تعداد کل شعب ريالي ـ ارزي شبکه بانکي کشور بالغ بر 3787 شعبه، تعداد شعب شهري 19735 و شعب روستايي 863 شعبه است.<br/><br/><img class=\\\"image_btn\\\" style=\\\"margin: 0px auto; display: block;\\\" title=\\\"تعداد شعب داخلی شبکه بانکي کاهش یافت\\\" src=\\\"http://cdn.asriran.com/files/fa/news/1397/4/27/875556_701.jpg\\\" alt=\\\"تعداد شعب داخلی شبکه بانکي کاهش یافت\\\" width=\\\"404\\\" height=\\\"300\\\" align=\\\"\\\"/><br/><br/>بر اساس این گزارش تعداد شعب خارج از کشور شبکه بانکي تعداد 48 شعبه و تعداد باجه هاي بانکي کشور در پايان خرداد ماه 1397 تعداد 2274&nbsp; باجه است و213 شعبه بانکی نیز در مناطق آزاد تجاري قرار دارند.<br/><br/>بررسی تعداد شعب داخل کشور بانک ها و موسسات اعتباری&nbsp; به تفکیک استانی در پایان خرداد ماه سال 1397 نیز نشان می دهد که استان&zwnj;هاي تهران، اصفــهان و خراسان رضوي به &zwnj;ترتيب با 4049، 1431 و 1318 شعبه داراي بيشترين تعداد شعب هستند.<br/><br/>گزارش فصلی &laquo;اطلاعات تعداد شعب بانک ها&nbsp; و موسسات اعتباری&raquo; توسط اداره اطلاعات بانکی بانک مرکزی تهیه و در آن تعداد شعب&nbsp; بانک ها و موسسات اعتباری به تفکیک گروه های بانکی و استانی اعلام می شود.</div> <div class=\\\"wrapper\\\"/> \",\n",
    "  \"tags\": {\n",
    "    \"بانک مرکزی\": \"/fa/tag/1/بانک مرکزی\",\n",
    "    \"شعب داخلی\": \"/fa/tag/1/شعب داخلی\"\n",
    "  }\n",
    "}\n",
    "\n",
    "```\n",
    "\n"
   ]
  },
  {
   "cell_type": "markdown",
   "metadata": {},
   "source": [
    "## Load jsons into Dataframe"
   ]
  },
  {
   "cell_type": "code",
   "execution_count": 4,
   "metadata": {},
   "outputs": [
    {
     "data": {
      "text/html": [
       "<div>\n",
       "<style scoped>\n",
       "    .dataframe tbody tr th:only-of-type {\n",
       "        vertical-align: middle;\n",
       "    }\n",
       "\n",
       "    .dataframe tbody tr th {\n",
       "        vertical-align: top;\n",
       "    }\n",
       "\n",
       "    .dataframe thead th {\n",
       "        text-align: right;\n",
       "    }\n",
       "</style>\n",
       "<table border=\"1\" class=\"dataframe\">\n",
       "  <thead>\n",
       "    <tr style=\"text-align: right;\">\n",
       "      <th></th>\n",
       "      <th>body</th>\n",
       "      <th>newsAgency</th>\n",
       "      <th>newsPath</th>\n",
       "      <th>tag</th>\n",
       "      <th>title</th>\n",
       "    </tr>\n",
       "  </thead>\n",
       "  <tbody>\n",
       "    <tr>\n",
       "      <th>0</th>\n",
       "      <td>مدیرعامل سابق استقلال از عضویت در هیات مدیره ا...</td>\n",
       "      <td>AsrIran</td>\n",
       "      <td>ورزشی</td>\n",
       "      <td>استقلال</td>\n",
       "      <td>افتخاری قید ماندن در هیات مدیره استقلال را هم زد</td>\n",
       "    </tr>\n",
       "    <tr>\n",
       "      <th>1</th>\n",
       "      <td>دادستان انتظامی مالیاتی سازمان امور مالیاتی گف...</td>\n",
       "      <td>AsrIran</td>\n",
       "      <td>اجتماعی</td>\n",
       "      <td>مالیات</td>\n",
       "      <td>دادستان انتظامی مالیاتی سازمان مالیات: آخرین ا...</td>\n",
       "    </tr>\n",
       "    <tr>\n",
       "      <th>2</th>\n",
       "      <td>قیمت سبد نفتی اوپک دیروز به روند کاهشی خود ادا...</td>\n",
       "      <td>AsrIran</td>\n",
       "      <td>اقتصادی</td>\n",
       "      <td>اوپک</td>\n",
       "      <td>قیمت سبد نفتی اوپک یک گام دیگر عقب نشست/ 70 دل...</td>\n",
       "    </tr>\n",
       "    <tr>\n",
       "      <th>3</th>\n",
       "      <td>رئیس فراکسیون فرهنگیان مجلس خطاب به وزیر آموزش...</td>\n",
       "      <td>AsrIran</td>\n",
       "      <td>اجتماعی</td>\n",
       "      <td>آموزش و پرورش</td>\n",
       "      <td>حاجی‌بابایی به بطحایی:آقای وزیر در اطلاع‌رسانی...</td>\n",
       "    </tr>\n",
       "    <tr>\n",
       "      <th>4</th>\n",
       "      <td>رئیس صندوق بین&amp;zwnj;المللی پول در آستانه نشست ...</td>\n",
       "      <td>AsrIran</td>\n",
       "      <td>بین الملل</td>\n",
       "      <td>صندوق بین المللی پول</td>\n",
       "      <td>رئیس صندوق بین‌المللی پول: آمریکا از جنگ تعرفه...</td>\n",
       "    </tr>\n",
       "  </tbody>\n",
       "</table>\n",
       "</div>"
      ],
      "text/plain": [
       "                                                body newsAgency   newsPath  \\\n",
       "0  مدیرعامل سابق استقلال از عضویت در هیات مدیره ا...    AsrIran      ورزشی   \n",
       "1  دادستان انتظامی مالیاتی سازمان امور مالیاتی گف...    AsrIran    اجتماعی   \n",
       "2  قیمت سبد نفتی اوپک دیروز به روند کاهشی خود ادا...    AsrIran    اقتصادی   \n",
       "3  رئیس فراکسیون فرهنگیان مجلس خطاب به وزیر آموزش...    AsrIran    اجتماعی   \n",
       "4  رئیس صندوق بین&zwnj;المللی پول در آستانه نشست ...    AsrIran  بین الملل   \n",
       "\n",
       "                    tag                                              title  \n",
       "0               استقلال   افتخاری قید ماندن در هیات مدیره استقلال را هم زد  \n",
       "1                مالیات  دادستان انتظامی مالیاتی سازمان مالیات: آخرین ا...  \n",
       "2                  اوپک  قیمت سبد نفتی اوپک یک گام دیگر عقب نشست/ 70 دل...  \n",
       "3         آموزش و پرورش  حاجی‌بابایی به بطحایی:آقای وزیر در اطلاع‌رسانی...  \n",
       "4  صندوق بین المللی پول  رئیس صندوق بین‌المللی پول: آمریکا از جنگ تعرفه...  "
      ]
     },
     "execution_count": 4,
     "metadata": {},
     "output_type": "execute_result"
    }
   ],
   "source": [
    "def prepare_json(j):\n",
    "#     clear newsPath\n",
    "    newsPath = j['newsPath']\n",
    "    newsPath = newsPath.replace('عصرايران دو » ','')\n",
    "    newsPath = newsPath.replace('صفحه نخست » ','')\n",
    "    j['newsPath'] = newsPath\n",
    "\n",
    "    \n",
    "    \n",
    "    return j\n",
    "    \n",
    "        \n",
    "raw_data = []\n",
    "for item in s:\n",
    "    try:\n",
    "        j = json.loads(item)\n",
    "\n",
    "        prepare_json(j)\n",
    "#         print(list(j['tags'].keys())[0])\n",
    "        raw_data.append({'title': j['title'], 'body':j['body'], 'newsAgency': j['NewsAgency'],\n",
    "                         'newsPath':j['newsPath'], 'tag':list(j['tags'].keys())[0] })\n",
    "    except:\n",
    "        pass\n",
    "df = pd.DataFrame(raw_data)\n",
    "df.head()"
   ]
  },
  {
   "cell_type": "markdown",
   "metadata": {},
   "source": [
    "# Encoding categorical features "
   ]
  },
  {
   "cell_type": "code",
   "execution_count": 9,
   "metadata": {},
   "outputs": [
    {
     "data": {
      "text/html": [
       "<div>\n",
       "<style scoped>\n",
       "    .dataframe tbody tr th:only-of-type {\n",
       "        vertical-align: middle;\n",
       "    }\n",
       "\n",
       "    .dataframe tbody tr th {\n",
       "        vertical-align: top;\n",
       "    }\n",
       "\n",
       "    .dataframe thead th {\n",
       "        text-align: right;\n",
       "    }\n",
       "</style>\n",
       "<table border=\"1\" class=\"dataframe\">\n",
       "  <thead>\n",
       "    <tr style=\"text-align: right;\">\n",
       "      <th></th>\n",
       "      <th>title</th>\n",
       "      <th>body</th>\n",
       "      <th>newsAgency</th>\n",
       "      <th>tag</th>\n",
       "    </tr>\n",
       "  </thead>\n",
       "  <tbody>\n",
       "    <tr>\n",
       "      <th>0</th>\n",
       "      <td>افتخاری قید ماندن در هیات مدیره استقلال را هم زد</td>\n",
       "      <td>مدیرعامل سابق استقلال از عضویت در هیات مدیره ا...</td>\n",
       "      <td>0</td>\n",
       "      <td>استقلال</td>\n",
       "    </tr>\n",
       "    <tr>\n",
       "      <th>1</th>\n",
       "      <td>دادستان انتظامی مالیاتی سازمان مالیات: آخرین ا...</td>\n",
       "      <td>دادستان انتظامی مالیاتی سازمان امور مالیاتی گف...</td>\n",
       "      <td>0</td>\n",
       "      <td>مالیات</td>\n",
       "    </tr>\n",
       "    <tr>\n",
       "      <th>2</th>\n",
       "      <td>قیمت سبد نفتی اوپک یک گام دیگر عقب نشست/ 70 دل...</td>\n",
       "      <td>قیمت سبد نفتی اوپک دیروز به روند کاهشی خود ادا...</td>\n",
       "      <td>0</td>\n",
       "      <td>اوپک</td>\n",
       "    </tr>\n",
       "    <tr>\n",
       "      <th>3</th>\n",
       "      <td>حاجی‌بابایی به بطحایی:آقای وزیر در اطلاع‌رسانی...</td>\n",
       "      <td>رئیس فراکسیون فرهنگیان مجلس خطاب به وزیر آموزش...</td>\n",
       "      <td>0</td>\n",
       "      <td>آموزش و پرورش</td>\n",
       "    </tr>\n",
       "    <tr>\n",
       "      <th>4</th>\n",
       "      <td>رئیس صندوق بین‌المللی پول: آمریکا از جنگ تعرفه...</td>\n",
       "      <td>رئیس صندوق بین&amp;zwnj;المللی پول در آستانه نشست ...</td>\n",
       "      <td>0</td>\n",
       "      <td>صندوق بین المللی پول</td>\n",
       "    </tr>\n",
       "  </tbody>\n",
       "</table>\n",
       "</div>"
      ],
      "text/plain": [
       "                                               title  \\\n",
       "0   افتخاری قید ماندن در هیات مدیره استقلال را هم زد   \n",
       "1  دادستان انتظامی مالیاتی سازمان مالیات: آخرین ا...   \n",
       "2  قیمت سبد نفتی اوپک یک گام دیگر عقب نشست/ 70 دل...   \n",
       "3  حاجی‌بابایی به بطحایی:آقای وزیر در اطلاع‌رسانی...   \n",
       "4  رئیس صندوق بین‌المللی پول: آمریکا از جنگ تعرفه...   \n",
       "\n",
       "                                                body  newsAgency  \\\n",
       "0  مدیرعامل سابق استقلال از عضویت در هیات مدیره ا...           0   \n",
       "1  دادستان انتظامی مالیاتی سازمان امور مالیاتی گف...           0   \n",
       "2  قیمت سبد نفتی اوپک دیروز به روند کاهشی خود ادا...           0   \n",
       "3  رئیس فراکسیون فرهنگیان مجلس خطاب به وزیر آموزش...           0   \n",
       "4  رئیس صندوق بین&zwnj;المللی پول در آستانه نشست ...           0   \n",
       "\n",
       "                    tag  \n",
       "0               استقلال  \n",
       "1                مالیات  \n",
       "2                  اوپک  \n",
       "3         آموزش و پرورش  \n",
       "4  صندوق بین المللی پول  "
      ]
     },
     "execution_count": 9,
     "metadata": {},
     "output_type": "execute_result"
    }
   ],
   "source": [
    "categories = ['newsAgency','newsPath']\n",
    "\n",
    "le = LabelEncoder()\n",
    "df[categories] = df[categories].apply(le.fit_transform)\n",
    "\n",
    "\n",
    "\n",
    "\n",
    "X = df[['title','body','newsAgency','tag']]\n",
    "y = df['newsPath']\n",
    "\n",
    "X.head()\n",
    "# y.head()"
   ]
  },
  {
   "cell_type": "markdown",
   "metadata": {},
   "source": [
    "# split Trainset and Testset"
   ]
  },
  {
   "cell_type": "code",
   "execution_count": 10,
   "metadata": {},
   "outputs": [
    {
     "name": "stdout",
     "output_type": "stream",
     "text": [
      "Train size:  698\n",
      "Test size :  300\n"
     ]
    }
   ],
   "source": [
    "X_train, X_test, y_train, y_test = train_test_split(X,y, test_size=0.3, random_state=42)\n",
    "\n",
    "print('Train size: ',len(X_train))\n",
    "print('Test size : ',len(X_test))"
   ]
  },
  {
   "cell_type": "code",
   "execution_count": 11,
   "metadata": {},
   "outputs": [],
   "source": [
    "def calculate_classes_probebility(words_class_dict, N_document):\n",
    "    '''\n",
    "    P(Ci) = (number of document in class 'i') / N_document\n",
    "    \n",
    "    @param words_class_dict : dictionary which keys are classes and values are number of words in that class\n",
    "    @param N_document : number of all words \n",
    "    \n",
    "    @return : dictionary which keys are classes and values are probebility of each class\n",
    "    \n",
    "    \n",
    "    example: calculate_classes_probebility({'0':10,'1':20,'2':15}, 45)\n",
    "    '''\n",
    "    \n",
    "    \n",
    "    probs = {}\n",
    "    \n",
    "    for class_name, doc_num in words_class_dict.items():\n",
    "        probs[class_name] = doc_num/N_document\n",
    "        \n",
    "    return probs\n",
    "\n",
    "\n",
    "def calculate_likelihood_of_word(word_class_dict, class_doc_count_dict):\n",
    "    '''\n",
    "    P(Wi|Cj) = (number of Wi in class 'j') / (total number of words in class 'Cj')\n",
    "    \n",
    "    @param word_class_dict : dictionary which keys are classes and values are number of words in that class\n",
    "    @param class_doc_count_dict : number of all words \n",
    "    \n",
    "    @return : dictionary which keys are words and values are probebility of each class\n",
    "    \n",
    "    \n",
    "    \n",
    "    '''"
   ]
  },
  {
   "cell_type": "code",
   "execution_count": 12,
   "metadata": {},
   "outputs": [
    {
     "data": {
      "text/plain": [
       "{'0': 0.2222222222222222, '1': 0.4444444444444444, '2': 0.3333333333333333}"
      ]
     },
     "execution_count": 12,
     "metadata": {},
     "output_type": "execute_result"
    }
   ],
   "source": [
    "calculate_classes_probebility({'0':10,'1':20,'2':15},45)"
   ]
  },
  {
   "cell_type": "markdown",
   "metadata": {},
   "source": []
  },
  {
   "cell_type": "code",
   "execution_count": 15,
   "metadata": {},
   "outputs": [],
   "source": [
    "def preprocess(data):\n",
    "    normalizer = Normalizer()\n",
    "    stemmer = Stemmer()\n",
    "    lemmatizer = Lemmatizer()\n",
    "    \n",
    "    final_tokens = []\n",
    "\n",
    "    for item in data:\n",
    "        for sent in sent_tokenize(item):\n",
    "            sent = normalizer.normalize(sent)\n",
    "            tokens = word_tokenize(sent) \n",
    "#             stems = []\n",
    "#             lemas = []\n",
    "#             print(tokens)\n",
    "\n",
    "            for t in tokens:\n",
    "                final_tokens.append(stemmer.stem(t))\n",
    "#                 lemas.append(lemmatizer.lemmatize(stems))\n",
    "#             print(stems)\n",
    "#             print('-------------------------------------------------------')\n",
    "    return final_tokens"
   ]
  },
  {
   "cell_type": "code",
   "execution_count": 33,
   "metadata": {},
   "outputs": [
    {
     "name": "stdout",
     "output_type": "stream",
     "text": [
      "[[0 0 0 ... 0 0 0]\n",
      " [0 0 0 ... 0 0 0]\n",
      " [0 0 0 ... 0 0 0]\n",
      " ...\n",
      " [0 0 0 ... 0 0 0]\n",
      " [0 0 0 ... 0 0 0]\n",
      " [0 0 0 ... 0 0 0]]\n",
      "*******\n"
     ]
    },
    {
     "data": {
      "text/plain": [
       "(299, 3423)"
      ]
     },
     "execution_count": 33,
     "metadata": {},
     "output_type": "execute_result"
    }
   ],
   "source": [
    "\n",
    "\n",
    "vectorizer = CountVectorizer()\n",
    "data_corpus = X['title'].values\n",
    "# test_corpus = X_test['title'].values\n",
    "\n",
    "\n",
    "# labeled_features = dict(zip(data_corpus , y_train.values))\n",
    "\n",
    "\n",
    "# data_corpus = preprocess(data_corpus)\n",
    "\n",
    "words = vectorizer.fit_transform(data_corpus) \n",
    "# test_words = vectorizer.fit_transform(test_corpus)\n",
    "\n",
    "print(words.toarray())\n",
    "print('*******')\n",
    "# print(test_words.toarray())\n",
    "# labeled_features.items\n",
    "# print(vectorizer.get_feature_names())\n",
    "# print(all_words_in_title)\n",
    "# sum(words.toarray()[4])\n",
    "words[699:].shape\n"
   ]
  },
  {
   "cell_type": "code",
   "execution_count": 42,
   "metadata": {},
   "outputs": [
    {
     "data": {
      "text/plain": [
       "MultinomialNB(alpha=1.0, class_prior=None, fit_prior=True)"
      ]
     },
     "execution_count": 42,
     "metadata": {},
     "output_type": "execute_result"
    }
   ],
   "source": [
    "classifier = MultinomialNB()\n",
    "\n",
    "classifier.fit(words[0:698].toarray(),y_train.values)\n",
    "\n"
   ]
  },
  {
   "cell_type": "code",
   "execution_count": 39,
   "metadata": {},
   "outputs": [
    {
     "data": {
      "text/plain": [
       "50"
      ]
     },
     "execution_count": 39,
     "metadata": {},
     "output_type": "execute_result"
    }
   ],
   "source": [
    "predict = classifier.predict(words[699:].toarray())\n",
    "sum(predict == y_test)"
   ]
  },
  {
   "cell_type": "markdown",
   "metadata": {},
   "source": [
    "\n",
    "# TFIDF "
   ]
  },
  {
   "cell_type": "code",
   "execution_count": 223,
   "metadata": {},
   "outputs": [],
   "source": [
    "data_corpus = X_train['title'].values\n",
    "# data_corpus = [re.sub('([0-9])+','00number00',data) for data in data_corpus]\n",
    "\n",
    "tfidf = TfidfVectorizer(min_df=2, max_df=0.5,ngram_range=(1,0))\n",
    "features = tfidf.fit_transform(data_corpus)\n",
    "\n",
    "tfidf_values = pd.DataFrame(features.todense(),columns=tfidf.get_feature_names())\n",
    "\n",
    "\n",
    "test_corpus = X_test['title'].values\n",
    "# data_corpus = [re.sub('([0-9])+','00number00',data) for data in data_corpus]\n",
    "\n",
    "test_tfidf = TfidfVectorizer(min_df=2, max_df=0.5,ngram_range=(1,0))\n",
    "test_features = test_tfidf.fit_transform(test_corpus)\n",
    "\n",
    "test_tfidf_values = pd.DataFrame(test_features.todense(), columns=test_tfidf.get_feature_names())\n"
   ]
  },
  {
   "cell_type": "code",
   "execution_count": 228,
   "metadata": {},
   "outputs": [
    {
     "data": {
      "text/plain": [
       "(698, 1076)"
      ]
     },
     "execution_count": 228,
     "metadata": {},
     "output_type": "execute_result"
    }
   ],
   "source": [
    "tfidf_values.shape"
   ]
  },
  {
   "cell_type": "code",
   "execution_count": 225,
   "metadata": {},
   "outputs": [
    {
     "data": {
      "text/plain": [
       "MultinomialNB(alpha=1.0, class_prior=None, fit_prior=True)"
      ]
     },
     "execution_count": 225,
     "metadata": {},
     "output_type": "execute_result"
    }
   ],
   "source": [
    "classifier = MultinomialNB()\n",
    "\n",
    "classifier.fit(tfidf_values ,y_train.values)\n",
    "\n"
   ]
  },
  {
   "cell_type": "code",
   "execution_count": 229,
   "metadata": {},
   "outputs": [
    {
     "ename": "ValueError",
     "evalue": "could not convert string to float: 'قاچاق بنزین رونق گرفت/ خرید و فروش کارت سوخت با قیمت 30 تا 50 هزار تومان!'",
     "output_type": "error",
     "traceback": [
      "\u001b[0;31m---------------------------------------------------------------------------\u001b[0m",
      "\u001b[0;31mValueError\u001b[0m                                Traceback (most recent call last)",
      "\u001b[0;32m<ipython-input-229-7b6098ed8d7c>\u001b[0m in \u001b[0;36m<module>\u001b[0;34m()\u001b[0m\n\u001b[0;32m----> 1\u001b[0;31m \u001b[0mclassifier\u001b[0m\u001b[0;34m.\u001b[0m\u001b[0mpredict\u001b[0m\u001b[0;34m(\u001b[0m\u001b[0mX_test\u001b[0m\u001b[0;34m[\u001b[0m\u001b[0;34m'title'\u001b[0m\u001b[0;34m]\u001b[0m\u001b[0;34m.\u001b[0m\u001b[0mvalues\u001b[0m\u001b[0;34m)\u001b[0m\u001b[0;34m\u001b[0m\u001b[0;34m\u001b[0m\u001b[0m\n\u001b[0m",
      "\u001b[0;32m~/.local/lib/python3.6/site-packages/sklearn/naive_bayes.py\u001b[0m in \u001b[0;36mpredict\u001b[0;34m(self, X)\u001b[0m\n\u001b[1;32m     64\u001b[0m             \u001b[0mPredicted\u001b[0m \u001b[0mtarget\u001b[0m \u001b[0mvalues\u001b[0m \u001b[0;32mfor\u001b[0m \u001b[0mX\u001b[0m\u001b[0;34m\u001b[0m\u001b[0;34m\u001b[0m\u001b[0m\n\u001b[1;32m     65\u001b[0m         \"\"\"\n\u001b[0;32m---> 66\u001b[0;31m         \u001b[0mjll\u001b[0m \u001b[0;34m=\u001b[0m \u001b[0mself\u001b[0m\u001b[0;34m.\u001b[0m\u001b[0m_joint_log_likelihood\u001b[0m\u001b[0;34m(\u001b[0m\u001b[0mX\u001b[0m\u001b[0;34m)\u001b[0m\u001b[0;34m\u001b[0m\u001b[0;34m\u001b[0m\u001b[0m\n\u001b[0m\u001b[1;32m     67\u001b[0m         \u001b[0;32mreturn\u001b[0m \u001b[0mself\u001b[0m\u001b[0;34m.\u001b[0m\u001b[0mclasses_\u001b[0m\u001b[0;34m[\u001b[0m\u001b[0mnp\u001b[0m\u001b[0;34m.\u001b[0m\u001b[0margmax\u001b[0m\u001b[0;34m(\u001b[0m\u001b[0mjll\u001b[0m\u001b[0;34m,\u001b[0m \u001b[0maxis\u001b[0m\u001b[0;34m=\u001b[0m\u001b[0;36m1\u001b[0m\u001b[0;34m)\u001b[0m\u001b[0;34m]\u001b[0m\u001b[0;34m\u001b[0m\u001b[0;34m\u001b[0m\u001b[0m\n\u001b[1;32m     68\u001b[0m \u001b[0;34m\u001b[0m\u001b[0m\n",
      "\u001b[0;32m~/.local/lib/python3.6/site-packages/sklearn/naive_bayes.py\u001b[0m in \u001b[0;36m_joint_log_likelihood\u001b[0;34m(self, X)\u001b[0m\n\u001b[1;32m    722\u001b[0m         \u001b[0mcheck_is_fitted\u001b[0m\u001b[0;34m(\u001b[0m\u001b[0mself\u001b[0m\u001b[0;34m,\u001b[0m \u001b[0;34m\"classes_\"\u001b[0m\u001b[0;34m)\u001b[0m\u001b[0;34m\u001b[0m\u001b[0;34m\u001b[0m\u001b[0m\n\u001b[1;32m    723\u001b[0m \u001b[0;34m\u001b[0m\u001b[0m\n\u001b[0;32m--> 724\u001b[0;31m         \u001b[0mX\u001b[0m \u001b[0;34m=\u001b[0m \u001b[0mcheck_array\u001b[0m\u001b[0;34m(\u001b[0m\u001b[0mX\u001b[0m\u001b[0;34m,\u001b[0m \u001b[0maccept_sparse\u001b[0m\u001b[0;34m=\u001b[0m\u001b[0;34m'csr'\u001b[0m\u001b[0;34m)\u001b[0m\u001b[0;34m\u001b[0m\u001b[0;34m\u001b[0m\u001b[0m\n\u001b[0m\u001b[1;32m    725\u001b[0m         return (safe_sparse_dot(X, self.feature_log_prob_.T) +\n\u001b[1;32m    726\u001b[0m                 self.class_log_prior_)\n",
      "\u001b[0;32m~/.local/lib/python3.6/site-packages/sklearn/utils/validation.py\u001b[0m in \u001b[0;36mcheck_array\u001b[0;34m(array, accept_sparse, dtype, order, copy, force_all_finite, ensure_2d, allow_nd, ensure_min_samples, ensure_min_features, warn_on_dtype, estimator)\u001b[0m\n\u001b[1;32m    431\u001b[0m                                       force_all_finite)\n\u001b[1;32m    432\u001b[0m     \u001b[0;32melse\u001b[0m\u001b[0;34m:\u001b[0m\u001b[0;34m\u001b[0m\u001b[0;34m\u001b[0m\u001b[0m\n\u001b[0;32m--> 433\u001b[0;31m         \u001b[0marray\u001b[0m \u001b[0;34m=\u001b[0m \u001b[0mnp\u001b[0m\u001b[0;34m.\u001b[0m\u001b[0marray\u001b[0m\u001b[0;34m(\u001b[0m\u001b[0marray\u001b[0m\u001b[0;34m,\u001b[0m \u001b[0mdtype\u001b[0m\u001b[0;34m=\u001b[0m\u001b[0mdtype\u001b[0m\u001b[0;34m,\u001b[0m \u001b[0morder\u001b[0m\u001b[0;34m=\u001b[0m\u001b[0morder\u001b[0m\u001b[0;34m,\u001b[0m \u001b[0mcopy\u001b[0m\u001b[0;34m=\u001b[0m\u001b[0mcopy\u001b[0m\u001b[0;34m)\u001b[0m\u001b[0;34m\u001b[0m\u001b[0;34m\u001b[0m\u001b[0m\n\u001b[0m\u001b[1;32m    434\u001b[0m \u001b[0;34m\u001b[0m\u001b[0m\n\u001b[1;32m    435\u001b[0m         \u001b[0;32mif\u001b[0m \u001b[0mensure_2d\u001b[0m\u001b[0;34m:\u001b[0m\u001b[0;34m\u001b[0m\u001b[0;34m\u001b[0m\u001b[0m\n",
      "\u001b[0;31mValueError\u001b[0m: could not convert string to float: 'قاچاق بنزین رونق گرفت/ خرید و فروش کارت سوخت با قیمت 30 تا 50 هزار تومان!'"
     ]
    }
   ],
   "source": [
    "classifier.predict(tfidf_values)"
   ]
  },
  {
   "cell_type": "code",
   "execution_count": null,
   "metadata": {},
   "outputs": [],
   "source": []
  }
 ],
 "metadata": {
  "kernelspec": {
   "display_name": "Python 3",
   "language": "python",
   "name": "python3"
  },
  "language_info": {
   "codemirror_mode": {
    "name": "ipython",
    "version": 3
   },
   "file_extension": ".py",
   "mimetype": "text/x-python",
   "name": "python",
   "nbconvert_exporter": "python",
   "pygments_lexer": "ipython3",
   "version": "3.6.7"
  }
 },
 "nbformat": 4,
 "nbformat_minor": 2
}
